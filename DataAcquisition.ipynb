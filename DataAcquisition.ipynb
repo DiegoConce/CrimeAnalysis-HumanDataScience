{
 "cells": [
  {
   "cell_type": "code",
   "execution_count": 1,
   "outputs": [],
   "source": [
    "import pandas\n",
    "import pandas as pd\n",
    "import numpy as np\n",
    "import matplotlib.pyplot as plt\n",
    "import scipy\n",
    "import seaborn as sns"
   ],
   "metadata": {
    "collapsed": false,
    "ExecuteTime": {
     "end_time": "2023-11-02T15:41:36.405335600Z",
     "start_time": "2023-11-02T15:41:36.385400200Z"
    }
   },
   "id": "a40ea28f59cb3ac5"
  },
  {
   "cell_type": "markdown",
   "source": [
    "# Human Data Science - Course Project"
   ],
   "metadata": {
    "collapsed": false
   },
   "id": "c7a91a9001f67d16"
  },
  {
   "cell_type": "markdown",
   "source": [
    "## Costruzione dei dataset\n",
    "L'obiettivo è la creazione più dataset contenenti dati riguardo al crimine e fattori socio-economici che possono influenzare il crimine stesso per ogni paese dell'Unione Europea.\n",
    "\n",
    "### ! trova un modo per scalare l'income mediano\n",
    "\n",
    "I dati riguardo i crimini commessi sono forniti da [Eurostat](https://ec.europa.eu/eurostat/databrowser/view/crim_off_cat__custom_8028311/default/table?lang=en), [Explanatory Texts](https://ec.europa.eu/eurostat/cache/metadata/en/crim_off_cat_esms.htm)"
   ],
   "metadata": {
    "collapsed": false
   },
   "id": "581bea6cf67f22d7"
  },
  {
   "cell_type": "code",
   "execution_count": 2,
   "outputs": [
    {
     "data": {
      "text/plain": "    freq,iccs,unit,geo\\TIME_PERIOD    2016    2017    2018    2019    2020    \n0            A,ICCS0101,P_HTHAB,AT    0.56     0.70    0.83    0.84    0.61  \\\n1            A,ICCS0101,P_HTHAB,BE    1.55     1.74    1.68    1.27    1.26   \n2            A,ICCS0101,P_HTHAB,BG    1.10     1.34    1.30    1.14    0.95   \n3            A,ICCS0101,P_HTHAB,CY    1.30     0.82    1.62    1.48    1.69   \n4            A,ICCS0101,P_HTHAB,CZ    0.62     0.38    0.52    0.76    0.53   \n..                             ...      ...     ...     ...     ...     ...   \n103          A,ICCS0703,P_HTHAB,PT    1.47     1.71    1.61    1.65    1.50   \n104          A,ICCS0703,P_HTHAB,RO    7.09    27.67   22.42   21.07   17.66   \n105          A,ICCS0703,P_HTHAB,SE  213.55   211.05  207.81  201.53  191.63   \n106          A,ICCS0703,P_HTHAB,SI   56.15    47.00   10.31   10.52   14.89   \n107          A,ICCS0703,P_HTHAB,SK    1.94     3.07    2.77    2.50    2.40   \n\n      2021   \n0      0.66  \n1      1.26  \n2      1.27  \n3      1.56  \n4      0.43  \n..      ...  \n103    2.06  \n104   20.92  \n105  205.03  \n106   11.38  \n107    3.41  \n\n[108 rows x 7 columns]",
      "text/html": "<div>\n<style scoped>\n    .dataframe tbody tr th:only-of-type {\n        vertical-align: middle;\n    }\n\n    .dataframe tbody tr th {\n        vertical-align: top;\n    }\n\n    .dataframe thead th {\n        text-align: right;\n    }\n</style>\n<table border=\"1\" class=\"dataframe\">\n  <thead>\n    <tr style=\"text-align: right;\">\n      <th></th>\n      <th>freq,iccs,unit,geo\\TIME_PERIOD</th>\n      <th>2016</th>\n      <th>2017</th>\n      <th>2018</th>\n      <th>2019</th>\n      <th>2020</th>\n      <th>2021</th>\n    </tr>\n  </thead>\n  <tbody>\n    <tr>\n      <th>0</th>\n      <td>A,ICCS0101,P_HTHAB,AT</td>\n      <td>0.56</td>\n      <td>0.70</td>\n      <td>0.83</td>\n      <td>0.84</td>\n      <td>0.61</td>\n      <td>0.66</td>\n    </tr>\n    <tr>\n      <th>1</th>\n      <td>A,ICCS0101,P_HTHAB,BE</td>\n      <td>1.55</td>\n      <td>1.74</td>\n      <td>1.68</td>\n      <td>1.27</td>\n      <td>1.26</td>\n      <td>1.26</td>\n    </tr>\n    <tr>\n      <th>2</th>\n      <td>A,ICCS0101,P_HTHAB,BG</td>\n      <td>1.10</td>\n      <td>1.34</td>\n      <td>1.30</td>\n      <td>1.14</td>\n      <td>0.95</td>\n      <td>1.27</td>\n    </tr>\n    <tr>\n      <th>3</th>\n      <td>A,ICCS0101,P_HTHAB,CY</td>\n      <td>1.30</td>\n      <td>0.82</td>\n      <td>1.62</td>\n      <td>1.48</td>\n      <td>1.69</td>\n      <td>1.56</td>\n    </tr>\n    <tr>\n      <th>4</th>\n      <td>A,ICCS0101,P_HTHAB,CZ</td>\n      <td>0.62</td>\n      <td>0.38</td>\n      <td>0.52</td>\n      <td>0.76</td>\n      <td>0.53</td>\n      <td>0.43</td>\n    </tr>\n    <tr>\n      <th>...</th>\n      <td>...</td>\n      <td>...</td>\n      <td>...</td>\n      <td>...</td>\n      <td>...</td>\n      <td>...</td>\n      <td>...</td>\n    </tr>\n    <tr>\n      <th>103</th>\n      <td>A,ICCS0703,P_HTHAB,PT</td>\n      <td>1.47</td>\n      <td>1.71</td>\n      <td>1.61</td>\n      <td>1.65</td>\n      <td>1.50</td>\n      <td>2.06</td>\n    </tr>\n    <tr>\n      <th>104</th>\n      <td>A,ICCS0703,P_HTHAB,RO</td>\n      <td>7.09</td>\n      <td>27.67</td>\n      <td>22.42</td>\n      <td>21.07</td>\n      <td>17.66</td>\n      <td>20.92</td>\n    </tr>\n    <tr>\n      <th>105</th>\n      <td>A,ICCS0703,P_HTHAB,SE</td>\n      <td>213.55</td>\n      <td>211.05</td>\n      <td>207.81</td>\n      <td>201.53</td>\n      <td>191.63</td>\n      <td>205.03</td>\n    </tr>\n    <tr>\n      <th>106</th>\n      <td>A,ICCS0703,P_HTHAB,SI</td>\n      <td>56.15</td>\n      <td>47.00</td>\n      <td>10.31</td>\n      <td>10.52</td>\n      <td>14.89</td>\n      <td>11.38</td>\n    </tr>\n    <tr>\n      <th>107</th>\n      <td>A,ICCS0703,P_HTHAB,SK</td>\n      <td>1.94</td>\n      <td>3.07</td>\n      <td>2.77</td>\n      <td>2.50</td>\n      <td>2.40</td>\n      <td>3.41</td>\n    </tr>\n  </tbody>\n</table>\n<p>108 rows × 7 columns</p>\n</div>"
     },
     "metadata": {},
     "output_type": "display_data"
    }
   ],
   "source": [
    "df = pandas.read_table('data/crime/crim_off_cat.tsv') \n",
    "\n",
    "display(df)"
   ],
   "metadata": {
    "collapsed": false,
    "ExecuteTime": {
     "end_time": "2023-11-02T15:41:36.433498400Z",
     "start_time": "2023-11-02T15:41:36.388380800Z"
    }
   },
   "id": "1056160955c1264b"
  },
  {
   "cell_type": "code",
   "execution_count": 3,
   "outputs": [],
   "source": [
    "split = df[\"freq,iccs,unit,geo\\\\TIME_PERIOD\"].str.split(\",\", expand=True)\n",
    "split.columns = [\"freq\", \"iccs\", \"unit\", \"geo\"]\n",
    "split.drop(columns=[\"freq\", \"unit\"], inplace=True)\n",
    "split = split[[\"geo\", \"iccs\"]]\n",
    "\n",
    "df = pd.concat([df, split], axis=1)\n",
    "df.drop(columns=[\"freq,iccs,unit,geo\\\\TIME_PERIOD\"], inplace=True)\n",
    "\n",
    "df.rename(columns=lambda x: x.strip(), inplace=True)"
   ],
   "metadata": {
    "collapsed": false,
    "ExecuteTime": {
     "end_time": "2023-11-02T15:41:36.433498400Z",
     "start_time": "2023-11-02T15:41:36.424664900Z"
    }
   },
   "id": "f36b66d8f4dc1c29"
  },
  {
   "cell_type": "code",
   "execution_count": 4,
   "outputs": [
    {
     "data": {
      "text/plain": "        2016    2017    2018    2019    2020    2021       geo      iccs\n0      0.56     0.70    0.83    0.84    0.61    0.66   Austria  ICCS0101\n1      1.55     1.74    1.68    1.27    1.26    1.26   Belgium  ICCS0101\n2      1.10     1.34    1.30    1.14    0.95    1.27  Bulgaria  ICCS0101\n3      1.30     0.82    1.62    1.48    1.69    1.56    Cyprus  ICCS0101\n4      0.62     0.38    0.52    0.76    0.53    0.43   Czechia  ICCS0101\n..       ...     ...     ...     ...     ...     ...       ...       ...\n103    1.47     1.71    1.61    1.65    1.50    2.06  Portugal  ICCS0703\n104    7.09    27.67   22.42   21.07   17.66   20.92   Romania  ICCS0703\n105  213.55   211.05  207.81  201.53  191.63  205.03    Sweden  ICCS0703\n106   56.15    47.00   10.31   10.52   14.89   11.38  Slovenia  ICCS0703\n107    1.94     3.07    2.77    2.50    2.40    3.41  Slovakia  ICCS0703\n\n[108 rows x 8 columns]",
      "text/html": "<div>\n<style scoped>\n    .dataframe tbody tr th:only-of-type {\n        vertical-align: middle;\n    }\n\n    .dataframe tbody tr th {\n        vertical-align: top;\n    }\n\n    .dataframe thead th {\n        text-align: right;\n    }\n</style>\n<table border=\"1\" class=\"dataframe\">\n  <thead>\n    <tr style=\"text-align: right;\">\n      <th></th>\n      <th>2016</th>\n      <th>2017</th>\n      <th>2018</th>\n      <th>2019</th>\n      <th>2020</th>\n      <th>2021</th>\n      <th>geo</th>\n      <th>iccs</th>\n    </tr>\n  </thead>\n  <tbody>\n    <tr>\n      <th>0</th>\n      <td>0.56</td>\n      <td>0.70</td>\n      <td>0.83</td>\n      <td>0.84</td>\n      <td>0.61</td>\n      <td>0.66</td>\n      <td>Austria</td>\n      <td>ICCS0101</td>\n    </tr>\n    <tr>\n      <th>1</th>\n      <td>1.55</td>\n      <td>1.74</td>\n      <td>1.68</td>\n      <td>1.27</td>\n      <td>1.26</td>\n      <td>1.26</td>\n      <td>Belgium</td>\n      <td>ICCS0101</td>\n    </tr>\n    <tr>\n      <th>2</th>\n      <td>1.10</td>\n      <td>1.34</td>\n      <td>1.30</td>\n      <td>1.14</td>\n      <td>0.95</td>\n      <td>1.27</td>\n      <td>Bulgaria</td>\n      <td>ICCS0101</td>\n    </tr>\n    <tr>\n      <th>3</th>\n      <td>1.30</td>\n      <td>0.82</td>\n      <td>1.62</td>\n      <td>1.48</td>\n      <td>1.69</td>\n      <td>1.56</td>\n      <td>Cyprus</td>\n      <td>ICCS0101</td>\n    </tr>\n    <tr>\n      <th>4</th>\n      <td>0.62</td>\n      <td>0.38</td>\n      <td>0.52</td>\n      <td>0.76</td>\n      <td>0.53</td>\n      <td>0.43</td>\n      <td>Czechia</td>\n      <td>ICCS0101</td>\n    </tr>\n    <tr>\n      <th>...</th>\n      <td>...</td>\n      <td>...</td>\n      <td>...</td>\n      <td>...</td>\n      <td>...</td>\n      <td>...</td>\n      <td>...</td>\n      <td>...</td>\n    </tr>\n    <tr>\n      <th>103</th>\n      <td>1.47</td>\n      <td>1.71</td>\n      <td>1.61</td>\n      <td>1.65</td>\n      <td>1.50</td>\n      <td>2.06</td>\n      <td>Portugal</td>\n      <td>ICCS0703</td>\n    </tr>\n    <tr>\n      <th>104</th>\n      <td>7.09</td>\n      <td>27.67</td>\n      <td>22.42</td>\n      <td>21.07</td>\n      <td>17.66</td>\n      <td>20.92</td>\n      <td>Romania</td>\n      <td>ICCS0703</td>\n    </tr>\n    <tr>\n      <th>105</th>\n      <td>213.55</td>\n      <td>211.05</td>\n      <td>207.81</td>\n      <td>201.53</td>\n      <td>191.63</td>\n      <td>205.03</td>\n      <td>Sweden</td>\n      <td>ICCS0703</td>\n    </tr>\n    <tr>\n      <th>106</th>\n      <td>56.15</td>\n      <td>47.00</td>\n      <td>10.31</td>\n      <td>10.52</td>\n      <td>14.89</td>\n      <td>11.38</td>\n      <td>Slovenia</td>\n      <td>ICCS0703</td>\n    </tr>\n    <tr>\n      <th>107</th>\n      <td>1.94</td>\n      <td>3.07</td>\n      <td>2.77</td>\n      <td>2.50</td>\n      <td>2.40</td>\n      <td>3.41</td>\n      <td>Slovakia</td>\n      <td>ICCS0703</td>\n    </tr>\n  </tbody>\n</table>\n<p>108 rows × 8 columns</p>\n</div>"
     },
     "metadata": {},
     "output_type": "display_data"
    }
   ],
   "source": [
    "# Rename rows with the name of the country\n",
    "geo_dict = {\n",
    "    \"BE\": \"Belgium\",\n",
    "    \"BG\": \"Bulgaria\",\n",
    "    \"CZ\": \"Czechia\",\n",
    "    \"DK\": \"Denmark\",\n",
    "    \"DE\": \"Germany\",\n",
    "    \"EE\": \"Estonia\",\n",
    "    \"IE\": \"Ireland\",\n",
    "    \"EL\": \"Greece\",\n",
    "    \"ES\": \"Spain\",\n",
    "    \"FR\": \"France\",\n",
    "    \"HR\": \"Croatia\",\n",
    "    \"IT\": \"Italy\",\n",
    "    \"CY\": \"Cyprus\",\n",
    "    \"LV\": \"Latvia\",\n",
    "    \"LT\": \"Lithuania\",\n",
    "    \"LU\": \"Luxembourg\",\n",
    "    \"HU\": \"Hungary\",\n",
    "    \"MT\": \"Malta\",\n",
    "    \"NL\": \"Netherlands\",\n",
    "    \"AT\": \"Austria\",\n",
    "    \"PL\": \"Poland\",\n",
    "    \"PT\": \"Portugal\",\n",
    "    \"RO\": \"Romania\",\n",
    "    \"SI\": \"Slovenia\",\n",
    "    \"SK\": \"Slovakia\",\n",
    "    \"FI\": \"Finland\",\n",
    "    \"SE\": \"Sweden\",\n",
    "}\n",
    "\n",
    "df[\"geo\"] = df[\"geo\"].map(geo_dict)\n",
    "\n",
    "# df = df.melt(id_vars=[\"geo\", \"iccs\"], var_name=\"year\", value_name=\"value\")\n",
    "display(df)"
   ],
   "metadata": {
    "collapsed": false,
    "ExecuteTime": {
     "end_time": "2023-11-02T15:41:36.457533100Z",
     "start_time": "2023-11-02T15:41:36.430506300Z"
    }
   },
   "id": "666b1e5b80d20231"
  },
  {
   "cell_type": "markdown",
   "source": [
    "## Legenda\n",
    "ICCS = International Classification of crime for statistical purposes\n",
    "Geo = Geopolitical entity \n",
    "Unit = Unit of measure (Per 100 000 inhabitants)\n",
    "Freq = Time frequency (A = Annual)\n",
    "\n",
    "Nel dataset sono presenti record per 20 tipi di crimini diversi, purtroppo per alcuni crimini i dati erano incompleti, mancanti o completamente non presenti per alcuni paesi. \n",
    "Per questo motivo sono stati selezionati solo alcuni tipi di crimini per ogni paese:\n",
    "- Intentional Homicide\n",
    "- Sexual Violence\n",
    "- Theft\n",
    "- Corruption (Alcuni valori sono stati interpolati linearmente)\n",
    "\n",
    "I dati sono forniti per ogni paese dell'Unione Europea, per ogni anno dal 2016 al 2021.\n",
    "\n",
    "Per il dataset \"corruption_df\" alcuni campioni erano mancanti, di conseguenza è stata applicata un'interpolazione lienare."
   ],
   "metadata": {
    "collapsed": false
   },
   "id": "fc3ee35e529c5dcf"
  },
  {
   "cell_type": "markdown",
   "source": [
    "## Flags sui dataset\n",
    "Ogni dataset fornito da Eurostat contiene o può contenere dei flag sui dati:\n",
    "- b: break in time series\n",
    "- ep: estimated, provisional\n",
    "- p: provisional\n",
    "- e: estimated\n",
    "\n",
    "Il flag \"b\" indica un'interruzione nella serie temporale, ovvero un cambiamento nella fonte o nella metodologia rispetto all'anno precedente. I dati sono ritenuti comunque attendibili.\n",
    "Per i dati segnati con gli altri flag invece, non è possibile stabilire la loro attendibilità quindi è stato deciso di applicare una interpolazione linare."
   ],
   "metadata": {
    "collapsed": false
   },
   "id": "a5c228348bfc86ef"
  },
  {
   "cell_type": "code",
   "execution_count": 5,
   "outputs": [],
   "source": [
    "# Estrapolazione dei dati riguardo i crimini di interesse\n",
    "\n",
    "# Intentional homicide\n",
    "homicide_df = df[df[\"iccs\"] == \"ICCS0101\"].drop(columns=[\"iccs\"])\n",
    "homicide_df = homicide_df.applymap(lambda x: pd.to_numeric(x, errors='ignore'))\n",
    "homicide_df = homicide_df.melt(id_vars=[\"geo\"], var_name=\"year\", value_name=\"homicides\")\n",
    "\n",
    "# Sexual violence\n",
    "sexual_violence_df = df[df[\"iccs\"] == \"ICCS0301\"].drop(columns=[\"iccs\"])\n",
    "sexual_violence_df = sexual_violence_df.applymap(lambda x: pd.to_numeric(x, errors='ignore'))\n",
    "sexual_violence_df = sexual_violence_df.melt(id_vars=[\"geo\"], var_name=\"year\", value_name=\"sexual_violence\")\n",
    "\n",
    "# Theft\n",
    "theft_df = df[df[\"iccs\"] == \"ICCS0502\"].drop(columns=[\"iccs\"])\n",
    "theft_df = theft_df.applymap(lambda x: pd.to_numeric(x, errors='ignore'))\n",
    "theft_df = theft_df.melt(id_vars=[\"geo\"], var_name=\"year\", value_name=\"theft\")\n",
    "\n",
    "# Corruption DA SISTEMARE\n",
    "corruption_df = df[df[\"iccs\"] == \"ICCS0703\"].drop(columns=[\"iccs\"])\n",
    "corruption_df = corruption_df.applymap(lambda x: None if \":\" in str(x) else x)\n",
    "corruption_df = corruption_df.applymap(lambda x: pd.to_numeric(x, errors='ignore'))\n",
    "corruption_df.set_index(\"geo\", inplace=True)\n",
    "corruption_df = corruption_df.interpolate(method='linear', axis=1, limit_direction='both')\n",
    "corruption_df.reset_index(inplace=True)\n",
    "corruption_df = corruption_df.melt(id_vars=[\"geo\"], var_name=\"year\", value_name=\"corruption\")"
   ],
   "metadata": {
    "collapsed": false,
    "ExecuteTime": {
     "end_time": "2023-11-02T15:41:36.542565400Z",
     "start_time": "2023-11-02T15:41:36.449554500Z"
    }
   },
   "id": "a440f241a50a13ce"
  },
  {
   "cell_type": "code",
   "execution_count": 6,
   "outputs": [],
   "source": [
    "# Clean and interpolate the data\n",
    "def clean_interpolate(df, index):\n",
    "    df.set_index(index, inplace=True)\n",
    "    df = df.applymap(lambda x: x.replace(\"b\", \"\") if isinstance(x, str)\n",
    "    else x)\n",
    "    df = df.applymap(lambda x: pd.to_numeric(x, errors='ignore'))\n",
    "    df = df.applymap(lambda x: pd.to_numeric(x, errors='coerce'))\n",
    "    df = df.interpolate(method='linear', axis=1, limit_direction='both')\n",
    "    df.reset_index(inplace=True)\n",
    "    return df\n",
    "\n",
    "\n",
    "# Convert the data to the format: per 100.000 inhabitants\n",
    "def convert_to_ht(population_df, df):\n",
    "    population_df.set_index(\"geo\", inplace=True)\n",
    "    df.set_index(\"geo\", inplace=True)\n",
    "\n",
    "    df = df.div(100)\n",
    "    df = df.mul(population_df, axis=0) / 100000\n",
    "\n",
    "    df.reset_index(inplace=True)\n",
    "    population_df.reset_index(inplace=True)\n",
    "\n",
    "    return df"
   ],
   "metadata": {
    "collapsed": false,
    "ExecuteTime": {
     "end_time": "2023-11-02T15:41:36.543563Z",
     "start_time": "2023-11-02T15:41:36.488381Z"
    }
   },
   "id": "3064c72f9c67c1d2"
  },
  {
   "cell_type": "markdown",
   "source": [
    "### Dataset: Population on 1 January\n",
    "Fonte:\n",
    "- [Population on 1 January](https://ec.europa.eu/eurostat/databrowser/view/tps00001__custom_7848350/default/table?lang=en)\n",
    "\n",
    "Nel presente dataset sono contenute le registrazioni della popolazione totale di ciascun paese dell'Unione Europea al 1° gennaio di ciascun anno. \n",
    "Tale dataset è stato impiegato per standardizzare i dati di tutti gli altri dataset in cui i valori erano espressi come percentuale rispetto alla popolazione totale, \n",
    "normalizzandoli al formato di 'ogni 100.000 abitanti', come i dati relativi ai crimini."
   ],
   "metadata": {
    "collapsed": false
   },
   "id": "ba35da8dc636c7c8"
  },
  {
   "cell_type": "code",
   "execution_count": 7,
   "outputs": [
    {
     "data": {
      "text/plain": "            geo        2016        2017        2018        2019        2020   \n0       Austria   8700471.0   8772865.0   8822267.0   8858775.0   8901064.0  \\\n1       Belgium  11311117.0  11351727.0  11398589.0  11455519.0  11522440.0   \n2      Bulgaria   7153784.0   7101859.0   7050034.0   7000039.0   6951482.0   \n3        Cyprus    848319.0    854802.0    864236.0    875899.0    888005.0   \n4       Czechia  10553843.0  10578820.0  10610055.0  10649800.0  10693939.0   \n5       Germany  82175684.0  82521653.0  82792351.0  83019213.0  83166711.0   \n6       Denmark   5707251.0   5748769.0   5781190.0   5806081.0   5822763.0   \n7       Estonia   1315944.0   1315635.0   1319133.0   1324820.0   1328976.0   \n8        Greece  10783748.0  10768193.0  10741165.0  10724599.0  10718565.0   \n9         Spain  46440099.0  46528024.0  46658447.0  46937060.0  47332614.0   \n10      Finland   5487308.0   5503297.0   5513130.0   5517919.0   5525292.0   \n11       France  66638391.0  66809816.0  67026224.0  67290471.0  67485531.0   \n12      Croatia   4190669.0   4154213.0   4105493.0   4076246.0   4058165.0   \n13      Hungary   9830485.0   9797561.0   9778371.0   9772756.0   9769526.0   \n14      Ireland   4726286.0   4784383.0   4830392.0   4897416.0   4964440.0   \n15        Italy  60665551.0  60589445.0  60483973.0  59816673.0  59641488.0   \n16    Lithuania   2888558.0   2847904.0   2808901.0   2794184.0   2794090.0   \n17   Luxembourg    576249.0    590667.0    602005.0    613894.0    626108.0   \n18       Latvia   1968957.0   1950116.0   1934379.0   1919968.0   1907675.0   \n19        Malta    450415.0    460297.0    475701.0    493559.0    514564.0   \n20  Netherlands  16979120.0  17081507.0  17181084.0  17282163.0  17407585.0   \n21       Poland  37967209.0  37972964.0  37972888.0  37972812.0  37972812.0   \n22     Portugal  10341330.0  10309573.0  10291027.0  10276617.0  10295909.0   \n23      Romania  19760585.0  19643949.0  19533481.0  19414458.0  19308060.0   \n24       Sweden   9851017.0   9995153.0  10120242.0  10230185.0  10327589.0   \n25     Slovenia   2064188.0   2065895.0   2066880.0   2080908.0   2095861.0   \n26     Slovakia   5426252.0   5435343.0   5443120.0   5450421.0   5457873.0   \n\n          2021  \n0    8932664.0  \n1   11554767.0  \n2    6916548.0  \n3     896007.0  \n4   10494836.0  \n5   83155031.0  \n6    5840045.0  \n7    1330068.0  \n8   10678632.0  \n9   47398695.0  \n10   5533793.0  \n11  67485531.0  \n12   4036355.0  \n13   9730772.0  \n14   5006324.0  \n15  59236213.0  \n16   2795680.0  \n17    634730.0  \n18   1893223.0  \n19    516100.0  \n20  17475415.0  \n21  37972812.0  \n22  10298252.0  \n23  19201662.0  \n24  10379295.0  \n25   2108977.0  \n26   5459781.0  ",
      "text/html": "<div>\n<style scoped>\n    .dataframe tbody tr th:only-of-type {\n        vertical-align: middle;\n    }\n\n    .dataframe tbody tr th {\n        vertical-align: top;\n    }\n\n    .dataframe thead th {\n        text-align: right;\n    }\n</style>\n<table border=\"1\" class=\"dataframe\">\n  <thead>\n    <tr style=\"text-align: right;\">\n      <th></th>\n      <th>geo</th>\n      <th>2016</th>\n      <th>2017</th>\n      <th>2018</th>\n      <th>2019</th>\n      <th>2020</th>\n      <th>2021</th>\n    </tr>\n  </thead>\n  <tbody>\n    <tr>\n      <th>0</th>\n      <td>Austria</td>\n      <td>8700471.0</td>\n      <td>8772865.0</td>\n      <td>8822267.0</td>\n      <td>8858775.0</td>\n      <td>8901064.0</td>\n      <td>8932664.0</td>\n    </tr>\n    <tr>\n      <th>1</th>\n      <td>Belgium</td>\n      <td>11311117.0</td>\n      <td>11351727.0</td>\n      <td>11398589.0</td>\n      <td>11455519.0</td>\n      <td>11522440.0</td>\n      <td>11554767.0</td>\n    </tr>\n    <tr>\n      <th>2</th>\n      <td>Bulgaria</td>\n      <td>7153784.0</td>\n      <td>7101859.0</td>\n      <td>7050034.0</td>\n      <td>7000039.0</td>\n      <td>6951482.0</td>\n      <td>6916548.0</td>\n    </tr>\n    <tr>\n      <th>3</th>\n      <td>Cyprus</td>\n      <td>848319.0</td>\n      <td>854802.0</td>\n      <td>864236.0</td>\n      <td>875899.0</td>\n      <td>888005.0</td>\n      <td>896007.0</td>\n    </tr>\n    <tr>\n      <th>4</th>\n      <td>Czechia</td>\n      <td>10553843.0</td>\n      <td>10578820.0</td>\n      <td>10610055.0</td>\n      <td>10649800.0</td>\n      <td>10693939.0</td>\n      <td>10494836.0</td>\n    </tr>\n    <tr>\n      <th>5</th>\n      <td>Germany</td>\n      <td>82175684.0</td>\n      <td>82521653.0</td>\n      <td>82792351.0</td>\n      <td>83019213.0</td>\n      <td>83166711.0</td>\n      <td>83155031.0</td>\n    </tr>\n    <tr>\n      <th>6</th>\n      <td>Denmark</td>\n      <td>5707251.0</td>\n      <td>5748769.0</td>\n      <td>5781190.0</td>\n      <td>5806081.0</td>\n      <td>5822763.0</td>\n      <td>5840045.0</td>\n    </tr>\n    <tr>\n      <th>7</th>\n      <td>Estonia</td>\n      <td>1315944.0</td>\n      <td>1315635.0</td>\n      <td>1319133.0</td>\n      <td>1324820.0</td>\n      <td>1328976.0</td>\n      <td>1330068.0</td>\n    </tr>\n    <tr>\n      <th>8</th>\n      <td>Greece</td>\n      <td>10783748.0</td>\n      <td>10768193.0</td>\n      <td>10741165.0</td>\n      <td>10724599.0</td>\n      <td>10718565.0</td>\n      <td>10678632.0</td>\n    </tr>\n    <tr>\n      <th>9</th>\n      <td>Spain</td>\n      <td>46440099.0</td>\n      <td>46528024.0</td>\n      <td>46658447.0</td>\n      <td>46937060.0</td>\n      <td>47332614.0</td>\n      <td>47398695.0</td>\n    </tr>\n    <tr>\n      <th>10</th>\n      <td>Finland</td>\n      <td>5487308.0</td>\n      <td>5503297.0</td>\n      <td>5513130.0</td>\n      <td>5517919.0</td>\n      <td>5525292.0</td>\n      <td>5533793.0</td>\n    </tr>\n    <tr>\n      <th>11</th>\n      <td>France</td>\n      <td>66638391.0</td>\n      <td>66809816.0</td>\n      <td>67026224.0</td>\n      <td>67290471.0</td>\n      <td>67485531.0</td>\n      <td>67485531.0</td>\n    </tr>\n    <tr>\n      <th>12</th>\n      <td>Croatia</td>\n      <td>4190669.0</td>\n      <td>4154213.0</td>\n      <td>4105493.0</td>\n      <td>4076246.0</td>\n      <td>4058165.0</td>\n      <td>4036355.0</td>\n    </tr>\n    <tr>\n      <th>13</th>\n      <td>Hungary</td>\n      <td>9830485.0</td>\n      <td>9797561.0</td>\n      <td>9778371.0</td>\n      <td>9772756.0</td>\n      <td>9769526.0</td>\n      <td>9730772.0</td>\n    </tr>\n    <tr>\n      <th>14</th>\n      <td>Ireland</td>\n      <td>4726286.0</td>\n      <td>4784383.0</td>\n      <td>4830392.0</td>\n      <td>4897416.0</td>\n      <td>4964440.0</td>\n      <td>5006324.0</td>\n    </tr>\n    <tr>\n      <th>15</th>\n      <td>Italy</td>\n      <td>60665551.0</td>\n      <td>60589445.0</td>\n      <td>60483973.0</td>\n      <td>59816673.0</td>\n      <td>59641488.0</td>\n      <td>59236213.0</td>\n    </tr>\n    <tr>\n      <th>16</th>\n      <td>Lithuania</td>\n      <td>2888558.0</td>\n      <td>2847904.0</td>\n      <td>2808901.0</td>\n      <td>2794184.0</td>\n      <td>2794090.0</td>\n      <td>2795680.0</td>\n    </tr>\n    <tr>\n      <th>17</th>\n      <td>Luxembourg</td>\n      <td>576249.0</td>\n      <td>590667.0</td>\n      <td>602005.0</td>\n      <td>613894.0</td>\n      <td>626108.0</td>\n      <td>634730.0</td>\n    </tr>\n    <tr>\n      <th>18</th>\n      <td>Latvia</td>\n      <td>1968957.0</td>\n      <td>1950116.0</td>\n      <td>1934379.0</td>\n      <td>1919968.0</td>\n      <td>1907675.0</td>\n      <td>1893223.0</td>\n    </tr>\n    <tr>\n      <th>19</th>\n      <td>Malta</td>\n      <td>450415.0</td>\n      <td>460297.0</td>\n      <td>475701.0</td>\n      <td>493559.0</td>\n      <td>514564.0</td>\n      <td>516100.0</td>\n    </tr>\n    <tr>\n      <th>20</th>\n      <td>Netherlands</td>\n      <td>16979120.0</td>\n      <td>17081507.0</td>\n      <td>17181084.0</td>\n      <td>17282163.0</td>\n      <td>17407585.0</td>\n      <td>17475415.0</td>\n    </tr>\n    <tr>\n      <th>21</th>\n      <td>Poland</td>\n      <td>37967209.0</td>\n      <td>37972964.0</td>\n      <td>37972888.0</td>\n      <td>37972812.0</td>\n      <td>37972812.0</td>\n      <td>37972812.0</td>\n    </tr>\n    <tr>\n      <th>22</th>\n      <td>Portugal</td>\n      <td>10341330.0</td>\n      <td>10309573.0</td>\n      <td>10291027.0</td>\n      <td>10276617.0</td>\n      <td>10295909.0</td>\n      <td>10298252.0</td>\n    </tr>\n    <tr>\n      <th>23</th>\n      <td>Romania</td>\n      <td>19760585.0</td>\n      <td>19643949.0</td>\n      <td>19533481.0</td>\n      <td>19414458.0</td>\n      <td>19308060.0</td>\n      <td>19201662.0</td>\n    </tr>\n    <tr>\n      <th>24</th>\n      <td>Sweden</td>\n      <td>9851017.0</td>\n      <td>9995153.0</td>\n      <td>10120242.0</td>\n      <td>10230185.0</td>\n      <td>10327589.0</td>\n      <td>10379295.0</td>\n    </tr>\n    <tr>\n      <th>25</th>\n      <td>Slovenia</td>\n      <td>2064188.0</td>\n      <td>2065895.0</td>\n      <td>2066880.0</td>\n      <td>2080908.0</td>\n      <td>2095861.0</td>\n      <td>2108977.0</td>\n    </tr>\n    <tr>\n      <th>26</th>\n      <td>Slovakia</td>\n      <td>5426252.0</td>\n      <td>5435343.0</td>\n      <td>5443120.0</td>\n      <td>5450421.0</td>\n      <td>5457873.0</td>\n      <td>5459781.0</td>\n    </tr>\n  </tbody>\n</table>\n</div>"
     },
     "metadata": {},
     "output_type": "display_data"
    }
   ],
   "source": [
    "population_df = pandas.read_table('data/population/tps00001.tsv')\n",
    "\n",
    "split = population_df[\"freq,indic_de,geo\\\\TIME_PERIOD\"].str.split(\",\", expand=True)\n",
    "split.drop(columns=[0, 1], inplace=True)\n",
    "split.columns = [\"geo\"]\n",
    "\n",
    "population_df = pd.concat([population_df, split], axis=1)\n",
    "population_df.drop(columns=[\"freq,indic_de,geo\\\\TIME_PERIOD\"], axis=1, inplace=True)\n",
    "population_df.rename(columns=lambda x: x.strip(), inplace=True)\n",
    "population_df[\"geo\"] = population_df[\"geo\"].map(geo_dict)\n",
    "\n",
    "population_df = clean_interpolate(population_df, \"geo\")\n",
    "\n",
    "display(population_df)"
   ],
   "metadata": {
    "collapsed": false,
    "ExecuteTime": {
     "end_time": "2023-11-02T15:41:36.545557600Z",
     "start_time": "2023-11-02T15:41:36.488381Z"
    }
   },
   "id": "8f56f00533a302bb"
  },
  {
   "cell_type": "markdown",
   "source": [
    "### Dataset: Persone a rischio di povertà o esclusione sociale\n",
    "Fonte:\n",
    "- [People at rick of poverty or social exclusion](https://ec.europa.eu/eurostat/databrowser/view/sdg_01_10__custom_8278962/default/table?lang=en)\n",
    "- [Explanatory texts](https://ec.europa.eu/eurostat/cache/metadata/en/sdg_01_10_esmsip2.htm)\n",
    "\n",
    "L'indicatore rappresenta la somma di persone che si trovano in una delle seguenti condizioni: a rischio di povertà dopo trasferimenti sociali, gravemente privi di beni materiali o che vivono in nuclei familiari con una bassa intensità lavorativa. Una persona è conteggiata una sola volta, anche se è colpita da più di una di queste situazioni.\n",
    "\n",
    "- Age: Total\n",
    "- Time: 2016-2021\n",
    "- Sex: Total\n",
    "- Unit:  percentage of total population"
   ],
   "metadata": {
    "collapsed": false
   },
   "id": "f550fdbf1b4096db"
  },
  {
   "cell_type": "code",
   "execution_count": 8,
   "outputs": [
    {
     "data": {
      "text/plain": "          geo  year    poverty\n0     Austria  2016  14.964810\n1     Belgium  2016  25.110680\n2    Bulgaria  2016  29.330514\n3      Cyprus  2016   1.917201\n4     Czechia  2016  13.086765\n..        ...   ...        ...\n157  Portugal  2021  23.068084\n158   Romania  2021  66.245734\n159    Sweden  2021  17.852387\n160  Slovenia  2021   2.783850\n161  Slovakia  2021   8.517258\n\n[162 rows x 3 columns]",
      "text/html": "<div>\n<style scoped>\n    .dataframe tbody tr th:only-of-type {\n        vertical-align: middle;\n    }\n\n    .dataframe tbody tr th {\n        vertical-align: top;\n    }\n\n    .dataframe thead th {\n        text-align: right;\n    }\n</style>\n<table border=\"1\" class=\"dataframe\">\n  <thead>\n    <tr style=\"text-align: right;\">\n      <th></th>\n      <th>geo</th>\n      <th>year</th>\n      <th>poverty</th>\n    </tr>\n  </thead>\n  <tbody>\n    <tr>\n      <th>0</th>\n      <td>Austria</td>\n      <td>2016</td>\n      <td>14.964810</td>\n    </tr>\n    <tr>\n      <th>1</th>\n      <td>Belgium</td>\n      <td>2016</td>\n      <td>25.110680</td>\n    </tr>\n    <tr>\n      <th>2</th>\n      <td>Bulgaria</td>\n      <td>2016</td>\n      <td>29.330514</td>\n    </tr>\n    <tr>\n      <th>3</th>\n      <td>Cyprus</td>\n      <td>2016</td>\n      <td>1.917201</td>\n    </tr>\n    <tr>\n      <th>4</th>\n      <td>Czechia</td>\n      <td>2016</td>\n      <td>13.086765</td>\n    </tr>\n    <tr>\n      <th>...</th>\n      <td>...</td>\n      <td>...</td>\n      <td>...</td>\n    </tr>\n    <tr>\n      <th>157</th>\n      <td>Portugal</td>\n      <td>2021</td>\n      <td>23.068084</td>\n    </tr>\n    <tr>\n      <th>158</th>\n      <td>Romania</td>\n      <td>2021</td>\n      <td>66.245734</td>\n    </tr>\n    <tr>\n      <th>159</th>\n      <td>Sweden</td>\n      <td>2021</td>\n      <td>17.852387</td>\n    </tr>\n    <tr>\n      <th>160</th>\n      <td>Slovenia</td>\n      <td>2021</td>\n      <td>2.783850</td>\n    </tr>\n    <tr>\n      <th>161</th>\n      <td>Slovakia</td>\n      <td>2021</td>\n      <td>8.517258</td>\n    </tr>\n  </tbody>\n</table>\n<p>162 rows × 3 columns</p>\n</div>"
     },
     "metadata": {},
     "output_type": "display_data"
    }
   ],
   "source": [
    "poverty_df = pandas.read_table('data/sdg/sdg_01_10.tsv')\n",
    "\n",
    "split = poverty_df[\"freq,sex,age,unit,geo\\\\TIME_PERIOD\"].str.split(\",\", expand=True)\n",
    "split.drop(columns=[0, 1, 2, 3], inplace=True)\n",
    "split.columns = [\"geo\"]\n",
    "\n",
    "poverty_df = pd.concat([poverty_df, split], axis=1)\n",
    "poverty_df.drop(columns=[\"freq,sex,age,unit,geo\\\\TIME_PERIOD\"], axis=1, inplace=True)\n",
    "poverty_df.rename(columns=lambda x: x.strip(), inplace=True)\n",
    "poverty_df[\"geo\"] = poverty_df[\"geo\"].map(geo_dict)\n",
    "\n",
    "# Clean and interpolate the data\n",
    "poverty_df = clean_interpolate(poverty_df, \"geo\")\n",
    "# Convert to per 100.000 inhabitants\n",
    "poverty_df = convert_to_ht(population_df, poverty_df)\n",
    "\n",
    "poverty_df = poverty_df.melt(id_vars=[\"geo\"], var_name=\"year\", value_name=\"poverty\")\n",
    "display(poverty_df)"
   ],
   "metadata": {
    "collapsed": false,
    "ExecuteTime": {
     "end_time": "2023-11-02T15:41:36.597710900Z",
     "start_time": "2023-11-02T15:41:36.526609Z"
    }
   },
   "id": "4e75a4faf00e4154"
  },
  {
   "cell_type": "markdown",
   "source": [
    "### Dataset: NEET, Not in Education, Employment or Training\n",
    "Fonte:\n",
    "- [Young people neither in employment nor in education and training by sex (NEET)](https://ec.europa.eu/eurostat/databrowser/view/sdg_08_20__custom_7848499/default/table?lang=en)\n",
    "- [Explanatory texts](https://ec.europa.eu/eurostat/cache/metadata/en/sdg_08_20_esmsip2.htm) \n",
    "\n",
    "L'indicatore valuta la percentuale di persone comprese tra i 15 e i 29 anni che non hanno lavoro e non stanno frequentando corsi di studio o formazione. Il numeratore dell'indicatore si riferisce alle persone che soddisfano due criteri: (a) non hanno un'occupazione (ovvero sono disoccupate o inattive secondo la definizione dell'Organizzazione Internazionale del Lavoro) e (b) non hanno partecipato a programmi di istruzione o formazione (sia formali che informali) nelle quattro settimane precedenti all'indagine sulla forza lavoro.\n",
    "\n",
    "- Age: 15-29 years\n",
    "- Time: 2016-2021\n",
    "- Unit: percentage of total population"
   ],
   "metadata": {
    "collapsed": false
   },
   "id": "8399226f5e29bbd2"
  },
  {
   "cell_type": "code",
   "execution_count": 9,
   "outputs": [
    {
     "data": {
      "text/plain": "          geo  year       neet\n0     Austria  2016   8.091438\n1     Belgium  2016  13.799563\n2    Bulgaria  2016  16.024476\n3      Cyprus  2016   1.526974\n4     Czechia  2016  11.714766\n..        ...   ...        ...\n157  Portugal  2021   9.783339\n158   Romania  2021  38.979374\n159    Sweden  2021   6.227577\n160  Slovenia  2021   1.539553\n161  Slovakia  2021   7.752889\n\n[162 rows x 3 columns]",
      "text/html": "<div>\n<style scoped>\n    .dataframe tbody tr th:only-of-type {\n        vertical-align: middle;\n    }\n\n    .dataframe tbody tr th {\n        vertical-align: top;\n    }\n\n    .dataframe thead th {\n        text-align: right;\n    }\n</style>\n<table border=\"1\" class=\"dataframe\">\n  <thead>\n    <tr style=\"text-align: right;\">\n      <th></th>\n      <th>geo</th>\n      <th>year</th>\n      <th>neet</th>\n    </tr>\n  </thead>\n  <tbody>\n    <tr>\n      <th>0</th>\n      <td>Austria</td>\n      <td>2016</td>\n      <td>8.091438</td>\n    </tr>\n    <tr>\n      <th>1</th>\n      <td>Belgium</td>\n      <td>2016</td>\n      <td>13.799563</td>\n    </tr>\n    <tr>\n      <th>2</th>\n      <td>Bulgaria</td>\n      <td>2016</td>\n      <td>16.024476</td>\n    </tr>\n    <tr>\n      <th>3</th>\n      <td>Cyprus</td>\n      <td>2016</td>\n      <td>1.526974</td>\n    </tr>\n    <tr>\n      <th>4</th>\n      <td>Czechia</td>\n      <td>2016</td>\n      <td>11.714766</td>\n    </tr>\n    <tr>\n      <th>...</th>\n      <td>...</td>\n      <td>...</td>\n      <td>...</td>\n    </tr>\n    <tr>\n      <th>157</th>\n      <td>Portugal</td>\n      <td>2021</td>\n      <td>9.783339</td>\n    </tr>\n    <tr>\n      <th>158</th>\n      <td>Romania</td>\n      <td>2021</td>\n      <td>38.979374</td>\n    </tr>\n    <tr>\n      <th>159</th>\n      <td>Sweden</td>\n      <td>2021</td>\n      <td>6.227577</td>\n    </tr>\n    <tr>\n      <th>160</th>\n      <td>Slovenia</td>\n      <td>2021</td>\n      <td>1.539553</td>\n    </tr>\n    <tr>\n      <th>161</th>\n      <td>Slovakia</td>\n      <td>2021</td>\n      <td>7.752889</td>\n    </tr>\n  </tbody>\n</table>\n<p>162 rows × 3 columns</p>\n</div>"
     },
     "metadata": {},
     "output_type": "display_data"
    }
   ],
   "source": [
    "neet_df = pandas.read_table('data/sdg/sdg_08_20.tsv')\n",
    "\n",
    "split = neet_df[\"freq,sex,age,unit,geo\\\\TIME_PERIOD\"].str.split(\",\", expand=True)\n",
    "split.drop(columns=[0, 1, 2, 3], inplace=True)\n",
    "split.columns = [\"geo\"]\n",
    "\n",
    "neet_df = pd.concat([neet_df, split], axis=1)\n",
    "neet_df.drop(columns=[\"freq,sex,age,unit,geo\\\\TIME_PERIOD\"], axis=1, inplace=True)\n",
    "neet_df = neet_df.iloc[:, ::-1]\n",
    "neet_df.rename(columns=lambda x: x.strip(), inplace=True)\n",
    "neet_df[\"geo\"] = neet_df[\"geo\"].map(geo_dict)\n",
    "\n",
    "# Clean and interpolate the data\n",
    "neet_df = clean_interpolate(neet_df, \"geo\")\n",
    "# Convert to per 100.000 inhabitants\n",
    "neet_df = convert_to_ht(population_df, neet_df)\n",
    "\n",
    "neet_df = neet_df.melt(id_vars=[\"geo\"], var_name=\"year\", value_name=\"neet\")\n",
    "display(neet_df)"
   ],
   "metadata": {
    "collapsed": false,
    "ExecuteTime": {
     "end_time": "2023-11-02T15:41:36.637486100Z",
     "start_time": "2023-11-02T15:41:36.549375400Z"
    }
   },
   "id": "e87d82fc43bd3a35"
  },
  {
   "cell_type": "markdown",
   "source": [
    "### Dataset: Tertiary educational attainment by sex\n",
    "Fonte:\n",
    "- [Tertiary educational attainment by sex](https://ec.europa.eu/eurostat/databrowser/view/sdg_04_20__custom_7957119/default/table?lang=en)\n",
    "- [Explanatory Texts](https://ec.europa.eu/eurostat/cache/metadata/en/sdg_04_20_esmsip2.htm)\n",
    "\n",
    "L'indicatore valuta la percentuale della popolazione compresa tra i 25 e i 34 anni che ha completato con successo gli studi terziari (ad esempio, universitari o in istituti tecnici superiori, ecc.). Questo grado di istruzione si riferisce al livello 5-8 della ISCED (International Standard Classification of Education) 2011 per i dati a partire dal 2014 e al livello 5-6 della ISCED 1997 per i dati fino al 2013. L'indicatore si basa sulla Rilevazione sul Mercato del Lavoro dell'Unione Europea (EU-LFS).\n",
    "\n",
    "- Age: 25-34 years\n",
    "- Unit: percentage of total population\n",
    "- Time frequency: Annual"
   ],
   "metadata": {
    "collapsed": false
   },
   "id": "618dab6081b08241"
  },
  {
   "cell_type": "code",
   "execution_count": 10,
   "outputs": [
    {
     "data": {
      "text/plain": "          geo  year  education\n0     Austria  2016  34.540870\n1     Belgium  2016  50.108248\n2    Bulgaria  2016  23.464412\n3      Cyprus  2016   4.767553\n4     Czechia  2016  34.405528\n..        ...   ...        ...\n157  Portugal  2021  48.916697\n158   Romania  2021  44.739872\n159    Sweden  2021  51.169924\n160  Slovenia  2021  10.102000\n161  Slovakia  2021  21.566135\n\n[162 rows x 3 columns]",
      "text/html": "<div>\n<style scoped>\n    .dataframe tbody tr th:only-of-type {\n        vertical-align: middle;\n    }\n\n    .dataframe tbody tr th {\n        vertical-align: top;\n    }\n\n    .dataframe thead th {\n        text-align: right;\n    }\n</style>\n<table border=\"1\" class=\"dataframe\">\n  <thead>\n    <tr style=\"text-align: right;\">\n      <th></th>\n      <th>geo</th>\n      <th>year</th>\n      <th>education</th>\n    </tr>\n  </thead>\n  <tbody>\n    <tr>\n      <th>0</th>\n      <td>Austria</td>\n      <td>2016</td>\n      <td>34.540870</td>\n    </tr>\n    <tr>\n      <th>1</th>\n      <td>Belgium</td>\n      <td>2016</td>\n      <td>50.108248</td>\n    </tr>\n    <tr>\n      <th>2</th>\n      <td>Bulgaria</td>\n      <td>2016</td>\n      <td>23.464412</td>\n    </tr>\n    <tr>\n      <th>3</th>\n      <td>Cyprus</td>\n      <td>2016</td>\n      <td>4.767553</td>\n    </tr>\n    <tr>\n      <th>4</th>\n      <td>Czechia</td>\n      <td>2016</td>\n      <td>34.405528</td>\n    </tr>\n    <tr>\n      <th>...</th>\n      <td>...</td>\n      <td>...</td>\n      <td>...</td>\n    </tr>\n    <tr>\n      <th>157</th>\n      <td>Portugal</td>\n      <td>2021</td>\n      <td>48.916697</td>\n    </tr>\n    <tr>\n      <th>158</th>\n      <td>Romania</td>\n      <td>2021</td>\n      <td>44.739872</td>\n    </tr>\n    <tr>\n      <th>159</th>\n      <td>Sweden</td>\n      <td>2021</td>\n      <td>51.169924</td>\n    </tr>\n    <tr>\n      <th>160</th>\n      <td>Slovenia</td>\n      <td>2021</td>\n      <td>10.102000</td>\n    </tr>\n    <tr>\n      <th>161</th>\n      <td>Slovakia</td>\n      <td>2021</td>\n      <td>21.566135</td>\n    </tr>\n  </tbody>\n</table>\n<p>162 rows × 3 columns</p>\n</div>"
     },
     "metadata": {},
     "output_type": "display_data"
    }
   ],
   "source": [
    "education_df = pandas.read_table('data/sdg/sdg_04_20.tsv')\n",
    "\n",
    "split = education_df[\"freq,sex,age,unit,isced11,geo\\\\TIME_PERIOD\"].str.split(\",\", expand=True)\n",
    "split.drop(columns=[0, 1, 2, 3, 4], inplace=True)\n",
    "split.columns = [\"geo\"]\n",
    "\n",
    "education_df = pd.concat([education_df, split], axis=1)\n",
    "education_df.drop(columns=[\"freq,sex,age,unit,isced11,geo\\\\TIME_PERIOD\"], axis=1, inplace=True)\n",
    "education_df.rename(columns=lambda x: x.strip(), inplace=True)\n",
    "education_df[\"geo\"] = education_df[\"geo\"].map(geo_dict)\n",
    "\n",
    "# Clean and interpolate the data\n",
    "education_df = clean_interpolate(education_df, \"geo\")\n",
    "# Convert to per 100.000 inhabitants\n",
    "education_df = convert_to_ht(population_df, education_df)\n",
    "\n",
    "education_df = education_df.melt(id_vars=[\"geo\"], var_name=\"year\", value_name=\"education\")\n",
    "display(education_df)"
   ],
   "metadata": {
    "collapsed": false,
    "ExecuteTime": {
     "end_time": "2023-11-02T15:41:36.642472700Z",
     "start_time": "2023-11-02T15:41:36.577764400Z"
    }
   },
   "id": "5d4ad64f231bda63"
  },
  {
   "cell_type": "markdown",
   "source": [
    "### Dataset: Unemployment by age and sex\n",
    "Fonte:\n",
    "- [Unemployment by age and sex](https://ec.europa.eu/eurostat/databrowser/view/une_rt_a__custom_8278690/default/table?lang=en)\n",
    "- [Explanatory Texts](https://ec.europa.eu/eurostat/cache/metadata/en/lfsi_esms.htm)\n",
    "\n",
    "L'indicatore valuta la percentuale di popolazione compresa tra i 15 e i 74 che non erano occupate durante la settimana di riferimento del sondaggio(?), avevano attivamente cercato lavoro nelle ultime quattro settimane ed erano disponibili a iniziare a lavorare immediatamente o entro due settimane.\n",
    "\n",
    "- Age: 15 to 74 years\n",
    "- Unit: percentage of total population\n",
    "- Time frequency: Annual"
   ],
   "metadata": {
    "collapsed": false
   },
   "id": "5b7a1501e487eb14"
  },
  {
   "cell_type": "code",
   "execution_count": 11,
   "outputs": [
    {
     "data": {
      "text/plain": "          geo  year  unemployment\n0     Austria  2016      3.828207\n1     Belgium  2016      5.316225\n2    Bulgaria  2016      3.648430\n3      Cyprus  2016      0.729554\n4     Czechia  2016      2.743999\n..        ...   ...           ...\n157  Portugal  2021      4.531231\n158   Romania  2021      6.144532\n159    Sweden  2021      6.746542\n160  Slovenia  2021      0.653783\n161  Slovakia  2021      2.456901\n\n[162 rows x 3 columns]",
      "text/html": "<div>\n<style scoped>\n    .dataframe tbody tr th:only-of-type {\n        vertical-align: middle;\n    }\n\n    .dataframe tbody tr th {\n        vertical-align: top;\n    }\n\n    .dataframe thead th {\n        text-align: right;\n    }\n</style>\n<table border=\"1\" class=\"dataframe\">\n  <thead>\n    <tr style=\"text-align: right;\">\n      <th></th>\n      <th>geo</th>\n      <th>year</th>\n      <th>unemployment</th>\n    </tr>\n  </thead>\n  <tbody>\n    <tr>\n      <th>0</th>\n      <td>Austria</td>\n      <td>2016</td>\n      <td>3.828207</td>\n    </tr>\n    <tr>\n      <th>1</th>\n      <td>Belgium</td>\n      <td>2016</td>\n      <td>5.316225</td>\n    </tr>\n    <tr>\n      <th>2</th>\n      <td>Bulgaria</td>\n      <td>2016</td>\n      <td>3.648430</td>\n    </tr>\n    <tr>\n      <th>3</th>\n      <td>Cyprus</td>\n      <td>2016</td>\n      <td>0.729554</td>\n    </tr>\n    <tr>\n      <th>4</th>\n      <td>Czechia</td>\n      <td>2016</td>\n      <td>2.743999</td>\n    </tr>\n    <tr>\n      <th>...</th>\n      <td>...</td>\n      <td>...</td>\n      <td>...</td>\n    </tr>\n    <tr>\n      <th>157</th>\n      <td>Portugal</td>\n      <td>2021</td>\n      <td>4.531231</td>\n    </tr>\n    <tr>\n      <th>158</th>\n      <td>Romania</td>\n      <td>2021</td>\n      <td>6.144532</td>\n    </tr>\n    <tr>\n      <th>159</th>\n      <td>Sweden</td>\n      <td>2021</td>\n      <td>6.746542</td>\n    </tr>\n    <tr>\n      <th>160</th>\n      <td>Slovenia</td>\n      <td>2021</td>\n      <td>0.653783</td>\n    </tr>\n    <tr>\n      <th>161</th>\n      <td>Slovakia</td>\n      <td>2021</td>\n      <td>2.456901</td>\n    </tr>\n  </tbody>\n</table>\n<p>162 rows × 3 columns</p>\n</div>"
     },
     "metadata": {},
     "output_type": "display_data"
    }
   ],
   "source": [
    "unemployment_df = pandas.read_table('data/population/une_rt_a.tsv')\n",
    "\n",
    "split = unemployment_df[\"freq,age,unit,sex,geo\\\\TIME_PERIOD\"].str.split(\",\", expand=True)\n",
    "split.drop(columns=[0, 1, 2, 3], inplace=True)\n",
    "split.columns = [\"geo\"]\n",
    "\n",
    "unemployment_df = pd.concat([unemployment_df, split], axis=1)\n",
    "unemployment_df.drop(columns=[\"freq,age,unit,sex,geo\\\\TIME_PERIOD\"], axis=1, inplace=True)\n",
    "unemployment_df.rename(columns=lambda x: x.strip(), inplace=True)\n",
    "unemployment_df[\"geo\"] = unemployment_df[\"geo\"].map(geo_dict)\n",
    "\n",
    "#Clean and interpolate the data\n",
    "unemployment_df = clean_interpolate(unemployment_df, \"geo\")\n",
    "# Convert to per 100.000 inhabitants\n",
    "unemployment_df = convert_to_ht(population_df, unemployment_df)\n",
    "\n",
    "unemployment_df = unemployment_df.melt(id_vars=[\"geo\"], var_name=\"year\", value_name=\"unemployment\")\n",
    "\n",
    "display(unemployment_df)"
   ],
   "metadata": {
    "collapsed": false,
    "ExecuteTime": {
     "end_time": "2023-11-02T15:41:36.682150Z",
     "start_time": "2023-11-02T15:41:36.602949900Z"
    }
   },
   "id": "8947054faa8815f"
  },
  {
   "cell_type": "markdown",
   "source": [
    "### Altro dataset: Income quintile share ratio (S80/S50)\n",
    "Fonte:\n",
    "- [Income quintile share ratio (S80/S50)](https://ec.europa.eu/eurostat/databrowser/view/ilc_di11d__custom_8162348/default/table?lang=en)\n",
    "- [Explenatory texts](https://ec.europa.eu/eurostat/cache/metadata/en/ilc_sieusilc.htm)\n",
    "\n",
    " Indicatore statistico che viene spesso utilizzato nell'analisi economica e sociale per misurare la distribuzione del reddito o del reddito disponibile tra diversi gruppi demografici all'interno di una popolazione. \n",
    " In questo caso il dataset descrive il \n",
    " rapporto calcolato tra il quintile più ricco (S80) e il quintile mediano (S50). \n",
    " Questo significa che si sta confrontando il 20% più ricco della popolazione con il 50% mediano, il che offre una visione della disuguaglianza tra i redditi più alti e il reddito mediano.\n",
    " \n",
    "- Unit: ratio"
   ],
   "metadata": {
    "collapsed": false
   },
   "id": "9fbc5349c05da0a5"
  },
  {
   "cell_type": "code",
   "execution_count": 12,
   "outputs": [
    {
     "data": {
      "text/plain": "          geo  year  inequity\n0     Austria  2016      4.09\n1     Belgium  2016      3.85\n2    Bulgaria  2016      7.69\n3      Cyprus  2016      4.88\n4     Czechia  2016      3.50\n..        ...   ...       ...\n157  Portugal  2021      5.66\n158   Romania  2021      7.14\n159    Sweden  2021      4.04\n160  Slovenia  2021      3.24\n161  Slovakia  2021      3.20\n\n[162 rows x 3 columns]",
      "text/html": "<div>\n<style scoped>\n    .dataframe tbody tr th:only-of-type {\n        vertical-align: middle;\n    }\n\n    .dataframe tbody tr th {\n        vertical-align: top;\n    }\n\n    .dataframe thead th {\n        text-align: right;\n    }\n</style>\n<table border=\"1\" class=\"dataframe\">\n  <thead>\n    <tr style=\"text-align: right;\">\n      <th></th>\n      <th>geo</th>\n      <th>year</th>\n      <th>inequity</th>\n    </tr>\n  </thead>\n  <tbody>\n    <tr>\n      <th>0</th>\n      <td>Austria</td>\n      <td>2016</td>\n      <td>4.09</td>\n    </tr>\n    <tr>\n      <th>1</th>\n      <td>Belgium</td>\n      <td>2016</td>\n      <td>3.85</td>\n    </tr>\n    <tr>\n      <th>2</th>\n      <td>Bulgaria</td>\n      <td>2016</td>\n      <td>7.69</td>\n    </tr>\n    <tr>\n      <th>3</th>\n      <td>Cyprus</td>\n      <td>2016</td>\n      <td>4.88</td>\n    </tr>\n    <tr>\n      <th>4</th>\n      <td>Czechia</td>\n      <td>2016</td>\n      <td>3.50</td>\n    </tr>\n    <tr>\n      <th>...</th>\n      <td>...</td>\n      <td>...</td>\n      <td>...</td>\n    </tr>\n    <tr>\n      <th>157</th>\n      <td>Portugal</td>\n      <td>2021</td>\n      <td>5.66</td>\n    </tr>\n    <tr>\n      <th>158</th>\n      <td>Romania</td>\n      <td>2021</td>\n      <td>7.14</td>\n    </tr>\n    <tr>\n      <th>159</th>\n      <td>Sweden</td>\n      <td>2021</td>\n      <td>4.04</td>\n    </tr>\n    <tr>\n      <th>160</th>\n      <td>Slovenia</td>\n      <td>2021</td>\n      <td>3.24</td>\n    </tr>\n    <tr>\n      <th>161</th>\n      <td>Slovakia</td>\n      <td>2021</td>\n      <td>3.20</td>\n    </tr>\n  </tbody>\n</table>\n<p>162 rows × 3 columns</p>\n</div>"
     },
     "metadata": {},
     "output_type": "display_data"
    }
   ],
   "source": [
    "inequity_df = pandas.read_table('data/population/ilc_di11.tsv')\n",
    "\n",
    "split = inequity_df[\"freq,age,sex,unit,geo\\\\TIME_PERIOD\"].str.split(\",\", expand=True)\n",
    "split.drop(columns=[0, 1, 2, 3], inplace=True)\n",
    "split.columns = [\"geo\"]\n",
    "\n",
    "inequity_df = pd.concat([inequity_df, split], axis=1)\n",
    "inequity_df.drop(columns=[\"freq,age,sex,unit,geo\\\\TIME_PERIOD\"], axis=1, inplace=True)\n",
    "inequity_df.rename(columns=lambda x: x.strip(), inplace=True)\n",
    "inequity_df[\"geo\"] = inequity_df[\"geo\"].map(geo_dict)\n",
    "\n",
    "# Clean and interpolate the data\n",
    "inequity_df = clean_interpolate(inequity_df, \"geo\") \n",
    "\n",
    "inequity_df = inequity_df.melt(id_vars=[\"geo\"], var_name=\"year\", value_name=\"inequity\")\n",
    "display(inequity_df)"
   ],
   "metadata": {
    "collapsed": false,
    "ExecuteTime": {
     "end_time": "2023-11-02T15:41:36.726054100Z",
     "start_time": "2023-11-02T15:41:36.625518200Z"
    }
   },
   "id": "24afee065e23bba0"
  },
  {
   "cell_type": "markdown",
   "source": [
    " \n",
    "### Dataset: Median income by age and sex\n",
    "Fonte:\n",
    "- [Median income by age and sex](https://ec.europa.eu/eurostat/databrowser/view/ilc_di03__custom_7988486/default/table?lang=en)\n",
    "- [Explanatory Texts](https://ec.europa.eu/eurostat/cache/metadata/en/ilc_sieusilc.htm)\n",
    "\n",
    "Questo dataset rappresenta una raccolta di dati riguardanti il reddito mediano, ottenuto da due rilevazioni: l'EU-SILC (European Union Statistics on Income and Living Conditions) e l'ECHP (European Community Household Panel).\n",
    "\n",
    "- Age: 18 years or over\n",
    "- Sex: Total\n",
    "- Unit: Euro"
   ],
   "metadata": {
    "collapsed": false
   },
   "id": "130095aea1e2fcba"
  },
  {
   "cell_type": "code",
   "execution_count": 13,
   "outputs": [
    {
     "data": {
      "text/plain": "          geo  year  income\n0     Austria  2016   24400\n1     Belgium  2016   22267\n2    Bulgaria  2016    3212\n3      Cyprus  2016   14132\n4     Czechia  2016    7905\n..        ...   ...     ...\n157  Portugal  2021   11115\n158   Romania  2021    4914\n159    Sweden  2021   25925\n160  Slovenia  2021   15415\n161  Slovakia  2021    8744\n\n[162 rows x 3 columns]",
      "text/html": "<div>\n<style scoped>\n    .dataframe tbody tr th:only-of-type {\n        vertical-align: middle;\n    }\n\n    .dataframe tbody tr th {\n        vertical-align: top;\n    }\n\n    .dataframe thead th {\n        text-align: right;\n    }\n</style>\n<table border=\"1\" class=\"dataframe\">\n  <thead>\n    <tr style=\"text-align: right;\">\n      <th></th>\n      <th>geo</th>\n      <th>year</th>\n      <th>income</th>\n    </tr>\n  </thead>\n  <tbody>\n    <tr>\n      <th>0</th>\n      <td>Austria</td>\n      <td>2016</td>\n      <td>24400</td>\n    </tr>\n    <tr>\n      <th>1</th>\n      <td>Belgium</td>\n      <td>2016</td>\n      <td>22267</td>\n    </tr>\n    <tr>\n      <th>2</th>\n      <td>Bulgaria</td>\n      <td>2016</td>\n      <td>3212</td>\n    </tr>\n    <tr>\n      <th>3</th>\n      <td>Cyprus</td>\n      <td>2016</td>\n      <td>14132</td>\n    </tr>\n    <tr>\n      <th>4</th>\n      <td>Czechia</td>\n      <td>2016</td>\n      <td>7905</td>\n    </tr>\n    <tr>\n      <th>...</th>\n      <td>...</td>\n      <td>...</td>\n      <td>...</td>\n    </tr>\n    <tr>\n      <th>157</th>\n      <td>Portugal</td>\n      <td>2021</td>\n      <td>11115</td>\n    </tr>\n    <tr>\n      <th>158</th>\n      <td>Romania</td>\n      <td>2021</td>\n      <td>4914</td>\n    </tr>\n    <tr>\n      <th>159</th>\n      <td>Sweden</td>\n      <td>2021</td>\n      <td>25925</td>\n    </tr>\n    <tr>\n      <th>160</th>\n      <td>Slovenia</td>\n      <td>2021</td>\n      <td>15415</td>\n    </tr>\n    <tr>\n      <th>161</th>\n      <td>Slovakia</td>\n      <td>2021</td>\n      <td>8744</td>\n    </tr>\n  </tbody>\n</table>\n<p>162 rows × 3 columns</p>\n</div>"
     },
     "metadata": {},
     "output_type": "display_data"
    }
   ],
   "source": [
    "income_df = pandas.read_table('data/population/ilc_di03.tsv')\n",
    "\n",
    "split = income_df[\"freq,age,sex,indic_il,unit,geo\\\\TIME_PERIOD\"].str.split(\",\", expand=True)\n",
    "split.drop(columns=[0, 1, 2, 3, 4], inplace=True)\n",
    "split.columns = [\"geo\"]\n",
    "\n",
    "income_df = pd.concat([income_df, split], axis=1)\n",
    "income_df.drop(columns=[\"freq,age,sex,indic_il,unit,geo\\\\TIME_PERIOD\"], axis=1, inplace=True)\n",
    "income_df.rename(columns=lambda x: x.strip(), inplace=True)\n",
    "income_df[\"geo\"] = income_df[\"geo\"].map(geo_dict)\n",
    "\n",
    "# Clean and interpolate the data\n",
    "income_df = clean_interpolate(income_df, \"geo\")\n",
    "\n",
    "income_df = income_df.melt(id_vars=[\"geo\"], var_name=\"year\", value_name=\"income\")\n",
    "display(income_df)"
   ],
   "metadata": {
    "collapsed": false,
    "ExecuteTime": {
     "end_time": "2023-11-02T15:41:36.754978Z",
     "start_time": "2023-11-02T15:41:36.646643900Z"
    }
   },
   "id": "f9869ffa221cd809"
  },
  {
   "cell_type": "markdown",
   "source": [
    "# Costruzione dei dataset su cui effettuare l'analisi\n"
   ],
   "metadata": {
    "collapsed": false
   },
   "id": "d1aebad5e72b8ea1"
  },
  {
   "cell_type": "code",
   "execution_count": 14,
   "outputs": [],
   "source": [
    "# Intentional Homicide\n",
    "homicide_df = pd.merge(homicide_df, poverty_df, on=[\"geo\", \"year\"])\n",
    "homicide_df = pd.merge(homicide_df, neet_df, on=[\"geo\", \"year\"])\n",
    "homicide_df = pd.merge(homicide_df, education_df, on=[\"geo\", \"year\"])\n",
    "homicide_df = pd.merge(homicide_df, unemployment_df, on=[\"geo\", \"year\"])\n",
    "homicide_df = pd.merge(homicide_df, income_df, on=[\"geo\", \"year\"])\n",
    "homicide_df = pd.merge(homicide_df, inequity_df, on=[\"geo\", \"year\"])\n",
    "\n",
    "homicide_df.to_csv(\"data/homicide_df.csv\", index=False)\n",
    "\n",
    "# Sexual violence\n",
    "sexual_violence_df = pd.merge(sexual_violence_df, poverty_df, on=[\"geo\", \"year\"])\n",
    "sexual_violence_df = pd.merge(sexual_violence_df, neet_df, on=[\"geo\", \"year\"])\n",
    "sexual_violence_df = pd.merge(sexual_violence_df, education_df, on=[\"geo\", \"year\"])\n",
    "sexual_violence_df = pd.merge(sexual_violence_df, unemployment_df, on=[\"geo\", \"year\"])\n",
    "sexual_violence_df = pd.merge(sexual_violence_df, income_df, on=[\"geo\", \"year\"])\n",
    "sexual_violence_df = pd.merge(sexual_violence_df, inequity_df, on=[\"geo\", \"year\"])\n",
    "\n",
    "sexual_violence_df.to_csv(\"data/sexual_violence_df.csv\", index=False)\n",
    "\n",
    "# Theft dataset\n",
    "theft_df = pd.merge(theft_df, poverty_df, on=[\"geo\", \"year\"])\n",
    "theft_df = pd.merge(theft_df, neet_df, on=[\"geo\", \"year\"])\n",
    "theft_df = pd.merge(theft_df, education_df, on=[\"geo\", \"year\"])\n",
    "theft_df = pd.merge(theft_df, unemployment_df, on=[\"geo\", \"year\"])\n",
    "theft_df = pd.merge(theft_df, income_df, on=[\"geo\", \"year\"])\n",
    "theft_df = pd.merge(theft_df, inequity_df, on=[\"geo\", \"year\"])\n",
    "\n",
    "theft_df.to_csv(\"data/theft_df.csv\", index=False)\n",
    "\n",
    "# Corruption dataset\n",
    "corruption_df = pd.merge(corruption_df, poverty_df, on=[\"geo\", \"year\"])\n",
    "corruption_df = pd.merge(corruption_df, neet_df, on=[\"geo\", \"year\"])\n",
    "corruption_df = pd.merge(corruption_df, education_df, on=[\"geo\", \"year\"])\n",
    "corruption_df = pd.merge(corruption_df, unemployment_df, on=[\"geo\", \"year\"])\n",
    "corruption_df = pd.merge(corruption_df, income_df, on=[\"geo\", \"year\"])\n",
    "corruption_df = pd.merge(corruption_df, inequity_df, on=[\"geo\", \"year\"])\n",
    "\n",
    "corruption_df.to_csv(\"data/corruption_df.csv\", index=False)"
   ],
   "metadata": {
    "collapsed": false,
    "ExecuteTime": {
     "end_time": "2023-11-02T15:41:36.797868400Z",
     "start_time": "2023-11-02T15:41:36.668187600Z"
    }
   },
   "id": "3c67933501a67580"
  }
 ],
 "metadata": {
  "kernelspec": {
   "display_name": "Python 3",
   "language": "python",
   "name": "python3"
  },
  "language_info": {
   "codemirror_mode": {
    "name": "ipython",
    "version": 2
   },
   "file_extension": ".py",
   "mimetype": "text/x-python",
   "name": "python",
   "nbconvert_exporter": "python",
   "pygments_lexer": "ipython2",
   "version": "2.7.6"
  }
 },
 "nbformat": 4,
 "nbformat_minor": 5
}
