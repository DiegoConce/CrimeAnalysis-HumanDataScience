{
 "cells": [
  {
   "cell_type": "code",
   "execution_count": 1,
   "outputs": [],
   "source": [
    "import pandas\n",
    "import pandas as pd\n",
    "import numpy as np\n",
    "import matplotlib.pyplot as plt\n",
    "import scipy\n",
    "import seaborn as sns"
   ],
   "metadata": {
    "collapsed": false,
    "ExecuteTime": {
     "end_time": "2023-10-19T12:55:14.727986400Z",
     "start_time": "2023-10-19T12:55:14.719015500Z"
    }
   },
   "id": "a40ea28f59cb3ac5"
  },
  {
   "cell_type": "markdown",
   "source": [
    "# Human Data Science - Course Project"
   ],
   "metadata": {
    "collapsed": false
   },
   "id": "c7a91a9001f67d16"
  },
  {
   "cell_type": "markdown",
   "source": [
    "## Costruzione del dataset\n",
    "L'obiettivo è la creazione di un dataset o più dataset contenenti dati riguardo al crimine e fattori socio-economici che possono influenzare il crimine stesso per ogni paese dell'Unione Europea.\n",
    "\n",
    "\n",
    "I dati riguardo i crimini commessi sono forniti da [Eurostat](https://ec.europa.eu/eurostat/databrowser/view/crim_off_cat__custom_7891721/default/table?lang=en), [Explanatory Texts](https://ec.europa.eu/eurostat/cache/metadata/en/crim_off_cat_esms.htm)"
   ],
   "metadata": {
    "collapsed": false
   },
   "id": "581bea6cf67f22d7"
  },
  {
   "cell_type": "code",
   "execution_count": 2,
   "outputs": [
    {
     "data": {
      "text/plain": "    freq,iccs,unit,geo\\TIME_PERIOD  2016   2017   2018   2019   2020   2021 \n0            A,ICCS0101,P_HTHAB,AT  0.56   0.70   0.83   0.84   0.61   0.66 \n1            A,ICCS0101,P_HTHAB,BE  1.55   1.74   1.68   1.27   1.26   1.26 \n2            A,ICCS0101,P_HTHAB,BG  1.10   1.34   1.30   1.14   0.95   1.27 \n3            A,ICCS0101,P_HTHAB,CY  1.30   0.82   1.62   1.48   1.69   1.56 \n4            A,ICCS0101,P_HTHAB,CZ  0.62   0.38   0.52   0.76   0.53   0.43 \n..                             ...    ...    ...    ...    ...    ...    ...\n501         A,ICCS09051,P_HTHAB,PL  1.28   1.52   1.20   1.30   2.30   2.37 \n502         A,ICCS09051,P_HTHAB,PT  0.10   0.10   0.06   0.08   0.05   0.03 \n503         A,ICCS09051,P_HTHAB,RO  5.32   4.93   3.52   2.81   2.53   3.07 \n504         A,ICCS09051,P_HTHAB,SI  0.05   0.05   0.19   0.24   0.05   0.19 \n505         A,ICCS09051,P_HTHAB,SK  0.11   0.11   0.17   0.11   0.18   0.26 \n\n[506 rows x 7 columns]",
      "text/html": "<div>\n<style scoped>\n    .dataframe tbody tr th:only-of-type {\n        vertical-align: middle;\n    }\n\n    .dataframe tbody tr th {\n        vertical-align: top;\n    }\n\n    .dataframe thead th {\n        text-align: right;\n    }\n</style>\n<table border=\"1\" class=\"dataframe\">\n  <thead>\n    <tr style=\"text-align: right;\">\n      <th></th>\n      <th>freq,iccs,unit,geo\\TIME_PERIOD</th>\n      <th>2016</th>\n      <th>2017</th>\n      <th>2018</th>\n      <th>2019</th>\n      <th>2020</th>\n      <th>2021</th>\n    </tr>\n  </thead>\n  <tbody>\n    <tr>\n      <th>0</th>\n      <td>A,ICCS0101,P_HTHAB,AT</td>\n      <td>0.56</td>\n      <td>0.70</td>\n      <td>0.83</td>\n      <td>0.84</td>\n      <td>0.61</td>\n      <td>0.66</td>\n    </tr>\n    <tr>\n      <th>1</th>\n      <td>A,ICCS0101,P_HTHAB,BE</td>\n      <td>1.55</td>\n      <td>1.74</td>\n      <td>1.68</td>\n      <td>1.27</td>\n      <td>1.26</td>\n      <td>1.26</td>\n    </tr>\n    <tr>\n      <th>2</th>\n      <td>A,ICCS0101,P_HTHAB,BG</td>\n      <td>1.10</td>\n      <td>1.34</td>\n      <td>1.30</td>\n      <td>1.14</td>\n      <td>0.95</td>\n      <td>1.27</td>\n    </tr>\n    <tr>\n      <th>3</th>\n      <td>A,ICCS0101,P_HTHAB,CY</td>\n      <td>1.30</td>\n      <td>0.82</td>\n      <td>1.62</td>\n      <td>1.48</td>\n      <td>1.69</td>\n      <td>1.56</td>\n    </tr>\n    <tr>\n      <th>4</th>\n      <td>A,ICCS0101,P_HTHAB,CZ</td>\n      <td>0.62</td>\n      <td>0.38</td>\n      <td>0.52</td>\n      <td>0.76</td>\n      <td>0.53</td>\n      <td>0.43</td>\n    </tr>\n    <tr>\n      <th>...</th>\n      <td>...</td>\n      <td>...</td>\n      <td>...</td>\n      <td>...</td>\n      <td>...</td>\n      <td>...</td>\n      <td>...</td>\n    </tr>\n    <tr>\n      <th>501</th>\n      <td>A,ICCS09051,P_HTHAB,PL</td>\n      <td>1.28</td>\n      <td>1.52</td>\n      <td>1.20</td>\n      <td>1.30</td>\n      <td>2.30</td>\n      <td>2.37</td>\n    </tr>\n    <tr>\n      <th>502</th>\n      <td>A,ICCS09051,P_HTHAB,PT</td>\n      <td>0.10</td>\n      <td>0.10</td>\n      <td>0.06</td>\n      <td>0.08</td>\n      <td>0.05</td>\n      <td>0.03</td>\n    </tr>\n    <tr>\n      <th>503</th>\n      <td>A,ICCS09051,P_HTHAB,RO</td>\n      <td>5.32</td>\n      <td>4.93</td>\n      <td>3.52</td>\n      <td>2.81</td>\n      <td>2.53</td>\n      <td>3.07</td>\n    </tr>\n    <tr>\n      <th>504</th>\n      <td>A,ICCS09051,P_HTHAB,SI</td>\n      <td>0.05</td>\n      <td>0.05</td>\n      <td>0.19</td>\n      <td>0.24</td>\n      <td>0.05</td>\n      <td>0.19</td>\n    </tr>\n    <tr>\n      <th>505</th>\n      <td>A,ICCS09051,P_HTHAB,SK</td>\n      <td>0.11</td>\n      <td>0.11</td>\n      <td>0.17</td>\n      <td>0.11</td>\n      <td>0.18</td>\n      <td>0.26</td>\n    </tr>\n  </tbody>\n</table>\n<p>506 rows × 7 columns</p>\n</div>"
     },
     "metadata": {},
     "output_type": "display_data"
    }
   ],
   "source": [
    "df = pandas.read_table('data/crime/crim_off_cat.tsv')  #ok\n",
    "\n",
    "display(df)"
   ],
   "metadata": {
    "collapsed": false,
    "ExecuteTime": {
     "end_time": "2023-10-19T12:55:14.788944300Z",
     "start_time": "2023-10-19T12:55:14.724994500Z"
    }
   },
   "id": "1056160955c1264b"
  },
  {
   "cell_type": "markdown",
   "source": [
    "### Legenda\n",
    "ICCS = International Classification of crime for statistical purposes\n",
    "Geo = Geopolitical entity \n",
    "Unit = Unit of measure (Per 100 000 inhabitants)\n",
    "Freq = Time frequency (A = Annual)\n",
    "\n",
    "Nel dataset sono presenti record per 20 tipi di crimini diversi, purtroppo per alcuni crimini i dati erano incompleti, mancanti o completamente non presenti per alcuni paesi. Per questo motivo sono stati selezionati solo alcuni tipi di crimini per ogni paese:\n",
    "- Intentional Homicide\n",
    "- Serious Assalt (Dati mancanti per l'Ungheria)\n",
    "- Sexual Violence\n",
    "- Stupro (Dati mancanti per l'Italia) (?)\n",
    "- Robbery\n",
    "- theft\n",
    "- Corruption (Alcuni valori sono stati interpolati linearmente)\n",
    "\n",
    "I dati sono forniti per ogni paese dell'Unione Europea, per ogni anno dal 2016 al 2021."
   ],
   "metadata": {
    "collapsed": false
   },
   "id": "90530a611bc6f72c"
  },
  {
   "cell_type": "code",
   "execution_count": 3,
   "outputs": [],
   "source": [
    "split = df[\"freq,iccs,unit,geo\\\\TIME_PERIOD\"].str.split(\",\", expand=True)\n",
    "split.columns = [\"freq\", \"iccs\", \"unit\", \"geo\"]\n",
    "split.drop(columns=[\"freq\", \"unit\"], inplace=True)\n",
    "split = split[[\"geo\", \"iccs\"]]\n",
    "\n",
    "df = pd.concat([df, split], axis=1)\n",
    "df.drop(columns=[\"freq,iccs,unit,geo\\\\TIME_PERIOD\"], inplace=True)\n",
    "df = df.iloc[:, ::-1]\n",
    "df.rename(columns=lambda x: x.strip(), inplace=True)"
   ],
   "metadata": {
    "collapsed": false,
    "ExecuteTime": {
     "end_time": "2023-10-19T12:55:14.804971600Z",
     "start_time": "2023-10-19T12:55:14.790939900Z"
    }
   },
   "id": "f36b66d8f4dc1c29"
  },
  {
   "cell_type": "code",
   "execution_count": 4,
   "outputs": [
    {
     "data": {
      "text/plain": "          iccs       geo   2021   2020   2019   2018   2017   2016\n0     ICCS0101   Austria  0.66   0.61   0.84   0.83   0.70   0.56 \n1     ICCS0101   Belgium  1.26   1.26   1.27   1.68   1.74   1.55 \n2     ICCS0101  Bulgaria  1.27   0.95   1.14   1.30   1.34   1.10 \n3     ICCS0101    Cyprus  1.56   1.69   1.48   1.62   0.82   1.30 \n4     ICCS0101   Czechia  0.43   0.53   0.76   0.52   0.38   0.62 \n..         ...       ...    ...    ...    ...    ...    ...    ...\n501  ICCS09051    Poland  2.37   2.30   1.30   1.20   1.52   1.28 \n502  ICCS09051  Portugal  0.03   0.05   0.08   0.06   0.10   0.10 \n503  ICCS09051   Romania  3.07   2.53   2.81   3.52   4.93   5.32 \n504  ICCS09051  Slovenia  0.19   0.05   0.24   0.19   0.05   0.05 \n505  ICCS09051  Slovakia  0.26   0.18   0.11   0.17   0.11   0.11 \n\n[506 rows x 8 columns]",
      "text/html": "<div>\n<style scoped>\n    .dataframe tbody tr th:only-of-type {\n        vertical-align: middle;\n    }\n\n    .dataframe tbody tr th {\n        vertical-align: top;\n    }\n\n    .dataframe thead th {\n        text-align: right;\n    }\n</style>\n<table border=\"1\" class=\"dataframe\">\n  <thead>\n    <tr style=\"text-align: right;\">\n      <th></th>\n      <th>iccs</th>\n      <th>geo</th>\n      <th>2021</th>\n      <th>2020</th>\n      <th>2019</th>\n      <th>2018</th>\n      <th>2017</th>\n      <th>2016</th>\n    </tr>\n  </thead>\n  <tbody>\n    <tr>\n      <th>0</th>\n      <td>ICCS0101</td>\n      <td>Austria</td>\n      <td>0.66</td>\n      <td>0.61</td>\n      <td>0.84</td>\n      <td>0.83</td>\n      <td>0.70</td>\n      <td>0.56</td>\n    </tr>\n    <tr>\n      <th>1</th>\n      <td>ICCS0101</td>\n      <td>Belgium</td>\n      <td>1.26</td>\n      <td>1.26</td>\n      <td>1.27</td>\n      <td>1.68</td>\n      <td>1.74</td>\n      <td>1.55</td>\n    </tr>\n    <tr>\n      <th>2</th>\n      <td>ICCS0101</td>\n      <td>Bulgaria</td>\n      <td>1.27</td>\n      <td>0.95</td>\n      <td>1.14</td>\n      <td>1.30</td>\n      <td>1.34</td>\n      <td>1.10</td>\n    </tr>\n    <tr>\n      <th>3</th>\n      <td>ICCS0101</td>\n      <td>Cyprus</td>\n      <td>1.56</td>\n      <td>1.69</td>\n      <td>1.48</td>\n      <td>1.62</td>\n      <td>0.82</td>\n      <td>1.30</td>\n    </tr>\n    <tr>\n      <th>4</th>\n      <td>ICCS0101</td>\n      <td>Czechia</td>\n      <td>0.43</td>\n      <td>0.53</td>\n      <td>0.76</td>\n      <td>0.52</td>\n      <td>0.38</td>\n      <td>0.62</td>\n    </tr>\n    <tr>\n      <th>...</th>\n      <td>...</td>\n      <td>...</td>\n      <td>...</td>\n      <td>...</td>\n      <td>...</td>\n      <td>...</td>\n      <td>...</td>\n      <td>...</td>\n    </tr>\n    <tr>\n      <th>501</th>\n      <td>ICCS09051</td>\n      <td>Poland</td>\n      <td>2.37</td>\n      <td>2.30</td>\n      <td>1.30</td>\n      <td>1.20</td>\n      <td>1.52</td>\n      <td>1.28</td>\n    </tr>\n    <tr>\n      <th>502</th>\n      <td>ICCS09051</td>\n      <td>Portugal</td>\n      <td>0.03</td>\n      <td>0.05</td>\n      <td>0.08</td>\n      <td>0.06</td>\n      <td>0.10</td>\n      <td>0.10</td>\n    </tr>\n    <tr>\n      <th>503</th>\n      <td>ICCS09051</td>\n      <td>Romania</td>\n      <td>3.07</td>\n      <td>2.53</td>\n      <td>2.81</td>\n      <td>3.52</td>\n      <td>4.93</td>\n      <td>5.32</td>\n    </tr>\n    <tr>\n      <th>504</th>\n      <td>ICCS09051</td>\n      <td>Slovenia</td>\n      <td>0.19</td>\n      <td>0.05</td>\n      <td>0.24</td>\n      <td>0.19</td>\n      <td>0.05</td>\n      <td>0.05</td>\n    </tr>\n    <tr>\n      <th>505</th>\n      <td>ICCS09051</td>\n      <td>Slovakia</td>\n      <td>0.26</td>\n      <td>0.18</td>\n      <td>0.11</td>\n      <td>0.17</td>\n      <td>0.11</td>\n      <td>0.11</td>\n    </tr>\n  </tbody>\n</table>\n<p>506 rows × 8 columns</p>\n</div>"
     },
     "metadata": {},
     "output_type": "display_data"
    }
   ],
   "source": [
    "# Rename rows with the name of the country\n",
    "geo_dict = {\n",
    "    \"BE\": \"Belgium\",\n",
    "    \"BG\": \"Bulgaria\",\n",
    "    \"CZ\": \"Czechia\",\n",
    "    \"DK\": \"Denmark\",\n",
    "    \"DE\": \"Germany\",\n",
    "    \"EE\": \"Estonia\",\n",
    "    \"IE\": \"Ireland\",\n",
    "    \"EL\": \"Greece\",\n",
    "    \"ES\": \"Spain\",\n",
    "    \"FR\": \"France\",\n",
    "    \"HR\": \"Croatia\",\n",
    "    \"IT\": \"Italy\",\n",
    "    \"CY\": \"Cyprus\",\n",
    "    \"LV\": \"Latvia\",\n",
    "    \"LT\": \"Lithuania\",\n",
    "    \"LU\": \"Luxembourg\",\n",
    "    \"HU\": \"Hungary\",\n",
    "    \"MT\": \"Malta\",\n",
    "    \"NL\": \"Netherlands\",\n",
    "    \"AT\": \"Austria\",\n",
    "    \"PL\": \"Poland\",\n",
    "    \"PT\": \"Portugal\",\n",
    "    \"RO\": \"Romania\",\n",
    "    \"SI\": \"Slovenia\",\n",
    "    \"SK\": \"Slovakia\",\n",
    "    \"FI\": \"Finland\",\n",
    "    \"SE\": \"Sweden\",\n",
    "}\n",
    "\n",
    "df[\"geo\"] = df[\"geo\"].map(geo_dict)\n",
    "display(df)"
   ],
   "metadata": {
    "collapsed": false,
    "ExecuteTime": {
     "end_time": "2023-10-19T12:55:14.823318900Z",
     "start_time": "2023-10-19T12:55:14.806967600Z"
    }
   },
   "id": "666b1e5b80d20231"
  },
  {
   "cell_type": "code",
   "execution_count": 5,
   "outputs": [
    {
     "data": {
      "text/plain": "              2016   2017   2018   2019   2020   2021\ngeo                                                  \nAustria      0.56   0.70   0.83   0.84   0.61   0.66 \nBelgium      1.55   1.74   1.68   1.27   1.26   1.26 \nBulgaria     1.10   1.34   1.30   1.14   0.95   1.27 \nCyprus       1.30   0.82   1.62   1.48   1.69   1.56 \nCzechia      0.62   0.38   0.52   0.76   0.53   0.43 \nGermany      0.91   0.89   0.76   0.71   0.86   0.76 \nDenmark      0.93   1.06   0.93   0.91   0.88   0.72 \nEstonia      2.51   2.20   1.90   1.74   2.78   1.35 \nGreece       0.75   0.72   0.88   0.71   0.68   0.83 \nSpain        0.63   0.66   0.62   0.71   0.63   0.61 \nFinland      1.75   1.34   1.72   1.50   1.72   1.70 \nFrance       1.17   1.06   1.04   1.12   1.03   1.08 \nCroatia      1.05   1.11   0.58   0.81   0.99   0.82 \nHungary      0.93   0.87   0.85   0.59   0.79   0.69 \nIreland      0.72   0.82   0.81   0.67   0.66   0.44 \nItaly        0.67   0.62   0.59   0.53   0.48   0.51 \nLithuania    4.92   3.97   3.45   3.01   3.54   2.50 \nLuxembourg   0.87   0.34   0.50   0.65   0.32   0.47 \nLatvia       5.64   5.59   5.22   4.74   4.88   5.18 \nMalta        1.11   1.96   1.26   0.81   1.17   0.39 \nNetherlands  0.64   0.92   0.69   0.72   0.70   0.72 \nPoland       0.67   0.73   0.70   0.54   0.69   0.70 \nPortugal     0.64   0.74   0.79   0.71   0.79   0.80 \nRomania      1.25   1.30   1.37   1.31   1.32   0.99 \nSweden       1.08   1.13   1.07   1.09   1.20   1.09 \nSlovenia     0.48   0.92   0.44   0.67   0.52   0.43 \nSlovakia     1.11   1.47   1.23   1.39   1.15   1.01 ",
      "text/html": "<div>\n<style scoped>\n    .dataframe tbody tr th:only-of-type {\n        vertical-align: middle;\n    }\n\n    .dataframe tbody tr th {\n        vertical-align: top;\n    }\n\n    .dataframe thead th {\n        text-align: right;\n    }\n</style>\n<table border=\"1\" class=\"dataframe\">\n  <thead>\n    <tr style=\"text-align: right;\">\n      <th></th>\n      <th>2016</th>\n      <th>2017</th>\n      <th>2018</th>\n      <th>2019</th>\n      <th>2020</th>\n      <th>2021</th>\n    </tr>\n    <tr>\n      <th>geo</th>\n      <th></th>\n      <th></th>\n      <th></th>\n      <th></th>\n      <th></th>\n      <th></th>\n    </tr>\n  </thead>\n  <tbody>\n    <tr>\n      <th>Austria</th>\n      <td>0.56</td>\n      <td>0.70</td>\n      <td>0.83</td>\n      <td>0.84</td>\n      <td>0.61</td>\n      <td>0.66</td>\n    </tr>\n    <tr>\n      <th>Belgium</th>\n      <td>1.55</td>\n      <td>1.74</td>\n      <td>1.68</td>\n      <td>1.27</td>\n      <td>1.26</td>\n      <td>1.26</td>\n    </tr>\n    <tr>\n      <th>Bulgaria</th>\n      <td>1.10</td>\n      <td>1.34</td>\n      <td>1.30</td>\n      <td>1.14</td>\n      <td>0.95</td>\n      <td>1.27</td>\n    </tr>\n    <tr>\n      <th>Cyprus</th>\n      <td>1.30</td>\n      <td>0.82</td>\n      <td>1.62</td>\n      <td>1.48</td>\n      <td>1.69</td>\n      <td>1.56</td>\n    </tr>\n    <tr>\n      <th>Czechia</th>\n      <td>0.62</td>\n      <td>0.38</td>\n      <td>0.52</td>\n      <td>0.76</td>\n      <td>0.53</td>\n      <td>0.43</td>\n    </tr>\n    <tr>\n      <th>Germany</th>\n      <td>0.91</td>\n      <td>0.89</td>\n      <td>0.76</td>\n      <td>0.71</td>\n      <td>0.86</td>\n      <td>0.76</td>\n    </tr>\n    <tr>\n      <th>Denmark</th>\n      <td>0.93</td>\n      <td>1.06</td>\n      <td>0.93</td>\n      <td>0.91</td>\n      <td>0.88</td>\n      <td>0.72</td>\n    </tr>\n    <tr>\n      <th>Estonia</th>\n      <td>2.51</td>\n      <td>2.20</td>\n      <td>1.90</td>\n      <td>1.74</td>\n      <td>2.78</td>\n      <td>1.35</td>\n    </tr>\n    <tr>\n      <th>Greece</th>\n      <td>0.75</td>\n      <td>0.72</td>\n      <td>0.88</td>\n      <td>0.71</td>\n      <td>0.68</td>\n      <td>0.83</td>\n    </tr>\n    <tr>\n      <th>Spain</th>\n      <td>0.63</td>\n      <td>0.66</td>\n      <td>0.62</td>\n      <td>0.71</td>\n      <td>0.63</td>\n      <td>0.61</td>\n    </tr>\n    <tr>\n      <th>Finland</th>\n      <td>1.75</td>\n      <td>1.34</td>\n      <td>1.72</td>\n      <td>1.50</td>\n      <td>1.72</td>\n      <td>1.70</td>\n    </tr>\n    <tr>\n      <th>France</th>\n      <td>1.17</td>\n      <td>1.06</td>\n      <td>1.04</td>\n      <td>1.12</td>\n      <td>1.03</td>\n      <td>1.08</td>\n    </tr>\n    <tr>\n      <th>Croatia</th>\n      <td>1.05</td>\n      <td>1.11</td>\n      <td>0.58</td>\n      <td>0.81</td>\n      <td>0.99</td>\n      <td>0.82</td>\n    </tr>\n    <tr>\n      <th>Hungary</th>\n      <td>0.93</td>\n      <td>0.87</td>\n      <td>0.85</td>\n      <td>0.59</td>\n      <td>0.79</td>\n      <td>0.69</td>\n    </tr>\n    <tr>\n      <th>Ireland</th>\n      <td>0.72</td>\n      <td>0.82</td>\n      <td>0.81</td>\n      <td>0.67</td>\n      <td>0.66</td>\n      <td>0.44</td>\n    </tr>\n    <tr>\n      <th>Italy</th>\n      <td>0.67</td>\n      <td>0.62</td>\n      <td>0.59</td>\n      <td>0.53</td>\n      <td>0.48</td>\n      <td>0.51</td>\n    </tr>\n    <tr>\n      <th>Lithuania</th>\n      <td>4.92</td>\n      <td>3.97</td>\n      <td>3.45</td>\n      <td>3.01</td>\n      <td>3.54</td>\n      <td>2.50</td>\n    </tr>\n    <tr>\n      <th>Luxembourg</th>\n      <td>0.87</td>\n      <td>0.34</td>\n      <td>0.50</td>\n      <td>0.65</td>\n      <td>0.32</td>\n      <td>0.47</td>\n    </tr>\n    <tr>\n      <th>Latvia</th>\n      <td>5.64</td>\n      <td>5.59</td>\n      <td>5.22</td>\n      <td>4.74</td>\n      <td>4.88</td>\n      <td>5.18</td>\n    </tr>\n    <tr>\n      <th>Malta</th>\n      <td>1.11</td>\n      <td>1.96</td>\n      <td>1.26</td>\n      <td>0.81</td>\n      <td>1.17</td>\n      <td>0.39</td>\n    </tr>\n    <tr>\n      <th>Netherlands</th>\n      <td>0.64</td>\n      <td>0.92</td>\n      <td>0.69</td>\n      <td>0.72</td>\n      <td>0.70</td>\n      <td>0.72</td>\n    </tr>\n    <tr>\n      <th>Poland</th>\n      <td>0.67</td>\n      <td>0.73</td>\n      <td>0.70</td>\n      <td>0.54</td>\n      <td>0.69</td>\n      <td>0.70</td>\n    </tr>\n    <tr>\n      <th>Portugal</th>\n      <td>0.64</td>\n      <td>0.74</td>\n      <td>0.79</td>\n      <td>0.71</td>\n      <td>0.79</td>\n      <td>0.80</td>\n    </tr>\n    <tr>\n      <th>Romania</th>\n      <td>1.25</td>\n      <td>1.30</td>\n      <td>1.37</td>\n      <td>1.31</td>\n      <td>1.32</td>\n      <td>0.99</td>\n    </tr>\n    <tr>\n      <th>Sweden</th>\n      <td>1.08</td>\n      <td>1.13</td>\n      <td>1.07</td>\n      <td>1.09</td>\n      <td>1.20</td>\n      <td>1.09</td>\n    </tr>\n    <tr>\n      <th>Slovenia</th>\n      <td>0.48</td>\n      <td>0.92</td>\n      <td>0.44</td>\n      <td>0.67</td>\n      <td>0.52</td>\n      <td>0.43</td>\n    </tr>\n    <tr>\n      <th>Slovakia</th>\n      <td>1.11</td>\n      <td>1.47</td>\n      <td>1.23</td>\n      <td>1.39</td>\n      <td>1.15</td>\n      <td>1.01</td>\n    </tr>\n  </tbody>\n</table>\n</div>"
     },
     "metadata": {},
     "output_type": "display_data"
    },
    {
     "name": "stdout",
     "output_type": "stream",
     "text": [
      "The country with the most common crime is Latvia with 31.249999999999996 crimes per 100.000 inhabitants\n"
     ]
    },
    {
     "data": {
      "text/plain": "          geo  year  homicides\n0     Austria  2016       0.56\n1     Belgium  2016       1.55\n2    Bulgaria  2016       1.10\n3      Cyprus  2016       1.30\n4     Czechia  2016       0.62\n..        ...   ...        ...\n157  Portugal  2021       0.80\n158   Romania  2021       0.99\n159    Sweden  2021       1.09\n160  Slovenia  2021       0.43\n161  Slovakia  2021       1.01\n\n[162 rows x 3 columns]",
      "text/html": "<div>\n<style scoped>\n    .dataframe tbody tr th:only-of-type {\n        vertical-align: middle;\n    }\n\n    .dataframe tbody tr th {\n        vertical-align: top;\n    }\n\n    .dataframe thead th {\n        text-align: right;\n    }\n</style>\n<table border=\"1\" class=\"dataframe\">\n  <thead>\n    <tr style=\"text-align: right;\">\n      <th></th>\n      <th>geo</th>\n      <th>year</th>\n      <th>homicides</th>\n    </tr>\n  </thead>\n  <tbody>\n    <tr>\n      <th>0</th>\n      <td>Austria</td>\n      <td>2016</td>\n      <td>0.56</td>\n    </tr>\n    <tr>\n      <th>1</th>\n      <td>Belgium</td>\n      <td>2016</td>\n      <td>1.55</td>\n    </tr>\n    <tr>\n      <th>2</th>\n      <td>Bulgaria</td>\n      <td>2016</td>\n      <td>1.10</td>\n    </tr>\n    <tr>\n      <th>3</th>\n      <td>Cyprus</td>\n      <td>2016</td>\n      <td>1.30</td>\n    </tr>\n    <tr>\n      <th>4</th>\n      <td>Czechia</td>\n      <td>2016</td>\n      <td>0.62</td>\n    </tr>\n    <tr>\n      <th>...</th>\n      <td>...</td>\n      <td>...</td>\n      <td>...</td>\n    </tr>\n    <tr>\n      <th>157</th>\n      <td>Portugal</td>\n      <td>2021</td>\n      <td>0.80</td>\n    </tr>\n    <tr>\n      <th>158</th>\n      <td>Romania</td>\n      <td>2021</td>\n      <td>0.99</td>\n    </tr>\n    <tr>\n      <th>159</th>\n      <td>Sweden</td>\n      <td>2021</td>\n      <td>1.09</td>\n    </tr>\n    <tr>\n      <th>160</th>\n      <td>Slovenia</td>\n      <td>2021</td>\n      <td>0.43</td>\n    </tr>\n    <tr>\n      <th>161</th>\n      <td>Slovakia</td>\n      <td>2021</td>\n      <td>1.01</td>\n    </tr>\n  </tbody>\n</table>\n<p>162 rows × 3 columns</p>\n</div>"
     },
     "metadata": {},
     "output_type": "display_data"
    }
   ],
   "source": [
    "# Select ICCS0101\n",
    "omicidio_df = df[df[\"iccs\"] == \"ICCS0101\"].drop(columns=[\"iccs\"])\n",
    "omicidio_df.set_index(\"geo\", inplace=True)\n",
    "omicidio_df = omicidio_df.iloc[:, ::-1]\n",
    "display(omicidio_df)\n",
    "\n",
    "omicidio_df = omicidio_df.applymap(lambda x: pd.to_numeric(x, errors='coerce'))\n",
    "omicidio_df[\"Total\"] = omicidio_df.sum(axis=1)\n",
    "\n",
    "country_most_common = omicidio_df[\"Total\"].idxmax()\n",
    "total_most_common = omicidio_df[\"Total\"].max()\n",
    "\n",
    "print(\n",
    "    f\"The country with the most common crime is {country_most_common} with {total_most_common} crimes per 100.000 inhabitants\")\n",
    "\n",
    "omicidio_df.drop(columns=[\"Total\"], inplace=True)\n",
    "\n",
    "omicidio_df.reset_index(inplace=True)\n",
    "\n",
    "omicidio_df = omicidio_df.melt(id_vars=[\"geo\"], var_name=\"year\", value_name=\"homicides\")\n",
    "\n",
    "display(omicidio_df)"
   ],
   "metadata": {
    "collapsed": false,
    "ExecuteTime": {
     "end_time": "2023-10-19T12:55:14.926976700Z",
     "start_time": "2023-10-19T12:55:14.818332900Z"
    }
   },
   "id": "b6a0e89a6b0dc68e"
  },
  {
   "cell_type": "code",
   "execution_count": 6,
   "outputs": [
    {
     "data": {
      "text/plain": "          iccs       geo   2021   2020   2019   2018   2017   2016\n0     ICCS0101   Austria  0.66   0.61   0.84   0.83   0.70   0.56 \n1     ICCS0101   Belgium  1.26   1.26   1.27   1.68   1.74   1.55 \n2     ICCS0101  Bulgaria  1.27   0.95   1.14   1.30   1.34   1.10 \n3     ICCS0101    Cyprus  1.56   1.69   1.48   1.62   0.82   1.30 \n4     ICCS0101   Czechia  0.43   0.53   0.76   0.52   0.38   0.62 \n..         ...       ...    ...    ...    ...    ...    ...    ...\n501  ICCS09051    Poland  2.37   2.30   1.30   1.20   1.52   1.28 \n502  ICCS09051  Portugal  0.03   0.05   0.08   0.06   0.10   0.10 \n503  ICCS09051   Romania  3.07   2.53   2.81   3.52   4.93   5.32 \n504  ICCS09051  Slovenia  0.19   0.05   0.24   0.19   0.05   0.05 \n505  ICCS09051  Slovakia  0.26   0.18   0.11   0.17   0.11   0.11 \n\n[506 rows x 8 columns]",
      "text/html": "<div>\n<style scoped>\n    .dataframe tbody tr th:only-of-type {\n        vertical-align: middle;\n    }\n\n    .dataframe tbody tr th {\n        vertical-align: top;\n    }\n\n    .dataframe thead th {\n        text-align: right;\n    }\n</style>\n<table border=\"1\" class=\"dataframe\">\n  <thead>\n    <tr style=\"text-align: right;\">\n      <th></th>\n      <th>iccs</th>\n      <th>geo</th>\n      <th>2021</th>\n      <th>2020</th>\n      <th>2019</th>\n      <th>2018</th>\n      <th>2017</th>\n      <th>2016</th>\n    </tr>\n  </thead>\n  <tbody>\n    <tr>\n      <th>0</th>\n      <td>ICCS0101</td>\n      <td>Austria</td>\n      <td>0.66</td>\n      <td>0.61</td>\n      <td>0.84</td>\n      <td>0.83</td>\n      <td>0.70</td>\n      <td>0.56</td>\n    </tr>\n    <tr>\n      <th>1</th>\n      <td>ICCS0101</td>\n      <td>Belgium</td>\n      <td>1.26</td>\n      <td>1.26</td>\n      <td>1.27</td>\n      <td>1.68</td>\n      <td>1.74</td>\n      <td>1.55</td>\n    </tr>\n    <tr>\n      <th>2</th>\n      <td>ICCS0101</td>\n      <td>Bulgaria</td>\n      <td>1.27</td>\n      <td>0.95</td>\n      <td>1.14</td>\n      <td>1.30</td>\n      <td>1.34</td>\n      <td>1.10</td>\n    </tr>\n    <tr>\n      <th>3</th>\n      <td>ICCS0101</td>\n      <td>Cyprus</td>\n      <td>1.56</td>\n      <td>1.69</td>\n      <td>1.48</td>\n      <td>1.62</td>\n      <td>0.82</td>\n      <td>1.30</td>\n    </tr>\n    <tr>\n      <th>4</th>\n      <td>ICCS0101</td>\n      <td>Czechia</td>\n      <td>0.43</td>\n      <td>0.53</td>\n      <td>0.76</td>\n      <td>0.52</td>\n      <td>0.38</td>\n      <td>0.62</td>\n    </tr>\n    <tr>\n      <th>...</th>\n      <td>...</td>\n      <td>...</td>\n      <td>...</td>\n      <td>...</td>\n      <td>...</td>\n      <td>...</td>\n      <td>...</td>\n      <td>...</td>\n    </tr>\n    <tr>\n      <th>501</th>\n      <td>ICCS09051</td>\n      <td>Poland</td>\n      <td>2.37</td>\n      <td>2.30</td>\n      <td>1.30</td>\n      <td>1.20</td>\n      <td>1.52</td>\n      <td>1.28</td>\n    </tr>\n    <tr>\n      <th>502</th>\n      <td>ICCS09051</td>\n      <td>Portugal</td>\n      <td>0.03</td>\n      <td>0.05</td>\n      <td>0.08</td>\n      <td>0.06</td>\n      <td>0.10</td>\n      <td>0.10</td>\n    </tr>\n    <tr>\n      <th>503</th>\n      <td>ICCS09051</td>\n      <td>Romania</td>\n      <td>3.07</td>\n      <td>2.53</td>\n      <td>2.81</td>\n      <td>3.52</td>\n      <td>4.93</td>\n      <td>5.32</td>\n    </tr>\n    <tr>\n      <th>504</th>\n      <td>ICCS09051</td>\n      <td>Slovenia</td>\n      <td>0.19</td>\n      <td>0.05</td>\n      <td>0.24</td>\n      <td>0.19</td>\n      <td>0.05</td>\n      <td>0.05</td>\n    </tr>\n    <tr>\n      <th>505</th>\n      <td>ICCS09051</td>\n      <td>Slovakia</td>\n      <td>0.26</td>\n      <td>0.18</td>\n      <td>0.11</td>\n      <td>0.17</td>\n      <td>0.11</td>\n      <td>0.11</td>\n    </tr>\n  </tbody>\n</table>\n<p>506 rows × 8 columns</p>\n</div>"
     },
     "metadata": {},
     "output_type": "display_data"
    }
   ],
   "source": [
    "# df = df.melt(id_vars=[\"geo\", \"iccs\"], var_name=\"year\", value_name=\"value\")\n",
    "display(df)\n",
    "# df.to_csv(\"data/crime/crim_off_cat.csv\", index=False)"
   ],
   "metadata": {
    "collapsed": false,
    "ExecuteTime": {
     "end_time": "2023-10-19T12:55:14.953146500Z",
     "start_time": "2023-10-19T12:55:14.852557600Z"
    }
   },
   "id": "e5086329b737735b"
  },
  {
   "cell_type": "markdown",
   "source": [
    "Ora il dataset è composto da 4 colonne:\n",
    "- geo: nome del paese\n",
    "- iccs: tipo di crimine\n",
    "- anno: anno (2016-2021)\n",
    "- value: numero di crimini per ogni 100.000 abitanti\n",
    "\n",
    "cosa posso aggiungere? fattori socioecomomici quali dati trovare?\n",
    "\n",
    "- interpolazione lineare per i dati di tipo b (break in the series)\n"
   ],
   "metadata": {
    "collapsed": false
   },
   "id": "12fa40587f8f829"
  },
  {
   "cell_type": "code",
   "execution_count": 7,
   "outputs": [],
   "source": [
    "# Interpolate linearly the data with type b (break in the series)\n",
    "# 1) Sostituisce i valori contententi la stringa 'b' con None\n",
    "# 2) Interpola linearmente i valori None\n",
    "# 3) Resetta l'indice\n",
    "def clean_interpolate(df, index):\n",
    "    df.set_index(index, inplace=True)\n",
    "    df = df.applymap(lambda x: pd.to_numeric(x, errors='coerce'))\n",
    "    df = df.applymap(lambda x: None if 'b' in str(x) else x)\n",
    "    df = df.interpolate(method='linear', axis=1, limit_direction='both')\n",
    "    df.reset_index(inplace=True)\n",
    "    return df\n",
    "\n",
    "\n",
    "# Convert the data to the format: per 100.000 inhabitants\n",
    "def convert_to_ht(population_df, df):\n",
    "    population_df.set_index(\"geo\", inplace=True)\n",
    "    df.set_index(\"geo\", inplace=True)\n",
    "\n",
    "    df = df.div(100)\n",
    "    df = df.mul(population_df, axis=0) / 100000\n",
    "\n",
    "    df.reset_index(inplace=True)\n",
    "    population_df.reset_index(inplace=True)\n",
    "\n",
    "    return df"
   ],
   "metadata": {
    "collapsed": false,
    "ExecuteTime": {
     "end_time": "2023-10-19T12:55:14.954143800Z",
     "start_time": "2023-10-19T12:55:14.860931400Z"
    }
   },
   "id": "3064c72f9c67c1d2"
  },
  {
   "cell_type": "markdown",
   "source": [
    "### Dataset popolazione\n",
    "[Population on 1 January](https://ec.europa.eu/eurostat/databrowser/view/tps00001__custom_7848350/default/table?lang=en)\n",
    "\n",
    "- Time: 2016-2021\n",
    "\n",
    "### Flags\n",
    "- b: break in time series\n",
    "- ep: estimated, provisional\n",
    "- p: provisional\n",
    "- e: estimated"
   ],
   "metadata": {
    "collapsed": false
   },
   "id": "ba35da8dc636c7c8"
  },
  {
   "cell_type": "code",
   "execution_count": 8,
   "outputs": [],
   "source": [
    "population_df = pandas.read_table('data/population/tps00001.tsv')"
   ],
   "metadata": {
    "collapsed": false,
    "ExecuteTime": {
     "end_time": "2023-10-19T12:55:14.954143800Z",
     "start_time": "2023-10-19T12:55:14.871646600Z"
    }
   },
   "id": "ea170f3008092e73"
  },
  {
   "cell_type": "code",
   "execution_count": 9,
   "outputs": [
    {
     "data": {
      "text/plain": "            geo        2021        2020        2019        2018        2017   \n0       Austria   8932664.0   8901064.0   8858775.0   8822267.0   8772865.0  \\\n1       Belgium  11554767.0  11522440.0  11455519.0  11398589.0  11351727.0   \n2      Bulgaria   6916548.0   6951482.0   7000039.0   7050034.0   7101859.0   \n3        Cyprus    896007.0    888005.0    875899.0    864236.0    854802.0   \n4       Czechia  10693939.0  10693939.0  10649800.0  10610055.0  10578820.0   \n5       Germany  83155031.0  83166711.0  83019213.0  82792351.0  82521653.0   \n6       Denmark   5840045.0   5822763.0   5806081.0   5781190.0   5748769.0   \n7       Estonia   1330068.0   1328976.0   1324820.0   1319133.0   1315635.0   \n8        Greece  10678632.0  10718565.0  10724599.0  10741165.0  10768193.0   \n9         Spain  47398695.0  47332614.0  46937060.0  46658447.0  46528024.0   \n10      Finland   5533793.0   5525292.0   5517919.0   5513130.0   5503297.0   \n11       France  67485531.0  67485531.0  67290471.0  67026224.0  66809816.0   \n12      Croatia   4036355.0   4058165.0   4076246.0   4105493.0   4154213.0   \n13      Hungary   9730772.0   9769526.0   9772756.0   9778371.0   9797561.0   \n14      Ireland   5006324.0   4964440.0   4897416.0   4830392.0   4784383.0   \n15        Italy  59236213.0  59641488.0  60062730.5  60483973.0  60589445.0   \n16    Lithuania   2795680.0   2794090.0   2794184.0   2808901.0   2847904.0   \n17   Luxembourg    634730.0    626108.0    613894.0    602005.0    589127.0   \n18       Latvia   1893223.0   1907675.0   1919968.0   1934379.0   1950116.0   \n19        Malta    516100.0    514564.0    493559.0    475701.0    460297.0   \n20  Netherlands  17475415.0  17407585.0  17282163.0  17181084.0  17081507.0   \n21       Poland  37972812.0  37972812.0  37972812.0  37972888.0  37972964.0   \n22     Portugal  10298252.0  10295909.0  10276617.0  10291027.0  10309573.0   \n23      Romania  19201662.0  19308060.0  19414458.0  19533481.0  19643949.0   \n24       Sweden  10379295.0  10327589.0  10230185.0  10120242.0   9995153.0   \n25     Slovenia   2108977.0   2095861.0   2080908.0   2066880.0   2065895.0   \n26     Slovakia   5459781.0   5457873.0   5450421.0   5443120.0   5435343.0   \n\n          2016  \n0    8700471.0  \n1   11311117.0  \n2    7153784.0  \n3     848319.0  \n4   10553843.0  \n5   82175684.0  \n6    5707251.0  \n7    1315944.0  \n8   10783748.0  \n9   46440099.0  \n10   5487308.0  \n11  66638391.0  \n12   4190669.0  \n13   9830485.0  \n14   4726286.0  \n15  60665551.0  \n16   2888558.0  \n17    576249.0  \n18   1968957.0  \n19    450415.0  \n20  16979120.0  \n21  37967209.0  \n22  10341330.0  \n23  19760585.0  \n24   9851017.0  \n25   2064188.0  \n26   5426252.0  ",
      "text/html": "<div>\n<style scoped>\n    .dataframe tbody tr th:only-of-type {\n        vertical-align: middle;\n    }\n\n    .dataframe tbody tr th {\n        vertical-align: top;\n    }\n\n    .dataframe thead th {\n        text-align: right;\n    }\n</style>\n<table border=\"1\" class=\"dataframe\">\n  <thead>\n    <tr style=\"text-align: right;\">\n      <th></th>\n      <th>geo</th>\n      <th>2021</th>\n      <th>2020</th>\n      <th>2019</th>\n      <th>2018</th>\n      <th>2017</th>\n      <th>2016</th>\n    </tr>\n  </thead>\n  <tbody>\n    <tr>\n      <th>0</th>\n      <td>Austria</td>\n      <td>8932664.0</td>\n      <td>8901064.0</td>\n      <td>8858775.0</td>\n      <td>8822267.0</td>\n      <td>8772865.0</td>\n      <td>8700471.0</td>\n    </tr>\n    <tr>\n      <th>1</th>\n      <td>Belgium</td>\n      <td>11554767.0</td>\n      <td>11522440.0</td>\n      <td>11455519.0</td>\n      <td>11398589.0</td>\n      <td>11351727.0</td>\n      <td>11311117.0</td>\n    </tr>\n    <tr>\n      <th>2</th>\n      <td>Bulgaria</td>\n      <td>6916548.0</td>\n      <td>6951482.0</td>\n      <td>7000039.0</td>\n      <td>7050034.0</td>\n      <td>7101859.0</td>\n      <td>7153784.0</td>\n    </tr>\n    <tr>\n      <th>3</th>\n      <td>Cyprus</td>\n      <td>896007.0</td>\n      <td>888005.0</td>\n      <td>875899.0</td>\n      <td>864236.0</td>\n      <td>854802.0</td>\n      <td>848319.0</td>\n    </tr>\n    <tr>\n      <th>4</th>\n      <td>Czechia</td>\n      <td>10693939.0</td>\n      <td>10693939.0</td>\n      <td>10649800.0</td>\n      <td>10610055.0</td>\n      <td>10578820.0</td>\n      <td>10553843.0</td>\n    </tr>\n    <tr>\n      <th>5</th>\n      <td>Germany</td>\n      <td>83155031.0</td>\n      <td>83166711.0</td>\n      <td>83019213.0</td>\n      <td>82792351.0</td>\n      <td>82521653.0</td>\n      <td>82175684.0</td>\n    </tr>\n    <tr>\n      <th>6</th>\n      <td>Denmark</td>\n      <td>5840045.0</td>\n      <td>5822763.0</td>\n      <td>5806081.0</td>\n      <td>5781190.0</td>\n      <td>5748769.0</td>\n      <td>5707251.0</td>\n    </tr>\n    <tr>\n      <th>7</th>\n      <td>Estonia</td>\n      <td>1330068.0</td>\n      <td>1328976.0</td>\n      <td>1324820.0</td>\n      <td>1319133.0</td>\n      <td>1315635.0</td>\n      <td>1315944.0</td>\n    </tr>\n    <tr>\n      <th>8</th>\n      <td>Greece</td>\n      <td>10678632.0</td>\n      <td>10718565.0</td>\n      <td>10724599.0</td>\n      <td>10741165.0</td>\n      <td>10768193.0</td>\n      <td>10783748.0</td>\n    </tr>\n    <tr>\n      <th>9</th>\n      <td>Spain</td>\n      <td>47398695.0</td>\n      <td>47332614.0</td>\n      <td>46937060.0</td>\n      <td>46658447.0</td>\n      <td>46528024.0</td>\n      <td>46440099.0</td>\n    </tr>\n    <tr>\n      <th>10</th>\n      <td>Finland</td>\n      <td>5533793.0</td>\n      <td>5525292.0</td>\n      <td>5517919.0</td>\n      <td>5513130.0</td>\n      <td>5503297.0</td>\n      <td>5487308.0</td>\n    </tr>\n    <tr>\n      <th>11</th>\n      <td>France</td>\n      <td>67485531.0</td>\n      <td>67485531.0</td>\n      <td>67290471.0</td>\n      <td>67026224.0</td>\n      <td>66809816.0</td>\n      <td>66638391.0</td>\n    </tr>\n    <tr>\n      <th>12</th>\n      <td>Croatia</td>\n      <td>4036355.0</td>\n      <td>4058165.0</td>\n      <td>4076246.0</td>\n      <td>4105493.0</td>\n      <td>4154213.0</td>\n      <td>4190669.0</td>\n    </tr>\n    <tr>\n      <th>13</th>\n      <td>Hungary</td>\n      <td>9730772.0</td>\n      <td>9769526.0</td>\n      <td>9772756.0</td>\n      <td>9778371.0</td>\n      <td>9797561.0</td>\n      <td>9830485.0</td>\n    </tr>\n    <tr>\n      <th>14</th>\n      <td>Ireland</td>\n      <td>5006324.0</td>\n      <td>4964440.0</td>\n      <td>4897416.0</td>\n      <td>4830392.0</td>\n      <td>4784383.0</td>\n      <td>4726286.0</td>\n    </tr>\n    <tr>\n      <th>15</th>\n      <td>Italy</td>\n      <td>59236213.0</td>\n      <td>59641488.0</td>\n      <td>60062730.5</td>\n      <td>60483973.0</td>\n      <td>60589445.0</td>\n      <td>60665551.0</td>\n    </tr>\n    <tr>\n      <th>16</th>\n      <td>Lithuania</td>\n      <td>2795680.0</td>\n      <td>2794090.0</td>\n      <td>2794184.0</td>\n      <td>2808901.0</td>\n      <td>2847904.0</td>\n      <td>2888558.0</td>\n    </tr>\n    <tr>\n      <th>17</th>\n      <td>Luxembourg</td>\n      <td>634730.0</td>\n      <td>626108.0</td>\n      <td>613894.0</td>\n      <td>602005.0</td>\n      <td>589127.0</td>\n      <td>576249.0</td>\n    </tr>\n    <tr>\n      <th>18</th>\n      <td>Latvia</td>\n      <td>1893223.0</td>\n      <td>1907675.0</td>\n      <td>1919968.0</td>\n      <td>1934379.0</td>\n      <td>1950116.0</td>\n      <td>1968957.0</td>\n    </tr>\n    <tr>\n      <th>19</th>\n      <td>Malta</td>\n      <td>516100.0</td>\n      <td>514564.0</td>\n      <td>493559.0</td>\n      <td>475701.0</td>\n      <td>460297.0</td>\n      <td>450415.0</td>\n    </tr>\n    <tr>\n      <th>20</th>\n      <td>Netherlands</td>\n      <td>17475415.0</td>\n      <td>17407585.0</td>\n      <td>17282163.0</td>\n      <td>17181084.0</td>\n      <td>17081507.0</td>\n      <td>16979120.0</td>\n    </tr>\n    <tr>\n      <th>21</th>\n      <td>Poland</td>\n      <td>37972812.0</td>\n      <td>37972812.0</td>\n      <td>37972812.0</td>\n      <td>37972888.0</td>\n      <td>37972964.0</td>\n      <td>37967209.0</td>\n    </tr>\n    <tr>\n      <th>22</th>\n      <td>Portugal</td>\n      <td>10298252.0</td>\n      <td>10295909.0</td>\n      <td>10276617.0</td>\n      <td>10291027.0</td>\n      <td>10309573.0</td>\n      <td>10341330.0</td>\n    </tr>\n    <tr>\n      <th>23</th>\n      <td>Romania</td>\n      <td>19201662.0</td>\n      <td>19308060.0</td>\n      <td>19414458.0</td>\n      <td>19533481.0</td>\n      <td>19643949.0</td>\n      <td>19760585.0</td>\n    </tr>\n    <tr>\n      <th>24</th>\n      <td>Sweden</td>\n      <td>10379295.0</td>\n      <td>10327589.0</td>\n      <td>10230185.0</td>\n      <td>10120242.0</td>\n      <td>9995153.0</td>\n      <td>9851017.0</td>\n    </tr>\n    <tr>\n      <th>25</th>\n      <td>Slovenia</td>\n      <td>2108977.0</td>\n      <td>2095861.0</td>\n      <td>2080908.0</td>\n      <td>2066880.0</td>\n      <td>2065895.0</td>\n      <td>2064188.0</td>\n    </tr>\n    <tr>\n      <th>26</th>\n      <td>Slovakia</td>\n      <td>5459781.0</td>\n      <td>5457873.0</td>\n      <td>5450421.0</td>\n      <td>5443120.0</td>\n      <td>5435343.0</td>\n      <td>5426252.0</td>\n    </tr>\n  </tbody>\n</table>\n</div>"
     },
     "metadata": {},
     "output_type": "display_data"
    }
   ],
   "source": [
    "split = population_df[\"freq,indic_de,geo\\\\TIME_PERIOD\"].str.split(\",\", expand=True)\n",
    "split.drop(columns=[0, 1], inplace=True)\n",
    "split.columns = [\"geo\"]\n",
    "\n",
    "population_df = pd.concat([population_df, split], axis=1)\n",
    "population_df.drop(columns=[\"freq,indic_de,geo\\\\TIME_PERIOD\"], axis=1, inplace=True)\n",
    "population_df = population_df.iloc[:, ::-1]\n",
    "population_df.rename(columns=lambda x: x.strip(), inplace=True)\n",
    "population_df[\"geo\"] = population_df[\"geo\"].map(geo_dict)\n",
    "\n",
    "# Clean and interpolate the data\n",
    "population_df = clean_interpolate(population_df, \"geo\")\n",
    "display(population_df)"
   ],
   "metadata": {
    "collapsed": false,
    "ExecuteTime": {
     "end_time": "2023-10-19T12:55:14.955141Z",
     "start_time": "2023-10-19T12:55:14.891627400Z"
    }
   },
   "id": "8f56f00533a302bb"
  },
  {
   "cell_type": "markdown",
   "source": [
    "Interpolazione per i dati con parametro p, \n",
    "Cosa fare invece quando si hanno dati con flag?\n",
    "- e: estimated\n",
    "- p: provisional\n",
    "- ep: estimated, provisional\n",
    "Continuare con l'interpolazione?"
   ],
   "metadata": {
    "collapsed": false
   },
   "id": "671e859dbf267dbc"
  },
  {
   "cell_type": "markdown",
   "source": [
    "### Altro dataset: Persone a rischio di povertà o esclusione sociale\n",
    "[People at rick of poverty or social exclusion](https://ec.europa.eu/eurostat/databrowser/view/sdg_01_10__custom_7836001/default/table?lang=en)\n",
    "\n",
    "- Age: Less than 18 years\n",
    "- Time: 2016-2021\n",
    "- Sex: Total\n",
    "- Unit:  percentage "
   ],
   "metadata": {
    "collapsed": false
   },
   "id": "f550fdbf1b4096db"
  },
  {
   "cell_type": "code",
   "execution_count": 10,
   "outputs": [
    {
     "data": {
      "text/plain": "   freq,sex,age,unit,geo\\TIME_PERIOD   2016   2017   2018    2019    2020    \n0                   A,T,Y_LT18,PC,AT   20.5    22.7   21.6   20.1    21.9   \\\n1                   A,T,Y_LT18,PC,BE   23.5    24.2   23.5  23.0 b   22.0    \n2                   A,T,Y_LT18,PC,BG  47.3 b   42.4   33.5   35.8    35.5    \n3                   A,T,Y_LT18,PC,CY   23.2    21.7   20.5   20.3    19.0    \n4                   A,T,Y_LT18,PC,CZ   16.4    14.3   13.0   13.0    12.9    \n5                   A,T,Y_LT18,PC,DE   20.6    18.6   17.5   15.4   22.3 b   \n6                   A,T,Y_LT18,PC,DK   14.0    15.1   15.4   13.8   13.4 b   \n7                   A,T,Y_LT18,PC,EE   19.7    18.8   17.0   19.7    17.4    \n8                   A,T,Y_LT18,PC,EL   37.2    36.5   34.1   31.2    30.8    \n9                   A,T,Y_LT18,PC,ES   33.7    31.9   30.5   31.0    31.6    \n10                  A,T,Y_LT18,PC,FI   14.1    15.0   15.9  13.8 b   14.5    \n11                  A,T,Y_LT18,PC,FR   23.8    23.5   24.0   24.1   23.9 b   \n12                  A,T,Y_LT18,PC,HR   24.4    24.5   22.2   19.1    18.4    \n13                  A,T,Y_LT18,PC,HU   38.6    33.5   26.4   24.1    21.7    \n14                  A,T,Y_LT18,PC,IE   26.8    26.0   24.7   23.9   23.5 b   \n15                  A,T,Y_LT18,PC,IT   32.7    30.8   29.6   27.1    28.9    \n16                  A,T,Y_LT18,PC,LT   33.2    31.3   28.8   25.8    23.1    \n17                  A,T,Y_LT18,PC,LU  22.2 b   21.5   23.4   25.4   24.2 b   \n18                  A,T,Y_LT18,PC,LV   25.9    25.0   23.6   18.7    19.7    \n19                  A,T,Y_LT18,PC,MT   23.7    23.6   23.3   23.7    22.3    \n20                  A,T,Y_LT18,PC,NL  17.2 b   16.4   15.1   15.4    15.8    \n21                  A,T,Y_LT18,PC,PL   23.5    17.8   16.9   16.2    16.1    \n22                  A,T,Y_LT18,PC,PT   27.5    24.6   22.4   21.9    21.9    \n23                  A,T,Y_LT18,PC,RO   56.0    48.7   44.2   39.1    40.7    \n24                  A,T,Y_LT18,PC,SE   19.7    19.4   20.5   23.0    20.2    \n25                  A,T,Y_LT18,PC,SI   14.5    15.6   13.1   11.6    12.1    \n26                  A,T,Y_LT18,PC,SK   24.5    22.7   23.3   21.0    18.4    \n\n     2021   \n0    22.8   \n1    20.5   \n2    33.0   \n3    19.2   \n4    13.3   \n5    23.7   \n6    14.0   \n7    17.4   \n8    32.0   \n9    33.4   \n10   13.2   \n11   22.8   \n12   18.6   \n13   23.3   \n14   22.8   \n15   29.7   \n16   21.6   \n17  29.4 b  \n18   20.1   \n19   23.2   \n20   14.9   \n21   16.5   \n22   22.9   \n23   41.7   \n24   19.7   \n25   11.0   \n26   19.7   ",
      "text/html": "<div>\n<style scoped>\n    .dataframe tbody tr th:only-of-type {\n        vertical-align: middle;\n    }\n\n    .dataframe tbody tr th {\n        vertical-align: top;\n    }\n\n    .dataframe thead th {\n        text-align: right;\n    }\n</style>\n<table border=\"1\" class=\"dataframe\">\n  <thead>\n    <tr style=\"text-align: right;\">\n      <th></th>\n      <th>freq,sex,age,unit,geo\\TIME_PERIOD</th>\n      <th>2016</th>\n      <th>2017</th>\n      <th>2018</th>\n      <th>2019</th>\n      <th>2020</th>\n      <th>2021</th>\n    </tr>\n  </thead>\n  <tbody>\n    <tr>\n      <th>0</th>\n      <td>A,T,Y_LT18,PC,AT</td>\n      <td>20.5</td>\n      <td>22.7</td>\n      <td>21.6</td>\n      <td>20.1</td>\n      <td>21.9</td>\n      <td>22.8</td>\n    </tr>\n    <tr>\n      <th>1</th>\n      <td>A,T,Y_LT18,PC,BE</td>\n      <td>23.5</td>\n      <td>24.2</td>\n      <td>23.5</td>\n      <td>23.0 b</td>\n      <td>22.0</td>\n      <td>20.5</td>\n    </tr>\n    <tr>\n      <th>2</th>\n      <td>A,T,Y_LT18,PC,BG</td>\n      <td>47.3 b</td>\n      <td>42.4</td>\n      <td>33.5</td>\n      <td>35.8</td>\n      <td>35.5</td>\n      <td>33.0</td>\n    </tr>\n    <tr>\n      <th>3</th>\n      <td>A,T,Y_LT18,PC,CY</td>\n      <td>23.2</td>\n      <td>21.7</td>\n      <td>20.5</td>\n      <td>20.3</td>\n      <td>19.0</td>\n      <td>19.2</td>\n    </tr>\n    <tr>\n      <th>4</th>\n      <td>A,T,Y_LT18,PC,CZ</td>\n      <td>16.4</td>\n      <td>14.3</td>\n      <td>13.0</td>\n      <td>13.0</td>\n      <td>12.9</td>\n      <td>13.3</td>\n    </tr>\n    <tr>\n      <th>5</th>\n      <td>A,T,Y_LT18,PC,DE</td>\n      <td>20.6</td>\n      <td>18.6</td>\n      <td>17.5</td>\n      <td>15.4</td>\n      <td>22.3 b</td>\n      <td>23.7</td>\n    </tr>\n    <tr>\n      <th>6</th>\n      <td>A,T,Y_LT18,PC,DK</td>\n      <td>14.0</td>\n      <td>15.1</td>\n      <td>15.4</td>\n      <td>13.8</td>\n      <td>13.4 b</td>\n      <td>14.0</td>\n    </tr>\n    <tr>\n      <th>7</th>\n      <td>A,T,Y_LT18,PC,EE</td>\n      <td>19.7</td>\n      <td>18.8</td>\n      <td>17.0</td>\n      <td>19.7</td>\n      <td>17.4</td>\n      <td>17.4</td>\n    </tr>\n    <tr>\n      <th>8</th>\n      <td>A,T,Y_LT18,PC,EL</td>\n      <td>37.2</td>\n      <td>36.5</td>\n      <td>34.1</td>\n      <td>31.2</td>\n      <td>30.8</td>\n      <td>32.0</td>\n    </tr>\n    <tr>\n      <th>9</th>\n      <td>A,T,Y_LT18,PC,ES</td>\n      <td>33.7</td>\n      <td>31.9</td>\n      <td>30.5</td>\n      <td>31.0</td>\n      <td>31.6</td>\n      <td>33.4</td>\n    </tr>\n    <tr>\n      <th>10</th>\n      <td>A,T,Y_LT18,PC,FI</td>\n      <td>14.1</td>\n      <td>15.0</td>\n      <td>15.9</td>\n      <td>13.8 b</td>\n      <td>14.5</td>\n      <td>13.2</td>\n    </tr>\n    <tr>\n      <th>11</th>\n      <td>A,T,Y_LT18,PC,FR</td>\n      <td>23.8</td>\n      <td>23.5</td>\n      <td>24.0</td>\n      <td>24.1</td>\n      <td>23.9 b</td>\n      <td>22.8</td>\n    </tr>\n    <tr>\n      <th>12</th>\n      <td>A,T,Y_LT18,PC,HR</td>\n      <td>24.4</td>\n      <td>24.5</td>\n      <td>22.2</td>\n      <td>19.1</td>\n      <td>18.4</td>\n      <td>18.6</td>\n    </tr>\n    <tr>\n      <th>13</th>\n      <td>A,T,Y_LT18,PC,HU</td>\n      <td>38.6</td>\n      <td>33.5</td>\n      <td>26.4</td>\n      <td>24.1</td>\n      <td>21.7</td>\n      <td>23.3</td>\n    </tr>\n    <tr>\n      <th>14</th>\n      <td>A,T,Y_LT18,PC,IE</td>\n      <td>26.8</td>\n      <td>26.0</td>\n      <td>24.7</td>\n      <td>23.9</td>\n      <td>23.5 b</td>\n      <td>22.8</td>\n    </tr>\n    <tr>\n      <th>15</th>\n      <td>A,T,Y_LT18,PC,IT</td>\n      <td>32.7</td>\n      <td>30.8</td>\n      <td>29.6</td>\n      <td>27.1</td>\n      <td>28.9</td>\n      <td>29.7</td>\n    </tr>\n    <tr>\n      <th>16</th>\n      <td>A,T,Y_LT18,PC,LT</td>\n      <td>33.2</td>\n      <td>31.3</td>\n      <td>28.8</td>\n      <td>25.8</td>\n      <td>23.1</td>\n      <td>21.6</td>\n    </tr>\n    <tr>\n      <th>17</th>\n      <td>A,T,Y_LT18,PC,LU</td>\n      <td>22.2 b</td>\n      <td>21.5</td>\n      <td>23.4</td>\n      <td>25.4</td>\n      <td>24.2 b</td>\n      <td>29.4 b</td>\n    </tr>\n    <tr>\n      <th>18</th>\n      <td>A,T,Y_LT18,PC,LV</td>\n      <td>25.9</td>\n      <td>25.0</td>\n      <td>23.6</td>\n      <td>18.7</td>\n      <td>19.7</td>\n      <td>20.1</td>\n    </tr>\n    <tr>\n      <th>19</th>\n      <td>A,T,Y_LT18,PC,MT</td>\n      <td>23.7</td>\n      <td>23.6</td>\n      <td>23.3</td>\n      <td>23.7</td>\n      <td>22.3</td>\n      <td>23.2</td>\n    </tr>\n    <tr>\n      <th>20</th>\n      <td>A,T,Y_LT18,PC,NL</td>\n      <td>17.2 b</td>\n      <td>16.4</td>\n      <td>15.1</td>\n      <td>15.4</td>\n      <td>15.8</td>\n      <td>14.9</td>\n    </tr>\n    <tr>\n      <th>21</th>\n      <td>A,T,Y_LT18,PC,PL</td>\n      <td>23.5</td>\n      <td>17.8</td>\n      <td>16.9</td>\n      <td>16.2</td>\n      <td>16.1</td>\n      <td>16.5</td>\n    </tr>\n    <tr>\n      <th>22</th>\n      <td>A,T,Y_LT18,PC,PT</td>\n      <td>27.5</td>\n      <td>24.6</td>\n      <td>22.4</td>\n      <td>21.9</td>\n      <td>21.9</td>\n      <td>22.9</td>\n    </tr>\n    <tr>\n      <th>23</th>\n      <td>A,T,Y_LT18,PC,RO</td>\n      <td>56.0</td>\n      <td>48.7</td>\n      <td>44.2</td>\n      <td>39.1</td>\n      <td>40.7</td>\n      <td>41.7</td>\n    </tr>\n    <tr>\n      <th>24</th>\n      <td>A,T,Y_LT18,PC,SE</td>\n      <td>19.7</td>\n      <td>19.4</td>\n      <td>20.5</td>\n      <td>23.0</td>\n      <td>20.2</td>\n      <td>19.7</td>\n    </tr>\n    <tr>\n      <th>25</th>\n      <td>A,T,Y_LT18,PC,SI</td>\n      <td>14.5</td>\n      <td>15.6</td>\n      <td>13.1</td>\n      <td>11.6</td>\n      <td>12.1</td>\n      <td>11.0</td>\n    </tr>\n    <tr>\n      <th>26</th>\n      <td>A,T,Y_LT18,PC,SK</td>\n      <td>24.5</td>\n      <td>22.7</td>\n      <td>23.3</td>\n      <td>21.0</td>\n      <td>18.4</td>\n      <td>19.7</td>\n    </tr>\n  </tbody>\n</table>\n</div>"
     },
     "metadata": {},
     "output_type": "display_data"
    }
   ],
   "source": [
    "poverty_df = pandas.read_table('data/sdg/sdg_01_10.tsv')\n",
    "display(poverty_df)"
   ],
   "metadata": {
    "collapsed": false,
    "ExecuteTime": {
     "end_time": "2023-10-19T12:55:15.027973700Z",
     "start_time": "2023-10-19T12:55:14.916005600Z"
    }
   },
   "id": "7b5ffdca0d4bd5c2"
  },
  {
   "cell_type": "code",
   "execution_count": 11,
   "outputs": [],
   "source": [
    "split = poverty_df[\"freq,sex,age,unit,geo\\\\TIME_PERIOD\"].str.split(\",\", expand=True)\n",
    "split.drop(columns=[0, 1, 2, 3], inplace=True)\n",
    "split.columns = [\"geo\"]\n",
    "\n",
    "poverty_df = pd.concat([poverty_df, split], axis=1)\n",
    "poverty_df.drop(columns=[\"freq,sex,age,unit,geo\\\\TIME_PERIOD\"], axis=1, inplace=True)\n",
    "poverty_df = poverty_df.iloc[:, ::-1]\n",
    "poverty_df.rename(columns=lambda x: x.strip(), inplace=True)\n",
    "poverty_df[\"geo\"] = poverty_df[\"geo\"].map(geo_dict)"
   ],
   "metadata": {
    "collapsed": false,
    "ExecuteTime": {
     "end_time": "2023-10-19T12:55:15.073800600Z",
     "start_time": "2023-10-19T12:55:14.934196100Z"
    }
   },
   "id": "4e75a4faf00e4154"
  },
  {
   "cell_type": "markdown",
   "source": [
    "Interopolazione lineare per i dati di tipo b (break in the series)"
   ],
   "metadata": {
    "collapsed": false
   },
   "id": "345c2cf464ff92e9"
  },
  {
   "cell_type": "code",
   "execution_count": 12,
   "outputs": [
    {
     "data": {
      "text/plain": "            geo  2021   2020   2019  2018  2017  2016\n0       Austria  22.8  21.90  20.10  21.6  22.7  20.5\n1       Belgium  20.5  22.00  22.75  23.5  24.2  23.5\n2      Bulgaria  33.0  35.50  35.80  33.5  42.4  42.4\n3        Cyprus  19.2  19.00  20.30  20.5  21.7  23.2\n4       Czechia  13.3  12.90  13.00  13.0  14.3  16.4\n5       Germany  23.7  19.55  15.40  17.5  18.6  20.6\n6       Denmark  14.0  13.90  13.80  15.4  15.1  14.0\n7       Estonia  17.4  17.40  19.70  17.0  18.8  19.7\n8        Greece  32.0  30.80  31.20  34.1  36.5  37.2\n9         Spain  33.4  31.60  31.00  30.5  31.9  33.7\n10      Finland  13.2  14.50  15.20  15.9  15.0  14.1\n11       France  22.8  23.45  24.10  24.0  23.5  23.8\n12      Croatia  18.6  18.40  19.10  22.2  24.5  24.4\n13      Hungary  23.3  21.70  24.10  26.4  33.5  38.6\n14      Ireland  22.8  23.35  23.90  24.7  26.0  26.8\n15        Italy  29.7  28.90  27.10  29.6  30.8  32.7\n16    Lithuania  21.6  23.10  25.80  28.8  31.3  33.2\n17   Luxembourg  25.4  25.40  25.40  23.4  21.5  21.5\n18       Latvia  20.1  19.70  18.70  23.6  25.0  25.9\n19        Malta  23.2  22.30  23.70  23.3  23.6  23.7\n20  Netherlands  14.9  15.80  15.40  15.1  16.4  16.4\n21       Poland  16.5  16.10  16.20  16.9  17.8  23.5\n22     Portugal  22.9  21.90  21.90  22.4  24.6  27.5\n23      Romania  41.7  40.70  39.10  44.2  48.7  56.0\n24       Sweden  19.7  20.20  23.00  20.5  19.4  19.7\n25     Slovenia  11.0  12.10  11.60  13.1  15.6  14.5\n26     Slovakia  19.7  18.40  21.00  23.3  22.7  24.5",
      "text/html": "<div>\n<style scoped>\n    .dataframe tbody tr th:only-of-type {\n        vertical-align: middle;\n    }\n\n    .dataframe tbody tr th {\n        vertical-align: top;\n    }\n\n    .dataframe thead th {\n        text-align: right;\n    }\n</style>\n<table border=\"1\" class=\"dataframe\">\n  <thead>\n    <tr style=\"text-align: right;\">\n      <th></th>\n      <th>geo</th>\n      <th>2021</th>\n      <th>2020</th>\n      <th>2019</th>\n      <th>2018</th>\n      <th>2017</th>\n      <th>2016</th>\n    </tr>\n  </thead>\n  <tbody>\n    <tr>\n      <th>0</th>\n      <td>Austria</td>\n      <td>22.8</td>\n      <td>21.90</td>\n      <td>20.10</td>\n      <td>21.6</td>\n      <td>22.7</td>\n      <td>20.5</td>\n    </tr>\n    <tr>\n      <th>1</th>\n      <td>Belgium</td>\n      <td>20.5</td>\n      <td>22.00</td>\n      <td>22.75</td>\n      <td>23.5</td>\n      <td>24.2</td>\n      <td>23.5</td>\n    </tr>\n    <tr>\n      <th>2</th>\n      <td>Bulgaria</td>\n      <td>33.0</td>\n      <td>35.50</td>\n      <td>35.80</td>\n      <td>33.5</td>\n      <td>42.4</td>\n      <td>42.4</td>\n    </tr>\n    <tr>\n      <th>3</th>\n      <td>Cyprus</td>\n      <td>19.2</td>\n      <td>19.00</td>\n      <td>20.30</td>\n      <td>20.5</td>\n      <td>21.7</td>\n      <td>23.2</td>\n    </tr>\n    <tr>\n      <th>4</th>\n      <td>Czechia</td>\n      <td>13.3</td>\n      <td>12.90</td>\n      <td>13.00</td>\n      <td>13.0</td>\n      <td>14.3</td>\n      <td>16.4</td>\n    </tr>\n    <tr>\n      <th>5</th>\n      <td>Germany</td>\n      <td>23.7</td>\n      <td>19.55</td>\n      <td>15.40</td>\n      <td>17.5</td>\n      <td>18.6</td>\n      <td>20.6</td>\n    </tr>\n    <tr>\n      <th>6</th>\n      <td>Denmark</td>\n      <td>14.0</td>\n      <td>13.90</td>\n      <td>13.80</td>\n      <td>15.4</td>\n      <td>15.1</td>\n      <td>14.0</td>\n    </tr>\n    <tr>\n      <th>7</th>\n      <td>Estonia</td>\n      <td>17.4</td>\n      <td>17.40</td>\n      <td>19.70</td>\n      <td>17.0</td>\n      <td>18.8</td>\n      <td>19.7</td>\n    </tr>\n    <tr>\n      <th>8</th>\n      <td>Greece</td>\n      <td>32.0</td>\n      <td>30.80</td>\n      <td>31.20</td>\n      <td>34.1</td>\n      <td>36.5</td>\n      <td>37.2</td>\n    </tr>\n    <tr>\n      <th>9</th>\n      <td>Spain</td>\n      <td>33.4</td>\n      <td>31.60</td>\n      <td>31.00</td>\n      <td>30.5</td>\n      <td>31.9</td>\n      <td>33.7</td>\n    </tr>\n    <tr>\n      <th>10</th>\n      <td>Finland</td>\n      <td>13.2</td>\n      <td>14.50</td>\n      <td>15.20</td>\n      <td>15.9</td>\n      <td>15.0</td>\n      <td>14.1</td>\n    </tr>\n    <tr>\n      <th>11</th>\n      <td>France</td>\n      <td>22.8</td>\n      <td>23.45</td>\n      <td>24.10</td>\n      <td>24.0</td>\n      <td>23.5</td>\n      <td>23.8</td>\n    </tr>\n    <tr>\n      <th>12</th>\n      <td>Croatia</td>\n      <td>18.6</td>\n      <td>18.40</td>\n      <td>19.10</td>\n      <td>22.2</td>\n      <td>24.5</td>\n      <td>24.4</td>\n    </tr>\n    <tr>\n      <th>13</th>\n      <td>Hungary</td>\n      <td>23.3</td>\n      <td>21.70</td>\n      <td>24.10</td>\n      <td>26.4</td>\n      <td>33.5</td>\n      <td>38.6</td>\n    </tr>\n    <tr>\n      <th>14</th>\n      <td>Ireland</td>\n      <td>22.8</td>\n      <td>23.35</td>\n      <td>23.90</td>\n      <td>24.7</td>\n      <td>26.0</td>\n      <td>26.8</td>\n    </tr>\n    <tr>\n      <th>15</th>\n      <td>Italy</td>\n      <td>29.7</td>\n      <td>28.90</td>\n      <td>27.10</td>\n      <td>29.6</td>\n      <td>30.8</td>\n      <td>32.7</td>\n    </tr>\n    <tr>\n      <th>16</th>\n      <td>Lithuania</td>\n      <td>21.6</td>\n      <td>23.10</td>\n      <td>25.80</td>\n      <td>28.8</td>\n      <td>31.3</td>\n      <td>33.2</td>\n    </tr>\n    <tr>\n      <th>17</th>\n      <td>Luxembourg</td>\n      <td>25.4</td>\n      <td>25.40</td>\n      <td>25.40</td>\n      <td>23.4</td>\n      <td>21.5</td>\n      <td>21.5</td>\n    </tr>\n    <tr>\n      <th>18</th>\n      <td>Latvia</td>\n      <td>20.1</td>\n      <td>19.70</td>\n      <td>18.70</td>\n      <td>23.6</td>\n      <td>25.0</td>\n      <td>25.9</td>\n    </tr>\n    <tr>\n      <th>19</th>\n      <td>Malta</td>\n      <td>23.2</td>\n      <td>22.30</td>\n      <td>23.70</td>\n      <td>23.3</td>\n      <td>23.6</td>\n      <td>23.7</td>\n    </tr>\n    <tr>\n      <th>20</th>\n      <td>Netherlands</td>\n      <td>14.9</td>\n      <td>15.80</td>\n      <td>15.40</td>\n      <td>15.1</td>\n      <td>16.4</td>\n      <td>16.4</td>\n    </tr>\n    <tr>\n      <th>21</th>\n      <td>Poland</td>\n      <td>16.5</td>\n      <td>16.10</td>\n      <td>16.20</td>\n      <td>16.9</td>\n      <td>17.8</td>\n      <td>23.5</td>\n    </tr>\n    <tr>\n      <th>22</th>\n      <td>Portugal</td>\n      <td>22.9</td>\n      <td>21.90</td>\n      <td>21.90</td>\n      <td>22.4</td>\n      <td>24.6</td>\n      <td>27.5</td>\n    </tr>\n    <tr>\n      <th>23</th>\n      <td>Romania</td>\n      <td>41.7</td>\n      <td>40.70</td>\n      <td>39.10</td>\n      <td>44.2</td>\n      <td>48.7</td>\n      <td>56.0</td>\n    </tr>\n    <tr>\n      <th>24</th>\n      <td>Sweden</td>\n      <td>19.7</td>\n      <td>20.20</td>\n      <td>23.00</td>\n      <td>20.5</td>\n      <td>19.4</td>\n      <td>19.7</td>\n    </tr>\n    <tr>\n      <th>25</th>\n      <td>Slovenia</td>\n      <td>11.0</td>\n      <td>12.10</td>\n      <td>11.60</td>\n      <td>13.1</td>\n      <td>15.6</td>\n      <td>14.5</td>\n    </tr>\n    <tr>\n      <th>26</th>\n      <td>Slovakia</td>\n      <td>19.7</td>\n      <td>18.40</td>\n      <td>21.00</td>\n      <td>23.3</td>\n      <td>22.7</td>\n      <td>24.5</td>\n    </tr>\n  </tbody>\n</table>\n</div>"
     },
     "metadata": {},
     "output_type": "display_data"
    }
   ],
   "source": [
    "poverty_df = clean_interpolate(poverty_df, \"geo\")\n",
    "\n",
    "display(poverty_df)"
   ],
   "metadata": {
    "collapsed": false,
    "ExecuteTime": {
     "end_time": "2023-10-19T12:55:15.077823Z",
     "start_time": "2023-10-19T12:55:14.943173100Z"
    }
   },
   "id": "c395ca9cb1ad59a"
  },
  {
   "cell_type": "markdown",
   "source": [
    "I dati sono stati interpolati linearmente, ma non è detto che sia la scelta migliore.\n",
    "\n",
    "I dati sono fortini in percentuale alla popolazione locale del paese. È necessaraio effettuare una normalizzazione per avere un confronto tra i paesi, portando quindi tutti i dati nel formato: ogni 100.000 abitanti."
   ],
   "metadata": {
    "collapsed": false
   },
   "id": "efe3572ff478c6c8"
  },
  {
   "cell_type": "code",
   "execution_count": 13,
   "outputs": [
    {
     "data": {
      "text/plain": "          geo  year     poverty\n0     Austria  2021   20.366474\n1     Belgium  2021   23.687272\n2    Bulgaria  2021   22.824608\n3      Cyprus  2021    1.720333\n4     Czechia  2021   14.222939\n..        ...   ...         ...\n157  Portugal  2016   28.438658\n158   Romania  2016  110.659276\n159    Sweden  2016   19.406503\n160  Slovenia  2016    2.993073\n161  Slovakia  2016   13.294317\n\n[162 rows x 3 columns]",
      "text/html": "<div>\n<style scoped>\n    .dataframe tbody tr th:only-of-type {\n        vertical-align: middle;\n    }\n\n    .dataframe tbody tr th {\n        vertical-align: top;\n    }\n\n    .dataframe thead th {\n        text-align: right;\n    }\n</style>\n<table border=\"1\" class=\"dataframe\">\n  <thead>\n    <tr style=\"text-align: right;\">\n      <th></th>\n      <th>geo</th>\n      <th>year</th>\n      <th>poverty</th>\n    </tr>\n  </thead>\n  <tbody>\n    <tr>\n      <th>0</th>\n      <td>Austria</td>\n      <td>2021</td>\n      <td>20.366474</td>\n    </tr>\n    <tr>\n      <th>1</th>\n      <td>Belgium</td>\n      <td>2021</td>\n      <td>23.687272</td>\n    </tr>\n    <tr>\n      <th>2</th>\n      <td>Bulgaria</td>\n      <td>2021</td>\n      <td>22.824608</td>\n    </tr>\n    <tr>\n      <th>3</th>\n      <td>Cyprus</td>\n      <td>2021</td>\n      <td>1.720333</td>\n    </tr>\n    <tr>\n      <th>4</th>\n      <td>Czechia</td>\n      <td>2021</td>\n      <td>14.222939</td>\n    </tr>\n    <tr>\n      <th>...</th>\n      <td>...</td>\n      <td>...</td>\n      <td>...</td>\n    </tr>\n    <tr>\n      <th>157</th>\n      <td>Portugal</td>\n      <td>2016</td>\n      <td>28.438658</td>\n    </tr>\n    <tr>\n      <th>158</th>\n      <td>Romania</td>\n      <td>2016</td>\n      <td>110.659276</td>\n    </tr>\n    <tr>\n      <th>159</th>\n      <td>Sweden</td>\n      <td>2016</td>\n      <td>19.406503</td>\n    </tr>\n    <tr>\n      <th>160</th>\n      <td>Slovenia</td>\n      <td>2016</td>\n      <td>2.993073</td>\n    </tr>\n    <tr>\n      <th>161</th>\n      <td>Slovakia</td>\n      <td>2016</td>\n      <td>13.294317</td>\n    </tr>\n  </tbody>\n</table>\n<p>162 rows × 3 columns</p>\n</div>"
     },
     "metadata": {},
     "output_type": "display_data"
    }
   ],
   "source": [
    "poverty_df = convert_to_ht(population_df, poverty_df)\n",
    "\n",
    "poverty_df = poverty_df.melt(id_vars=[\"geo\"], var_name=\"year\", value_name=\"poverty\")\n",
    "\n",
    "display(poverty_df)"
   ],
   "metadata": {
    "collapsed": false,
    "ExecuteTime": {
     "end_time": "2023-10-19T12:55:15.077823Z",
     "start_time": "2023-10-19T12:55:14.969986300Z"
    }
   },
   "id": "f1e01d8f95165388"
  },
  {
   "cell_type": "code",
   "execution_count": 14,
   "outputs": [
    {
     "data": {
      "text/plain": "Empty DataFrame\nColumns: [geo, year, homicides, poverty]\nIndex: []",
      "text/html": "<div>\n<style scoped>\n    .dataframe tbody tr th:only-of-type {\n        vertical-align: middle;\n    }\n\n    .dataframe tbody tr th {\n        vertical-align: top;\n    }\n\n    .dataframe thead th {\n        text-align: right;\n    }\n</style>\n<table border=\"1\" class=\"dataframe\">\n  <thead>\n    <tr style=\"text-align: right;\">\n      <th></th>\n      <th>geo</th>\n      <th>year</th>\n      <th>homicides</th>\n      <th>poverty</th>\n    </tr>\n  </thead>\n  <tbody>\n  </tbody>\n</table>\n</div>"
     },
     "metadata": {},
     "output_type": "display_data"
    }
   ],
   "source": [
    "omicidio_df[\"geo\"] = omicidio_df[\"geo\"].map(geo_dict)\n",
    "\n",
    "res = pd.merge(omicidio_df, poverty_df, on=[\"geo\", \"year\"])\n",
    "#res.to_csv(\"data/crime/res.csv\", index=False)\n",
    "display(res)"
   ],
   "metadata": {
    "collapsed": false,
    "ExecuteTime": {
     "end_time": "2023-10-19T12:55:15.162756300Z",
     "start_time": "2023-10-19T12:55:14.981007200Z"
    }
   },
   "id": "88ce5b1fcd355188"
  },
  {
   "cell_type": "markdown",
   "source": [
    "### Altro dataset: NEET, Not in Education, Employment or Training\n",
    "\n",
    "[Young people neither in employment nor in education and training by sex (NEET)](https://ec.europa.eu/eurostat/databrowser/view/sdg_08_20__custom_7848499/default/table?lang=en)\n",
    "\n",
    "- Age: 15-29 years\n",
    "- Time: 2016-2021\n",
    "- Unit: percentage"
   ],
   "metadata": {
    "collapsed": false
   },
   "id": "8399226f5e29bbd2"
  },
  {
   "cell_type": "code",
   "execution_count": 15,
   "outputs": [
    {
     "data": {
      "text/plain": "   freq,sex,age,unit,geo\\TIME_PERIOD  2016    2017   2018   2019   2020    \n0               A,T,Y15-29,PC_POP,AT   9.3     8.8    8.8     8.6   9.9   \\\n1               A,T,Y15-29,PC_POP,BE  12.2   11.8 b  11.4    11.2  11.3    \n2               A,T,Y15-29,PC_POP,BG  22.4    18.9   18.2    16.7  18.2    \n3               A,T,Y15-29,PC_POP,CY  18.0    17.6   14.9    14.1  15.3    \n4               A,T,Y15-29,PC_POP,CZ  11.1    10.0    9.5     9.8  11.0    \n5               A,T,Y15-29,PC_POP,DE  10.0     9.6    9.0     8.6  9.6 b   \n6               A,T,Y15-29,PC_POP,DK  8.4 b   9.8 b   9.6     9.6  10.2    \n7               A,T,Y15-29,PC_POP,EE  13.3    10.5   11.5     9.7  11.1    \n8               A,T,Y15-29,PC_POP,EL  21.9    21.0   19.2    17.5  18.5    \n9               A,T,Y15-29,PC_POP,ES  18.1    16.4   15.3    14.9  17.3    \n10              A,T,Y15-29,PC_POP,FI  11.2    10.4    9.6     9.1   9.8    \n11              A,T,Y15-29,PC_POP,FR  13.6    13.2   12.9    12.4  13.4    \n12              A,T,Y15-29,PC_POP,HR  19.5    17.9   15.6    14.2  14.6    \n13              A,T,Y15-29,PC_POP,HU  12.0    11.2   10.6    11.0  12.3    \n14              A,T,Y15-29,PC_POP,IE  14.5    12.8   11.6    11.4  14.1    \n15              A,T,Y15-29,PC_POP,IT  24.4    24.2   23.5    22.3  23.5    \n16              A,T,Y15-29,PC_POP,LT  10.7    10.2    9.3    10.9  13.0    \n17              A,T,Y15-29,PC_POP,LU   6.8     6.6    7.5     6.5   7.7    \n18              A,T,Y15-29,PC_POP,LV  13.3    12.3   11.6    10.2  11.9    \n19              A,T,Y15-29,PC_POP,MT   9.4     8.8    7.3     7.9   9.5    \n20              A,T,Y15-29,PC_POP,NL   6.9     6.5    6.3     6.3   6.3    \n21              A,T,Y15-29,PC_POP,PL  14.0    13.0   12.2    12.0  13.1    \n22              A,T,Y15-29,PC_POP,PT  12.8    10.6    9.6     9.2  11.0    \n23              A,T,Y15-29,PC_POP,RO  24.3    22.1   21.3    20.9  20.6    \n24              A,T,Y15-29,PC_POP,SE   6.7     6.4   6.5 b    5.9   6.9    \n25              A,T,Y15-29,PC_POP,SI   9.3     7.9    7.5     7.5   7.9    \n26              A,T,Y15-29,PC_POP,SK  15.1    15.1   13.8    13.7  14.4    \n\n     2021   \n0     9.4   \n1   10.1 b  \n2    17.6   \n3    15.4   \n4    10.9   \n5     9.5   \n6     8.3   \n7    11.2   \n8    17.2   \n9   14.1 d  \n10    9.2   \n11  12.8 d  \n12   14.9   \n13   11.7   \n14    9.8   \n15   23.1   \n16   12.7   \n17    8.8   \n18   12.1   \n19    9.5   \n20    3.9   \n21   13.4   \n22    9.5   \n23   20.3   \n24    6.0   \n25    7.3   \n26   14.2   ",
      "text/html": "<div>\n<style scoped>\n    .dataframe tbody tr th:only-of-type {\n        vertical-align: middle;\n    }\n\n    .dataframe tbody tr th {\n        vertical-align: top;\n    }\n\n    .dataframe thead th {\n        text-align: right;\n    }\n</style>\n<table border=\"1\" class=\"dataframe\">\n  <thead>\n    <tr style=\"text-align: right;\">\n      <th></th>\n      <th>freq,sex,age,unit,geo\\TIME_PERIOD</th>\n      <th>2016</th>\n      <th>2017</th>\n      <th>2018</th>\n      <th>2019</th>\n      <th>2020</th>\n      <th>2021</th>\n    </tr>\n  </thead>\n  <tbody>\n    <tr>\n      <th>0</th>\n      <td>A,T,Y15-29,PC_POP,AT</td>\n      <td>9.3</td>\n      <td>8.8</td>\n      <td>8.8</td>\n      <td>8.6</td>\n      <td>9.9</td>\n      <td>9.4</td>\n    </tr>\n    <tr>\n      <th>1</th>\n      <td>A,T,Y15-29,PC_POP,BE</td>\n      <td>12.2</td>\n      <td>11.8 b</td>\n      <td>11.4</td>\n      <td>11.2</td>\n      <td>11.3</td>\n      <td>10.1 b</td>\n    </tr>\n    <tr>\n      <th>2</th>\n      <td>A,T,Y15-29,PC_POP,BG</td>\n      <td>22.4</td>\n      <td>18.9</td>\n      <td>18.2</td>\n      <td>16.7</td>\n      <td>18.2</td>\n      <td>17.6</td>\n    </tr>\n    <tr>\n      <th>3</th>\n      <td>A,T,Y15-29,PC_POP,CY</td>\n      <td>18.0</td>\n      <td>17.6</td>\n      <td>14.9</td>\n      <td>14.1</td>\n      <td>15.3</td>\n      <td>15.4</td>\n    </tr>\n    <tr>\n      <th>4</th>\n      <td>A,T,Y15-29,PC_POP,CZ</td>\n      <td>11.1</td>\n      <td>10.0</td>\n      <td>9.5</td>\n      <td>9.8</td>\n      <td>11.0</td>\n      <td>10.9</td>\n    </tr>\n    <tr>\n      <th>5</th>\n      <td>A,T,Y15-29,PC_POP,DE</td>\n      <td>10.0</td>\n      <td>9.6</td>\n      <td>9.0</td>\n      <td>8.6</td>\n      <td>9.6 b</td>\n      <td>9.5</td>\n    </tr>\n    <tr>\n      <th>6</th>\n      <td>A,T,Y15-29,PC_POP,DK</td>\n      <td>8.4 b</td>\n      <td>9.8 b</td>\n      <td>9.6</td>\n      <td>9.6</td>\n      <td>10.2</td>\n      <td>8.3</td>\n    </tr>\n    <tr>\n      <th>7</th>\n      <td>A,T,Y15-29,PC_POP,EE</td>\n      <td>13.3</td>\n      <td>10.5</td>\n      <td>11.5</td>\n      <td>9.7</td>\n      <td>11.1</td>\n      <td>11.2</td>\n    </tr>\n    <tr>\n      <th>8</th>\n      <td>A,T,Y15-29,PC_POP,EL</td>\n      <td>21.9</td>\n      <td>21.0</td>\n      <td>19.2</td>\n      <td>17.5</td>\n      <td>18.5</td>\n      <td>17.2</td>\n    </tr>\n    <tr>\n      <th>9</th>\n      <td>A,T,Y15-29,PC_POP,ES</td>\n      <td>18.1</td>\n      <td>16.4</td>\n      <td>15.3</td>\n      <td>14.9</td>\n      <td>17.3</td>\n      <td>14.1 d</td>\n    </tr>\n    <tr>\n      <th>10</th>\n      <td>A,T,Y15-29,PC_POP,FI</td>\n      <td>11.2</td>\n      <td>10.4</td>\n      <td>9.6</td>\n      <td>9.1</td>\n      <td>9.8</td>\n      <td>9.2</td>\n    </tr>\n    <tr>\n      <th>11</th>\n      <td>A,T,Y15-29,PC_POP,FR</td>\n      <td>13.6</td>\n      <td>13.2</td>\n      <td>12.9</td>\n      <td>12.4</td>\n      <td>13.4</td>\n      <td>12.8 d</td>\n    </tr>\n    <tr>\n      <th>12</th>\n      <td>A,T,Y15-29,PC_POP,HR</td>\n      <td>19.5</td>\n      <td>17.9</td>\n      <td>15.6</td>\n      <td>14.2</td>\n      <td>14.6</td>\n      <td>14.9</td>\n    </tr>\n    <tr>\n      <th>13</th>\n      <td>A,T,Y15-29,PC_POP,HU</td>\n      <td>12.0</td>\n      <td>11.2</td>\n      <td>10.6</td>\n      <td>11.0</td>\n      <td>12.3</td>\n      <td>11.7</td>\n    </tr>\n    <tr>\n      <th>14</th>\n      <td>A,T,Y15-29,PC_POP,IE</td>\n      <td>14.5</td>\n      <td>12.8</td>\n      <td>11.6</td>\n      <td>11.4</td>\n      <td>14.1</td>\n      <td>9.8</td>\n    </tr>\n    <tr>\n      <th>15</th>\n      <td>A,T,Y15-29,PC_POP,IT</td>\n      <td>24.4</td>\n      <td>24.2</td>\n      <td>23.5</td>\n      <td>22.3</td>\n      <td>23.5</td>\n      <td>23.1</td>\n    </tr>\n    <tr>\n      <th>16</th>\n      <td>A,T,Y15-29,PC_POP,LT</td>\n      <td>10.7</td>\n      <td>10.2</td>\n      <td>9.3</td>\n      <td>10.9</td>\n      <td>13.0</td>\n      <td>12.7</td>\n    </tr>\n    <tr>\n      <th>17</th>\n      <td>A,T,Y15-29,PC_POP,LU</td>\n      <td>6.8</td>\n      <td>6.6</td>\n      <td>7.5</td>\n      <td>6.5</td>\n      <td>7.7</td>\n      <td>8.8</td>\n    </tr>\n    <tr>\n      <th>18</th>\n      <td>A,T,Y15-29,PC_POP,LV</td>\n      <td>13.3</td>\n      <td>12.3</td>\n      <td>11.6</td>\n      <td>10.2</td>\n      <td>11.9</td>\n      <td>12.1</td>\n    </tr>\n    <tr>\n      <th>19</th>\n      <td>A,T,Y15-29,PC_POP,MT</td>\n      <td>9.4</td>\n      <td>8.8</td>\n      <td>7.3</td>\n      <td>7.9</td>\n      <td>9.5</td>\n      <td>9.5</td>\n    </tr>\n    <tr>\n      <th>20</th>\n      <td>A,T,Y15-29,PC_POP,NL</td>\n      <td>6.9</td>\n      <td>6.5</td>\n      <td>6.3</td>\n      <td>6.3</td>\n      <td>6.3</td>\n      <td>3.9</td>\n    </tr>\n    <tr>\n      <th>21</th>\n      <td>A,T,Y15-29,PC_POP,PL</td>\n      <td>14.0</td>\n      <td>13.0</td>\n      <td>12.2</td>\n      <td>12.0</td>\n      <td>13.1</td>\n      <td>13.4</td>\n    </tr>\n    <tr>\n      <th>22</th>\n      <td>A,T,Y15-29,PC_POP,PT</td>\n      <td>12.8</td>\n      <td>10.6</td>\n      <td>9.6</td>\n      <td>9.2</td>\n      <td>11.0</td>\n      <td>9.5</td>\n    </tr>\n    <tr>\n      <th>23</th>\n      <td>A,T,Y15-29,PC_POP,RO</td>\n      <td>24.3</td>\n      <td>22.1</td>\n      <td>21.3</td>\n      <td>20.9</td>\n      <td>20.6</td>\n      <td>20.3</td>\n    </tr>\n    <tr>\n      <th>24</th>\n      <td>A,T,Y15-29,PC_POP,SE</td>\n      <td>6.7</td>\n      <td>6.4</td>\n      <td>6.5 b</td>\n      <td>5.9</td>\n      <td>6.9</td>\n      <td>6.0</td>\n    </tr>\n    <tr>\n      <th>25</th>\n      <td>A,T,Y15-29,PC_POP,SI</td>\n      <td>9.3</td>\n      <td>7.9</td>\n      <td>7.5</td>\n      <td>7.5</td>\n      <td>7.9</td>\n      <td>7.3</td>\n    </tr>\n    <tr>\n      <th>26</th>\n      <td>A,T,Y15-29,PC_POP,SK</td>\n      <td>15.1</td>\n      <td>15.1</td>\n      <td>13.8</td>\n      <td>13.7</td>\n      <td>14.4</td>\n      <td>14.2</td>\n    </tr>\n  </tbody>\n</table>\n</div>"
     },
     "metadata": {},
     "output_type": "display_data"
    }
   ],
   "source": [
    "neet_df = pandas.read_table('data/sdg/sdg_08_20.tsv')\n",
    "\n",
    "display(neet_df)"
   ],
   "metadata": {
    "collapsed": false,
    "ExecuteTime": {
     "end_time": "2023-10-19T12:55:15.164750700Z",
     "start_time": "2023-10-19T12:55:15.005030900Z"
    }
   },
   "id": "7f50c057555b0576"
  },
  {
   "cell_type": "code",
   "execution_count": 16,
   "outputs": [
    {
     "data": {
      "text/plain": "          geo  year       neet\n0     Austria  2021   8.396704\n1     Belgium  2021  13.056887\n2    Bulgaria  2021  12.173124\n3      Cyprus  2021   1.379851\n4     Czechia  2021  11.656394\n..        ...   ...        ...\n157  Portugal  2016  13.236902\n158   Romania  2016  48.018222\n159    Sweden  2016   6.600181\n160  Slovenia  2016   1.919695\n161  Slovakia  2016   8.193641\n\n[162 rows x 3 columns]",
      "text/html": "<div>\n<style scoped>\n    .dataframe tbody tr th:only-of-type {\n        vertical-align: middle;\n    }\n\n    .dataframe tbody tr th {\n        vertical-align: top;\n    }\n\n    .dataframe thead th {\n        text-align: right;\n    }\n</style>\n<table border=\"1\" class=\"dataframe\">\n  <thead>\n    <tr style=\"text-align: right;\">\n      <th></th>\n      <th>geo</th>\n      <th>year</th>\n      <th>neet</th>\n    </tr>\n  </thead>\n  <tbody>\n    <tr>\n      <th>0</th>\n      <td>Austria</td>\n      <td>2021</td>\n      <td>8.396704</td>\n    </tr>\n    <tr>\n      <th>1</th>\n      <td>Belgium</td>\n      <td>2021</td>\n      <td>13.056887</td>\n    </tr>\n    <tr>\n      <th>2</th>\n      <td>Bulgaria</td>\n      <td>2021</td>\n      <td>12.173124</td>\n    </tr>\n    <tr>\n      <th>3</th>\n      <td>Cyprus</td>\n      <td>2021</td>\n      <td>1.379851</td>\n    </tr>\n    <tr>\n      <th>4</th>\n      <td>Czechia</td>\n      <td>2021</td>\n      <td>11.656394</td>\n    </tr>\n    <tr>\n      <th>...</th>\n      <td>...</td>\n      <td>...</td>\n      <td>...</td>\n    </tr>\n    <tr>\n      <th>157</th>\n      <td>Portugal</td>\n      <td>2016</td>\n      <td>13.236902</td>\n    </tr>\n    <tr>\n      <th>158</th>\n      <td>Romania</td>\n      <td>2016</td>\n      <td>48.018222</td>\n    </tr>\n    <tr>\n      <th>159</th>\n      <td>Sweden</td>\n      <td>2016</td>\n      <td>6.600181</td>\n    </tr>\n    <tr>\n      <th>160</th>\n      <td>Slovenia</td>\n      <td>2016</td>\n      <td>1.919695</td>\n    </tr>\n    <tr>\n      <th>161</th>\n      <td>Slovakia</td>\n      <td>2016</td>\n      <td>8.193641</td>\n    </tr>\n  </tbody>\n</table>\n<p>162 rows × 3 columns</p>\n</div>"
     },
     "metadata": {},
     "output_type": "display_data"
    }
   ],
   "source": [
    "split = neet_df[\"freq,sex,age,unit,geo\\\\TIME_PERIOD\"].str.split(\",\", expand=True)\n",
    "split.drop(columns=[0, 1, 2, 3], inplace=True)\n",
    "split.columns = [\"geo\"]\n",
    "\n",
    "neet_df = pd.concat([neet_df, split], axis=1)\n",
    "neet_df.drop(columns=[\"freq,sex,age,unit,geo\\\\TIME_PERIOD\"], axis=1, inplace=True)\n",
    "neet_df = neet_df.iloc[:, ::-1]\n",
    "neet_df.rename(columns=lambda x: x.strip(), inplace=True)\n",
    "neet_df[\"geo\"] = neet_df[\"geo\"].map(geo_dict)\n",
    "\n",
    "# Clean and interpolate the data\n",
    "neet_df = clean_interpolate(neet_df, \"geo\")\n",
    "# Convert to per 100.000 inhabitants\n",
    "neet_df = convert_to_ht(population_df, neet_df)\n",
    "\n",
    "neet_df = neet_df.melt(id_vars=[\"geo\"], var_name=\"year\", value_name=\"neet\")\n",
    "display(neet_df)"
   ],
   "metadata": {
    "collapsed": false,
    "ExecuteTime": {
     "end_time": "2023-10-19T12:55:15.180719600Z",
     "start_time": "2023-10-19T12:55:15.023984800Z"
    }
   },
   "id": "e87d82fc43bd3a35"
  },
  {
   "cell_type": "markdown",
   "source": [
    "### Altro dataset: Tasso di occupazione\n",
    "[Employment rates by sex, age and educational attainment level (%)](https://ec.europa.eu/eurostat/databrowser/view/lfsa_ergaed__custom_7848656/default/table?lang=en)\n",
    "\n",
    "- Age: 20-64 years\n",
    "- Time: 2016-2021\n",
    "- Unit: percentage\n",
    "- ISCED 2011 levels"
   ],
   "metadata": {
    "collapsed": false
   },
   "id": "70419b547977b8b2"
  },
  {
   "cell_type": "code",
   "execution_count": 17,
   "outputs": [
    {
     "data": {
      "text/plain": "   freq,unit,sex,age,isced11,geo\\TIME_PERIOD   2016    2017    2018    2019    \n0                     A,PC,T,Y20-64,TOTAL,AT   74.8    75.4    76.2    76.8   \\\n1                     A,PC,T,Y20-64,TOTAL,BE   67.7   68.5 b   69.7    70.5    \n2                     A,PC,T,Y20-64,TOTAL,BG   67.7    71.3    72.4    75.0    \n3                     A,PC,T,Y20-64,TOTAL,CY   68.7    70.8    73.9    75.7    \n4                     A,PC,T,Y20-64,TOTAL,CZ   76.7    78.5    79.9    80.3    \n5                     A,PC,T,Y20-64,TOTAL,DE   78.6    79.2    79.9    80.6    \n6                     A,PC,T,Y20-64,TOTAL,DK  76.0 b  76.6 b   77.5    78.3    \n7                     A,PC,T,Y20-64,TOTAL,EE   76.4    78.3    79.1    79.7    \n8                     A,PC,T,Y20-64,TOTAL,EL   56.2    57.8    59.5    61.2    \n9                     A,PC,T,Y20-64,TOTAL,ES   63.9    65.5    67.0    68.0    \n10                    A,PC,T,Y20-64,TOTAL,FI   73.4    74.2    76.3    77.2    \n11                    A,PC,T,Y20-64,TOTAL,FR   70.0    70.6    71.3    71.6    \n12                    A,PC,T,Y20-64,TOTAL,HR   61.4    63.6    65.2    66.7    \n13                    A,PC,T,Y20-64,TOTAL,HU   71.5    73.3    74.4    75.3    \n14                    A,PC,T,Y20-64,TOTAL,IE   71.4   73.0 b   74.1    75.1    \n15                    A,PC,T,Y20-64,TOTAL,IT   61.6    62.3    63.0    63.5    \n16                    A,PC,T,Y20-64,TOTAL,LT   75.2    76.0    77.8    78.2    \n17                    A,PC,T,Y20-64,TOTAL,LU   70.7    71.5    72.1    72.8    \n18                    A,PC,T,Y20-64,TOTAL,LV   73.2    74.8    76.8    77.4    \n19                    A,PC,T,Y20-64,TOTAL,MT   71.1    73.0    75.5    76.8    \n20                    A,PC,T,Y20-64,TOTAL,NL   77.1    78.0    79.2   80.1 b   \n21                    A,PC,T,Y20-64,TOTAL,PL   69.3    70.9    72.2    73.0    \n22                    A,PC,T,Y20-64,TOTAL,PT   70.6    73.4    75.4    76.1    \n23                    A,PC,T,Y20-64,TOTAL,RO   66.3    68.8    69.9    70.9    \n24                    A,PC,T,Y20-64,TOTAL,SE   81.2    81.8   82.4 b   82.1    \n25                    A,PC,T,Y20-64,TOTAL,SI   70.1    73.4    75.4    76.4    \n26                    A,PC,T,Y20-64,TOTAL,SK   69.8    71.1    72.4    73.4    \n\n     2020     2021   \n0    75.5    75.6 b  \n1    70.0    70.6 b  \n2    73.4    73.2 b  \n3    74.9    75.9 b  \n4    79.7    80.0 b  \n5   79.2 b   79.4 b  \n6    77.8    79.1 b  \n7    78.2    79.3 b  \n8    61.1    62.6 b  \n9    65.7   67.7 bd  \n10   76.5    76.8 b  \n11   71.4   73.2 bd  \n12   66.9    68.2 b  \n13   75.0    78.8 b  \n14   73.4    74.9 b  \n15   62.6    62.7 b  \n16   76.7    77.4 b  \n17   72.1    74.1 b  \n18   77.0    75.3 b  \n19   77.3    79.1 b  \n20   80.0    81.7 b  \n21   73.6    75.4 b  \n22   74.7    75.9 b  \n23   70.8    67.1 b  \n24   80.8    80.7 b  \n25   75.6    76.1 b  \n26   72.5    74.6 b  ",
      "text/html": "<div>\n<style scoped>\n    .dataframe tbody tr th:only-of-type {\n        vertical-align: middle;\n    }\n\n    .dataframe tbody tr th {\n        vertical-align: top;\n    }\n\n    .dataframe thead th {\n        text-align: right;\n    }\n</style>\n<table border=\"1\" class=\"dataframe\">\n  <thead>\n    <tr style=\"text-align: right;\">\n      <th></th>\n      <th>freq,unit,sex,age,isced11,geo\\TIME_PERIOD</th>\n      <th>2016</th>\n      <th>2017</th>\n      <th>2018</th>\n      <th>2019</th>\n      <th>2020</th>\n      <th>2021</th>\n    </tr>\n  </thead>\n  <tbody>\n    <tr>\n      <th>0</th>\n      <td>A,PC,T,Y20-64,TOTAL,AT</td>\n      <td>74.8</td>\n      <td>75.4</td>\n      <td>76.2</td>\n      <td>76.8</td>\n      <td>75.5</td>\n      <td>75.6 b</td>\n    </tr>\n    <tr>\n      <th>1</th>\n      <td>A,PC,T,Y20-64,TOTAL,BE</td>\n      <td>67.7</td>\n      <td>68.5 b</td>\n      <td>69.7</td>\n      <td>70.5</td>\n      <td>70.0</td>\n      <td>70.6 b</td>\n    </tr>\n    <tr>\n      <th>2</th>\n      <td>A,PC,T,Y20-64,TOTAL,BG</td>\n      <td>67.7</td>\n      <td>71.3</td>\n      <td>72.4</td>\n      <td>75.0</td>\n      <td>73.4</td>\n      <td>73.2 b</td>\n    </tr>\n    <tr>\n      <th>3</th>\n      <td>A,PC,T,Y20-64,TOTAL,CY</td>\n      <td>68.7</td>\n      <td>70.8</td>\n      <td>73.9</td>\n      <td>75.7</td>\n      <td>74.9</td>\n      <td>75.9 b</td>\n    </tr>\n    <tr>\n      <th>4</th>\n      <td>A,PC,T,Y20-64,TOTAL,CZ</td>\n      <td>76.7</td>\n      <td>78.5</td>\n      <td>79.9</td>\n      <td>80.3</td>\n      <td>79.7</td>\n      <td>80.0 b</td>\n    </tr>\n    <tr>\n      <th>5</th>\n      <td>A,PC,T,Y20-64,TOTAL,DE</td>\n      <td>78.6</td>\n      <td>79.2</td>\n      <td>79.9</td>\n      <td>80.6</td>\n      <td>79.2 b</td>\n      <td>79.4 b</td>\n    </tr>\n    <tr>\n      <th>6</th>\n      <td>A,PC,T,Y20-64,TOTAL,DK</td>\n      <td>76.0 b</td>\n      <td>76.6 b</td>\n      <td>77.5</td>\n      <td>78.3</td>\n      <td>77.8</td>\n      <td>79.1 b</td>\n    </tr>\n    <tr>\n      <th>7</th>\n      <td>A,PC,T,Y20-64,TOTAL,EE</td>\n      <td>76.4</td>\n      <td>78.3</td>\n      <td>79.1</td>\n      <td>79.7</td>\n      <td>78.2</td>\n      <td>79.3 b</td>\n    </tr>\n    <tr>\n      <th>8</th>\n      <td>A,PC,T,Y20-64,TOTAL,EL</td>\n      <td>56.2</td>\n      <td>57.8</td>\n      <td>59.5</td>\n      <td>61.2</td>\n      <td>61.1</td>\n      <td>62.6 b</td>\n    </tr>\n    <tr>\n      <th>9</th>\n      <td>A,PC,T,Y20-64,TOTAL,ES</td>\n      <td>63.9</td>\n      <td>65.5</td>\n      <td>67.0</td>\n      <td>68.0</td>\n      <td>65.7</td>\n      <td>67.7 bd</td>\n    </tr>\n    <tr>\n      <th>10</th>\n      <td>A,PC,T,Y20-64,TOTAL,FI</td>\n      <td>73.4</td>\n      <td>74.2</td>\n      <td>76.3</td>\n      <td>77.2</td>\n      <td>76.5</td>\n      <td>76.8 b</td>\n    </tr>\n    <tr>\n      <th>11</th>\n      <td>A,PC,T,Y20-64,TOTAL,FR</td>\n      <td>70.0</td>\n      <td>70.6</td>\n      <td>71.3</td>\n      <td>71.6</td>\n      <td>71.4</td>\n      <td>73.2 bd</td>\n    </tr>\n    <tr>\n      <th>12</th>\n      <td>A,PC,T,Y20-64,TOTAL,HR</td>\n      <td>61.4</td>\n      <td>63.6</td>\n      <td>65.2</td>\n      <td>66.7</td>\n      <td>66.9</td>\n      <td>68.2 b</td>\n    </tr>\n    <tr>\n      <th>13</th>\n      <td>A,PC,T,Y20-64,TOTAL,HU</td>\n      <td>71.5</td>\n      <td>73.3</td>\n      <td>74.4</td>\n      <td>75.3</td>\n      <td>75.0</td>\n      <td>78.8 b</td>\n    </tr>\n    <tr>\n      <th>14</th>\n      <td>A,PC,T,Y20-64,TOTAL,IE</td>\n      <td>71.4</td>\n      <td>73.0 b</td>\n      <td>74.1</td>\n      <td>75.1</td>\n      <td>73.4</td>\n      <td>74.9 b</td>\n    </tr>\n    <tr>\n      <th>15</th>\n      <td>A,PC,T,Y20-64,TOTAL,IT</td>\n      <td>61.6</td>\n      <td>62.3</td>\n      <td>63.0</td>\n      <td>63.5</td>\n      <td>62.6</td>\n      <td>62.7 b</td>\n    </tr>\n    <tr>\n      <th>16</th>\n      <td>A,PC,T,Y20-64,TOTAL,LT</td>\n      <td>75.2</td>\n      <td>76.0</td>\n      <td>77.8</td>\n      <td>78.2</td>\n      <td>76.7</td>\n      <td>77.4 b</td>\n    </tr>\n    <tr>\n      <th>17</th>\n      <td>A,PC,T,Y20-64,TOTAL,LU</td>\n      <td>70.7</td>\n      <td>71.5</td>\n      <td>72.1</td>\n      <td>72.8</td>\n      <td>72.1</td>\n      <td>74.1 b</td>\n    </tr>\n    <tr>\n      <th>18</th>\n      <td>A,PC,T,Y20-64,TOTAL,LV</td>\n      <td>73.2</td>\n      <td>74.8</td>\n      <td>76.8</td>\n      <td>77.4</td>\n      <td>77.0</td>\n      <td>75.3 b</td>\n    </tr>\n    <tr>\n      <th>19</th>\n      <td>A,PC,T,Y20-64,TOTAL,MT</td>\n      <td>71.1</td>\n      <td>73.0</td>\n      <td>75.5</td>\n      <td>76.8</td>\n      <td>77.3</td>\n      <td>79.1 b</td>\n    </tr>\n    <tr>\n      <th>20</th>\n      <td>A,PC,T,Y20-64,TOTAL,NL</td>\n      <td>77.1</td>\n      <td>78.0</td>\n      <td>79.2</td>\n      <td>80.1 b</td>\n      <td>80.0</td>\n      <td>81.7 b</td>\n    </tr>\n    <tr>\n      <th>21</th>\n      <td>A,PC,T,Y20-64,TOTAL,PL</td>\n      <td>69.3</td>\n      <td>70.9</td>\n      <td>72.2</td>\n      <td>73.0</td>\n      <td>73.6</td>\n      <td>75.4 b</td>\n    </tr>\n    <tr>\n      <th>22</th>\n      <td>A,PC,T,Y20-64,TOTAL,PT</td>\n      <td>70.6</td>\n      <td>73.4</td>\n      <td>75.4</td>\n      <td>76.1</td>\n      <td>74.7</td>\n      <td>75.9 b</td>\n    </tr>\n    <tr>\n      <th>23</th>\n      <td>A,PC,T,Y20-64,TOTAL,RO</td>\n      <td>66.3</td>\n      <td>68.8</td>\n      <td>69.9</td>\n      <td>70.9</td>\n      <td>70.8</td>\n      <td>67.1 b</td>\n    </tr>\n    <tr>\n      <th>24</th>\n      <td>A,PC,T,Y20-64,TOTAL,SE</td>\n      <td>81.2</td>\n      <td>81.8</td>\n      <td>82.4 b</td>\n      <td>82.1</td>\n      <td>80.8</td>\n      <td>80.7 b</td>\n    </tr>\n    <tr>\n      <th>25</th>\n      <td>A,PC,T,Y20-64,TOTAL,SI</td>\n      <td>70.1</td>\n      <td>73.4</td>\n      <td>75.4</td>\n      <td>76.4</td>\n      <td>75.6</td>\n      <td>76.1 b</td>\n    </tr>\n    <tr>\n      <th>26</th>\n      <td>A,PC,T,Y20-64,TOTAL,SK</td>\n      <td>69.8</td>\n      <td>71.1</td>\n      <td>72.4</td>\n      <td>73.4</td>\n      <td>72.5</td>\n      <td>74.6 b</td>\n    </tr>\n  </tbody>\n</table>\n</div>"
     },
     "metadata": {},
     "output_type": "display_data"
    }
   ],
   "source": [
    "employment_df = pandas.read_table('data/population/lfsa_ergaed.tsv')\n",
    "\n",
    "display(employment_df)"
   ],
   "metadata": {
    "collapsed": false,
    "ExecuteTime": {
     "end_time": "2023-10-19T12:55:15.280440700Z",
     "start_time": "2023-10-19T12:55:15.042442800Z"
    }
   },
   "id": "e7fa222aefc13980"
  },
  {
   "cell_type": "markdown",
   "source": [
    "# Costruzione del o dei dataset finali per l'analisi"
   ],
   "metadata": {
    "collapsed": false
   },
   "id": "d1aebad5e72b8ea1"
  },
  {
   "cell_type": "code",
   "execution_count": 18,
   "outputs": [
    {
     "data": {
      "text/plain": "          geo  year homicides     poverty       neet\n0     Austria  2021     0.66    20.366474   8.396704\n1     Belgium  2021     1.26    23.687272  13.056887\n2    Bulgaria  2021     1.27    22.824608  12.173124\n3      Cyprus  2021     1.56     1.720333   1.379851\n4     Czechia  2021     0.43    14.222939  11.656394\n..        ...   ...       ...         ...        ...\n157  Portugal  2016     0.64    28.438658  13.236902\n158   Romania  2016     1.25   110.659276  48.018222\n159    Sweden  2016     1.08    19.406503   6.600181\n160  Slovenia  2016     0.48     2.993073   1.919695\n161  Slovakia  2016     1.11    13.294317   8.193641\n\n[162 rows x 5 columns]",
      "text/html": "<div>\n<style scoped>\n    .dataframe tbody tr th:only-of-type {\n        vertical-align: middle;\n    }\n\n    .dataframe tbody tr th {\n        vertical-align: top;\n    }\n\n    .dataframe thead th {\n        text-align: right;\n    }\n</style>\n<table border=\"1\" class=\"dataframe\">\n  <thead>\n    <tr style=\"text-align: right;\">\n      <th></th>\n      <th>geo</th>\n      <th>year</th>\n      <th>homicides</th>\n      <th>poverty</th>\n      <th>neet</th>\n    </tr>\n  </thead>\n  <tbody>\n    <tr>\n      <th>0</th>\n      <td>Austria</td>\n      <td>2021</td>\n      <td>0.66</td>\n      <td>20.366474</td>\n      <td>8.396704</td>\n    </tr>\n    <tr>\n      <th>1</th>\n      <td>Belgium</td>\n      <td>2021</td>\n      <td>1.26</td>\n      <td>23.687272</td>\n      <td>13.056887</td>\n    </tr>\n    <tr>\n      <th>2</th>\n      <td>Bulgaria</td>\n      <td>2021</td>\n      <td>1.27</td>\n      <td>22.824608</td>\n      <td>12.173124</td>\n    </tr>\n    <tr>\n      <th>3</th>\n      <td>Cyprus</td>\n      <td>2021</td>\n      <td>1.56</td>\n      <td>1.720333</td>\n      <td>1.379851</td>\n    </tr>\n    <tr>\n      <th>4</th>\n      <td>Czechia</td>\n      <td>2021</td>\n      <td>0.43</td>\n      <td>14.222939</td>\n      <td>11.656394</td>\n    </tr>\n    <tr>\n      <th>...</th>\n      <td>...</td>\n      <td>...</td>\n      <td>...</td>\n      <td>...</td>\n      <td>...</td>\n    </tr>\n    <tr>\n      <th>157</th>\n      <td>Portugal</td>\n      <td>2016</td>\n      <td>0.64</td>\n      <td>28.438658</td>\n      <td>13.236902</td>\n    </tr>\n    <tr>\n      <th>158</th>\n      <td>Romania</td>\n      <td>2016</td>\n      <td>1.25</td>\n      <td>110.659276</td>\n      <td>48.018222</td>\n    </tr>\n    <tr>\n      <th>159</th>\n      <td>Sweden</td>\n      <td>2016</td>\n      <td>1.08</td>\n      <td>19.406503</td>\n      <td>6.600181</td>\n    </tr>\n    <tr>\n      <th>160</th>\n      <td>Slovenia</td>\n      <td>2016</td>\n      <td>0.48</td>\n      <td>2.993073</td>\n      <td>1.919695</td>\n    </tr>\n    <tr>\n      <th>161</th>\n      <td>Slovakia</td>\n      <td>2016</td>\n      <td>1.11</td>\n      <td>13.294317</td>\n      <td>8.193641</td>\n    </tr>\n  </tbody>\n</table>\n<p>162 rows × 5 columns</p>\n</div>"
     },
     "metadata": {},
     "output_type": "display_data"
    }
   ],
   "source": [
    "# Costruzione del dataset riguardo il crimine intentional homicide\n",
    "# I dati riguardo il crimine intentional homicide non hanno bisogno di essere interpolati\n",
    "\n",
    "# controlla meglio orine degli anni !!! \n",
    "\n",
    "homicide_df = df[df[\"iccs\"] == \"ICCS0101\"].drop(columns=[\"iccs\"])\n",
    "homicide_df.applymap(lambda x: pd.to_numeric(x, errors='coerce'))\n",
    "\n",
    "homicide_df = homicide_df.melt(id_vars=[\"geo\"], var_name=\"year\", value_name=\"homicides\")\n",
    "\n",
    "homicide_df = homicide_df.merge(poverty_df, on=[\"geo\", \"year\"])\n",
    "homicide_df = homicide_df.merge(neet_df, on=[\"geo\", \"year\"])\n",
    "\n",
    "display(homicide_df)\n",
    "\n"
   ],
   "metadata": {
    "collapsed": false,
    "ExecuteTime": {
     "end_time": "2023-10-19T12:55:15.283432400Z",
     "start_time": "2023-10-19T12:55:15.063826200Z"
    }
   },
   "id": "3c67933501a67580"
  },
  {
   "cell_type": "code",
   "execution_count": 19,
   "outputs": [
    {
     "data": {
      "text/plain": "          geo  year homicides     poverty       neet     theft\n0     Austria  2021     0.66    20.366474   8.396704   819.61 \n1     Belgium  2021     1.26    23.687272  13.056887  1428.70 \n2    Bulgaria  2021     1.27    22.824608  12.173124   353.28 \n3      Cyprus  2021     1.56     1.720333   1.379851    58.82 \n4     Czechia  2021     0.43    14.222939  11.656394   248.45 \n..        ...   ...       ...         ...        ...       ...\n157  Portugal  2016     0.64    28.438658  13.236902   863.57 \n158   Romania  2016     1.25   110.659276  48.018222   466.08 \n159    Sweden  2016     1.08    19.406503   6.600181  3810.73 \n160  Slovenia  2016     0.48     2.993073   1.919695  1036.44 \n161  Slovakia  2016     1.11    13.294317   8.193641   292.47 \n\n[162 rows x 6 columns]",
      "text/html": "<div>\n<style scoped>\n    .dataframe tbody tr th:only-of-type {\n        vertical-align: middle;\n    }\n\n    .dataframe tbody tr th {\n        vertical-align: top;\n    }\n\n    .dataframe thead th {\n        text-align: right;\n    }\n</style>\n<table border=\"1\" class=\"dataframe\">\n  <thead>\n    <tr style=\"text-align: right;\">\n      <th></th>\n      <th>geo</th>\n      <th>year</th>\n      <th>homicides</th>\n      <th>poverty</th>\n      <th>neet</th>\n      <th>theft</th>\n    </tr>\n  </thead>\n  <tbody>\n    <tr>\n      <th>0</th>\n      <td>Austria</td>\n      <td>2021</td>\n      <td>0.66</td>\n      <td>20.366474</td>\n      <td>8.396704</td>\n      <td>819.61</td>\n    </tr>\n    <tr>\n      <th>1</th>\n      <td>Belgium</td>\n      <td>2021</td>\n      <td>1.26</td>\n      <td>23.687272</td>\n      <td>13.056887</td>\n      <td>1428.70</td>\n    </tr>\n    <tr>\n      <th>2</th>\n      <td>Bulgaria</td>\n      <td>2021</td>\n      <td>1.27</td>\n      <td>22.824608</td>\n      <td>12.173124</td>\n      <td>353.28</td>\n    </tr>\n    <tr>\n      <th>3</th>\n      <td>Cyprus</td>\n      <td>2021</td>\n      <td>1.56</td>\n      <td>1.720333</td>\n      <td>1.379851</td>\n      <td>58.82</td>\n    </tr>\n    <tr>\n      <th>4</th>\n      <td>Czechia</td>\n      <td>2021</td>\n      <td>0.43</td>\n      <td>14.222939</td>\n      <td>11.656394</td>\n      <td>248.45</td>\n    </tr>\n    <tr>\n      <th>...</th>\n      <td>...</td>\n      <td>...</td>\n      <td>...</td>\n      <td>...</td>\n      <td>...</td>\n      <td>...</td>\n    </tr>\n    <tr>\n      <th>157</th>\n      <td>Portugal</td>\n      <td>2016</td>\n      <td>0.64</td>\n      <td>28.438658</td>\n      <td>13.236902</td>\n      <td>863.57</td>\n    </tr>\n    <tr>\n      <th>158</th>\n      <td>Romania</td>\n      <td>2016</td>\n      <td>1.25</td>\n      <td>110.659276</td>\n      <td>48.018222</td>\n      <td>466.08</td>\n    </tr>\n    <tr>\n      <th>159</th>\n      <td>Sweden</td>\n      <td>2016</td>\n      <td>1.08</td>\n      <td>19.406503</td>\n      <td>6.600181</td>\n      <td>3810.73</td>\n    </tr>\n    <tr>\n      <th>160</th>\n      <td>Slovenia</td>\n      <td>2016</td>\n      <td>0.48</td>\n      <td>2.993073</td>\n      <td>1.919695</td>\n      <td>1036.44</td>\n    </tr>\n    <tr>\n      <th>161</th>\n      <td>Slovakia</td>\n      <td>2016</td>\n      <td>1.11</td>\n      <td>13.294317</td>\n      <td>8.193641</td>\n      <td>292.47</td>\n    </tr>\n  </tbody>\n</table>\n<p>162 rows × 6 columns</p>\n</div>"
     },
     "metadata": {},
     "output_type": "display_data"
    }
   ],
   "source": [
    "# Adding theft to the dataset\n",
    "\n",
    "theft_df = df[df[\"iccs\"] == \"ICCS0502\"].drop(columns=[\"iccs\"])\n",
    "theft_df.applymap(lambda x: pd.to_numeric(x, errors='coerce'))\n",
    "\n",
    "theft_df = theft_df.melt(id_vars=[\"geo\"], var_name=\"year\", value_name=\"theft\")\n",
    "\n",
    "homicide_df = homicide_df.merge(theft_df, on=[\"geo\", \"year\"])\n",
    "\n",
    "display(homicide_df)\n",
    "\n"
   ],
   "metadata": {
    "collapsed": false,
    "ExecuteTime": {
     "end_time": "2023-10-19T12:55:15.334297400Z",
     "start_time": "2023-10-19T12:55:15.079815200Z"
    }
   },
   "id": "1294e93975fcf769"
  },
  {
   "cell_type": "code",
   "execution_count": 20,
   "outputs": [
    {
     "data": {
      "text/plain": "<Axes: >"
     },
     "execution_count": 20,
     "metadata": {},
     "output_type": "execute_result"
    },
    {
     "data": {
      "text/plain": "<Figure size 1200x900 with 2 Axes>",
      "image/png": "[encoded data removed]"
     },
     "metadata": {},
     "output_type": "display_data"
    }
   ],
   "source": [
    "# Correlation matrix\n",
    "corrmat = homicide_df[[\"homicides\", \"poverty\", \"neet\", \"theft\"]].corr()\n",
    "\n",
    "f, ax = plt.subplots(figsize=(12, 9))\n",
    "\n",
    "sns.heatmap(corrmat, annot=True, square=True)"
   ],
   "metadata": {
    "collapsed": false,
    "ExecuteTime": {
     "end_time": "2023-10-19T12:55:15.592441400Z",
     "start_time": "2023-10-19T12:55:15.094936400Z"
    }
   },
   "id": "606b3cbc47ed9833"
  },
  {
   "cell_type": "code",
   "execution_count": 20,
   "outputs": [],
   "source": [],
   "metadata": {
    "collapsed": false,
    "ExecuteTime": {
     "end_time": "2023-10-19T12:55:15.623358900Z",
     "start_time": "2023-10-19T12:55:15.423058500Z"
    }
   },
   "id": "d137a70f30e0108c"
  },
  {
   "cell_type": "code",
   "execution_count": 20,
   "outputs": [],
   "source": [],
   "metadata": {
    "collapsed": false,
    "ExecuteTime": {
     "end_time": "2023-10-19T12:55:15.638319600Z",
     "start_time": "2023-10-19T12:55:15.426377400Z"
    }
   },
   "id": "1f31e0e7f8ccf8fc"
  }
 ],
 "metadata": {
  "kernelspec": {
   "display_name": "Python 3",
   "language": "python",
   "name": "python3"
  },
  "language_info": {
   "codemirror_mode": {
    "name": "ipython",
    "version": 2
   },
   "file_extension": ".py",
   "mimetype": "text/x-python",
   "name": "python",
   "nbconvert_exporter": "python",
   "pygments_lexer": "ipython2",
   "version": "2.7.6"
  }
 },
 "nbformat": 4,
 "nbformat_minor": 5
}
