{
 "cells": [
  {
   "cell_type": "code",
   "execution_count": 67,
   "outputs": [],
   "source": [
    "import pandas\n",
    "import pandas as pd\n",
    "import numpy as np\n",
    "import matplotlib.pyplot as plt\n",
    "import scipy\n",
    "import seaborn as sns"
   ],
   "metadata": {
    "collapsed": false,
    "ExecuteTime": {
     "end_time": "2023-10-23T14:16:43.560353600Z",
     "start_time": "2023-10-23T14:16:43.498583500Z"
    }
   },
   "id": "a40ea28f59cb3ac5"
  },
  {
   "cell_type": "markdown",
   "source": [
    "# Human Data Science - Course Project"
   ],
   "metadata": {
    "collapsed": false
   },
   "id": "c7a91a9001f67d16"
  },
  {
   "cell_type": "markdown",
   "source": [
    "## Costruzione del dataset\n",
    "L'obiettivo è la creazione di un dataset o più dataset contenenti dati riguardo al crimine e fattori socio-economici che possono influenzare il crimine stesso per ogni paese dell'Unione Europea.\n",
    "\n",
    "\n",
    "I dati riguardo i crimini commessi sono forniti da [Eurostat](https://ec.europa.eu/eurostat/databrowser/view/crim_off_cat__custom_8028311/default/table?lang=en), [Explanatory Texts](https://ec.europa.eu/eurostat/cache/metadata/en/crim_off_cat_esms.htm)"
   ],
   "metadata": {
    "collapsed": false
   },
   "id": "581bea6cf67f22d7"
  },
  {
   "cell_type": "code",
   "execution_count": 68,
   "outputs": [
    {
     "data": {
      "text/plain": "    freq,iccs,unit,geo\\TIME_PERIOD    2016    2017    2018    2019    2020    \n0            A,ICCS0101,P_HTHAB,AT    0.56     0.70    0.83    0.84    0.61  \\\n1            A,ICCS0101,P_HTHAB,BE    1.55     1.74    1.68    1.27    1.26   \n2            A,ICCS0101,P_HTHAB,BG    1.10     1.34    1.30    1.14    0.95   \n3            A,ICCS0101,P_HTHAB,CY    1.30     0.82    1.62    1.48    1.69   \n4            A,ICCS0101,P_HTHAB,CZ    0.62     0.38    0.52    0.76    0.53   \n..                             ...      ...     ...     ...     ...     ...   \n103          A,ICCS0703,P_HTHAB,PT    1.47     1.71    1.61    1.65    1.50   \n104          A,ICCS0703,P_HTHAB,RO    7.09    27.67   22.42   21.07   17.66   \n105          A,ICCS0703,P_HTHAB,SE  213.55   211.05  207.81  201.53  191.63   \n106          A,ICCS0703,P_HTHAB,SI   56.15    47.00   10.31   10.52   14.89   \n107          A,ICCS0703,P_HTHAB,SK    1.94     3.07    2.77    2.50    2.40   \n\n      2021   \n0      0.66  \n1      1.26  \n2      1.27  \n3      1.56  \n4      0.43  \n..      ...  \n103    2.06  \n104   20.92  \n105  205.03  \n106   11.38  \n107    3.41  \n\n[108 rows x 7 columns]",
      "text/html": "<div>\n<style scoped>\n    .dataframe tbody tr th:only-of-type {\n        vertical-align: middle;\n    }\n\n    .dataframe tbody tr th {\n        vertical-align: top;\n    }\n\n    .dataframe thead th {\n        text-align: right;\n    }\n</style>\n<table border=\"1\" class=\"dataframe\">\n  <thead>\n    <tr style=\"text-align: right;\">\n      <th></th>\n      <th>freq,iccs,unit,geo\\TIME_PERIOD</th>\n      <th>2016</th>\n      <th>2017</th>\n      <th>2018</th>\n      <th>2019</th>\n      <th>2020</th>\n      <th>2021</th>\n    </tr>\n  </thead>\n  <tbody>\n    <tr>\n      <th>0</th>\n      <td>A,ICCS0101,P_HTHAB,AT</td>\n      <td>0.56</td>\n      <td>0.70</td>\n      <td>0.83</td>\n      <td>0.84</td>\n      <td>0.61</td>\n      <td>0.66</td>\n    </tr>\n    <tr>\n      <th>1</th>\n      <td>A,ICCS0101,P_HTHAB,BE</td>\n      <td>1.55</td>\n      <td>1.74</td>\n      <td>1.68</td>\n      <td>1.27</td>\n      <td>1.26</td>\n      <td>1.26</td>\n    </tr>\n    <tr>\n      <th>2</th>\n      <td>A,ICCS0101,P_HTHAB,BG</td>\n      <td>1.10</td>\n      <td>1.34</td>\n      <td>1.30</td>\n      <td>1.14</td>\n      <td>0.95</td>\n      <td>1.27</td>\n    </tr>\n    <tr>\n      <th>3</th>\n      <td>A,ICCS0101,P_HTHAB,CY</td>\n      <td>1.30</td>\n      <td>0.82</td>\n      <td>1.62</td>\n      <td>1.48</td>\n      <td>1.69</td>\n      <td>1.56</td>\n    </tr>\n    <tr>\n      <th>4</th>\n      <td>A,ICCS0101,P_HTHAB,CZ</td>\n      <td>0.62</td>\n      <td>0.38</td>\n      <td>0.52</td>\n      <td>0.76</td>\n      <td>0.53</td>\n      <td>0.43</td>\n    </tr>\n    <tr>\n      <th>...</th>\n      <td>...</td>\n      <td>...</td>\n      <td>...</td>\n      <td>...</td>\n      <td>...</td>\n      <td>...</td>\n      <td>...</td>\n    </tr>\n    <tr>\n      <th>103</th>\n      <td>A,ICCS0703,P_HTHAB,PT</td>\n      <td>1.47</td>\n      <td>1.71</td>\n      <td>1.61</td>\n      <td>1.65</td>\n      <td>1.50</td>\n      <td>2.06</td>\n    </tr>\n    <tr>\n      <th>104</th>\n      <td>A,ICCS0703,P_HTHAB,RO</td>\n      <td>7.09</td>\n      <td>27.67</td>\n      <td>22.42</td>\n      <td>21.07</td>\n      <td>17.66</td>\n      <td>20.92</td>\n    </tr>\n    <tr>\n      <th>105</th>\n      <td>A,ICCS0703,P_HTHAB,SE</td>\n      <td>213.55</td>\n      <td>211.05</td>\n      <td>207.81</td>\n      <td>201.53</td>\n      <td>191.63</td>\n      <td>205.03</td>\n    </tr>\n    <tr>\n      <th>106</th>\n      <td>A,ICCS0703,P_HTHAB,SI</td>\n      <td>56.15</td>\n      <td>47.00</td>\n      <td>10.31</td>\n      <td>10.52</td>\n      <td>14.89</td>\n      <td>11.38</td>\n    </tr>\n    <tr>\n      <th>107</th>\n      <td>A,ICCS0703,P_HTHAB,SK</td>\n      <td>1.94</td>\n      <td>3.07</td>\n      <td>2.77</td>\n      <td>2.50</td>\n      <td>2.40</td>\n      <td>3.41</td>\n    </tr>\n  </tbody>\n</table>\n<p>108 rows × 7 columns</p>\n</div>"
     },
     "metadata": {},
     "output_type": "display_data"
    }
   ],
   "source": [
    "df = pandas.read_table('data/crime/crim_off_cat.tsv')  #ok\n",
    "\n",
    "display(df)"
   ],
   "metadata": {
    "collapsed": false,
    "ExecuteTime": {
     "end_time": "2023-10-23T14:16:43.607046500Z",
     "start_time": "2023-10-23T14:16:43.508065200Z"
    }
   },
   "id": "1056160955c1264b"
  },
  {
   "cell_type": "code",
   "execution_count": 69,
   "outputs": [],
   "source": [
    "split = df[\"freq,iccs,unit,geo\\\\TIME_PERIOD\"].str.split(\",\", expand=True)\n",
    "split.columns = [\"freq\", \"iccs\", \"unit\", \"geo\"]\n",
    "split.drop(columns=[\"freq\", \"unit\"], inplace=True)\n",
    "split = split[[\"geo\", \"iccs\"]]\n",
    "\n",
    "df = pd.concat([df, split], axis=1)\n",
    "df.drop(columns=[\"freq,iccs,unit,geo\\\\TIME_PERIOD\"], inplace=True)\n",
    "\n",
    "df.rename(columns=lambda x: x.strip(), inplace=True)"
   ],
   "metadata": {
    "collapsed": false,
    "ExecuteTime": {
     "end_time": "2023-10-23T14:16:43.671639500Z",
     "start_time": "2023-10-23T14:16:43.519019800Z"
    }
   },
   "id": "f36b66d8f4dc1c29"
  },
  {
   "cell_type": "code",
   "execution_count": 70,
   "outputs": [
    {
     "data": {
      "text/plain": "        2016    2017    2018    2019    2020    2021       geo      iccs\n0      0.56     0.70    0.83    0.84    0.61    0.66   Austria  ICCS0101\n1      1.55     1.74    1.68    1.27    1.26    1.26   Belgium  ICCS0101\n2      1.10     1.34    1.30    1.14    0.95    1.27  Bulgaria  ICCS0101\n3      1.30     0.82    1.62    1.48    1.69    1.56    Cyprus  ICCS0101\n4      0.62     0.38    0.52    0.76    0.53    0.43   Czechia  ICCS0101\n..       ...     ...     ...     ...     ...     ...       ...       ...\n103    1.47     1.71    1.61    1.65    1.50    2.06  Portugal  ICCS0703\n104    7.09    27.67   22.42   21.07   17.66   20.92   Romania  ICCS0703\n105  213.55   211.05  207.81  201.53  191.63  205.03    Sweden  ICCS0703\n106   56.15    47.00   10.31   10.52   14.89   11.38  Slovenia  ICCS0703\n107    1.94     3.07    2.77    2.50    2.40    3.41  Slovakia  ICCS0703\n\n[108 rows x 8 columns]",
      "text/html": "<div>\n<style scoped>\n    .dataframe tbody tr th:only-of-type {\n        vertical-align: middle;\n    }\n\n    .dataframe tbody tr th {\n        vertical-align: top;\n    }\n\n    .dataframe thead th {\n        text-align: right;\n    }\n</style>\n<table border=\"1\" class=\"dataframe\">\n  <thead>\n    <tr style=\"text-align: right;\">\n      <th></th>\n      <th>2016</th>\n      <th>2017</th>\n      <th>2018</th>\n      <th>2019</th>\n      <th>2020</th>\n      <th>2021</th>\n      <th>geo</th>\n      <th>iccs</th>\n    </tr>\n  </thead>\n  <tbody>\n    <tr>\n      <th>0</th>\n      <td>0.56</td>\n      <td>0.70</td>\n      <td>0.83</td>\n      <td>0.84</td>\n      <td>0.61</td>\n      <td>0.66</td>\n      <td>Austria</td>\n      <td>ICCS0101</td>\n    </tr>\n    <tr>\n      <th>1</th>\n      <td>1.55</td>\n      <td>1.74</td>\n      <td>1.68</td>\n      <td>1.27</td>\n      <td>1.26</td>\n      <td>1.26</td>\n      <td>Belgium</td>\n      <td>ICCS0101</td>\n    </tr>\n    <tr>\n      <th>2</th>\n      <td>1.10</td>\n      <td>1.34</td>\n      <td>1.30</td>\n      <td>1.14</td>\n      <td>0.95</td>\n      <td>1.27</td>\n      <td>Bulgaria</td>\n      <td>ICCS0101</td>\n    </tr>\n    <tr>\n      <th>3</th>\n      <td>1.30</td>\n      <td>0.82</td>\n      <td>1.62</td>\n      <td>1.48</td>\n      <td>1.69</td>\n      <td>1.56</td>\n      <td>Cyprus</td>\n      <td>ICCS0101</td>\n    </tr>\n    <tr>\n      <th>4</th>\n      <td>0.62</td>\n      <td>0.38</td>\n      <td>0.52</td>\n      <td>0.76</td>\n      <td>0.53</td>\n      <td>0.43</td>\n      <td>Czechia</td>\n      <td>ICCS0101</td>\n    </tr>\n    <tr>\n      <th>...</th>\n      <td>...</td>\n      <td>...</td>\n      <td>...</td>\n      <td>...</td>\n      <td>...</td>\n      <td>...</td>\n      <td>...</td>\n      <td>...</td>\n    </tr>\n    <tr>\n      <th>103</th>\n      <td>1.47</td>\n      <td>1.71</td>\n      <td>1.61</td>\n      <td>1.65</td>\n      <td>1.50</td>\n      <td>2.06</td>\n      <td>Portugal</td>\n      <td>ICCS0703</td>\n    </tr>\n    <tr>\n      <th>104</th>\n      <td>7.09</td>\n      <td>27.67</td>\n      <td>22.42</td>\n      <td>21.07</td>\n      <td>17.66</td>\n      <td>20.92</td>\n      <td>Romania</td>\n      <td>ICCS0703</td>\n    </tr>\n    <tr>\n      <th>105</th>\n      <td>213.55</td>\n      <td>211.05</td>\n      <td>207.81</td>\n      <td>201.53</td>\n      <td>191.63</td>\n      <td>205.03</td>\n      <td>Sweden</td>\n      <td>ICCS0703</td>\n    </tr>\n    <tr>\n      <th>106</th>\n      <td>56.15</td>\n      <td>47.00</td>\n      <td>10.31</td>\n      <td>10.52</td>\n      <td>14.89</td>\n      <td>11.38</td>\n      <td>Slovenia</td>\n      <td>ICCS0703</td>\n    </tr>\n    <tr>\n      <th>107</th>\n      <td>1.94</td>\n      <td>3.07</td>\n      <td>2.77</td>\n      <td>2.50</td>\n      <td>2.40</td>\n      <td>3.41</td>\n      <td>Slovakia</td>\n      <td>ICCS0703</td>\n    </tr>\n  </tbody>\n</table>\n<p>108 rows × 8 columns</p>\n</div>"
     },
     "metadata": {},
     "output_type": "display_data"
    }
   ],
   "source": [
    "# Rename rows with the name of the country\n",
    "geo_dict = {\n",
    "    \"BE\": \"Belgium\",\n",
    "    \"BG\": \"Bulgaria\",\n",
    "    \"CZ\": \"Czechia\",\n",
    "    \"DK\": \"Denmark\",\n",
    "    \"DE\": \"Germany\",\n",
    "    \"EE\": \"Estonia\",\n",
    "    \"IE\": \"Ireland\",\n",
    "    \"EL\": \"Greece\",\n",
    "    \"ES\": \"Spain\",\n",
    "    \"FR\": \"France\",\n",
    "    \"HR\": \"Croatia\",\n",
    "    \"IT\": \"Italy\",\n",
    "    \"CY\": \"Cyprus\",\n",
    "    \"LV\": \"Latvia\",\n",
    "    \"LT\": \"Lithuania\",\n",
    "    \"LU\": \"Luxembourg\",\n",
    "    \"HU\": \"Hungary\",\n",
    "    \"MT\": \"Malta\",\n",
    "    \"NL\": \"Netherlands\",\n",
    "    \"AT\": \"Austria\",\n",
    "    \"PL\": \"Poland\",\n",
    "    \"PT\": \"Portugal\",\n",
    "    \"RO\": \"Romania\",\n",
    "    \"SI\": \"Slovenia\",\n",
    "    \"SK\": \"Slovakia\",\n",
    "    \"FI\": \"Finland\",\n",
    "    \"SE\": \"Sweden\",\n",
    "}\n",
    "\n",
    "df[\"geo\"] = df[\"geo\"].map(geo_dict)\n",
    "\n",
    "# df = df.melt(id_vars=[\"geo\", \"iccs\"], var_name=\"year\", value_name=\"value\")\n",
    "display(df)"
   ],
   "metadata": {
    "collapsed": false,
    "ExecuteTime": {
     "end_time": "2023-10-23T14:16:43.691585600Z",
     "start_time": "2023-10-23T14:16:43.526131400Z"
    }
   },
   "id": "666b1e5b80d20231"
  },
  {
   "cell_type": "code",
   "execution_count": 70,
   "outputs": [],
   "source": [],
   "metadata": {
    "collapsed": false,
    "ExecuteTime": {
     "end_time": "2023-10-23T14:16:43.691585600Z",
     "start_time": "2023-10-23T14:16:43.546883200Z"
    }
   },
   "id": "23d70f1f0cfadd35"
  },
  {
   "cell_type": "markdown",
   "source": [
    "### Legenda\n",
    "ICCS = International Classification of crime for statistical purposes\n",
    "Geo = Geopolitical entity \n",
    "Unit = Unit of measure (Per 100 000 inhabitants)\n",
    "Freq = Time frequency (A = Annual)\n",
    "\n",
    "Nel dataset sono presenti record per 20 tipi di crimini diversi, purtroppo per alcuni crimini i dati erano incompleti, mancanti o completamente non presenti per alcuni paesi. \n",
    "Per questo motivo sono stati selezionati solo alcuni tipi di crimini per ogni paese:\n",
    "- Intentional Homicide\n",
    "- Sexual Violence\n",
    "- Theft\n",
    "- Corruption (Alcuni valori sono stati interpolati linearmente)\n",
    "\n",
    "I dati sono forniti per ogni paese dell'Unione Europea, per ogni anno dal 2016 al 2021."
   ],
   "metadata": {
    "collapsed": false
   },
   "id": "fc3ee35e529c5dcf"
  },
  {
   "cell_type": "code",
   "execution_count": 71,
   "outputs": [],
   "source": [
    "# Estrapolazione dei dati riguardo i crimini di interesse\n",
    "\n",
    "# Intentional homicide\n",
    "homicide_df = df[df[\"iccs\"] == \"ICCS0101\"].drop(columns=[\"iccs\"])\n",
    "homicide_df.applymap(lambda x: pd.to_numeric(x, errors='coerce'))\n",
    "homicide_df = homicide_df.melt(id_vars=[\"geo\"], var_name=\"year\", value_name=\"homicides\")\n",
    "\n",
    "# Sexual violence\n",
    "sexual_violence_df = df[df[\"iccs\"] == \"ICCS0301\"].drop(columns=[\"iccs\"])\n",
    "sexual_violence_df.applymap(lambda x: pd.to_numeric(x, errors='coerce'))\n",
    "sexual_violence_df = sexual_violence_df.melt(id_vars=[\"geo\"], var_name=\"year\", value_name=\"sexual_violence\")\n",
    "\n",
    "# Theft\n",
    "theft_df = df[df[\"iccs\"] == \"ICCS0502\"].drop(columns=[\"iccs\"])\n",
    "theft_df.applymap(lambda x: pd.to_numeric(x, errors='coerce'))\n",
    "theft_df = theft_df.melt(id_vars=[\"geo\"], var_name=\"year\", value_name=\"theft\")\n",
    "\n",
    "# Corruption\n",
    "corruption_df = df[df[\"iccs\"] == \"ICCS0703\"].drop(columns=[\"iccs\"])\n",
    "corruption_df.applymap(lambda x: pd.to_numeric(x, errors='coerce'))\n",
    "corruption_df = corruption_df.melt(id_vars=[\"geo\"], var_name=\"year\", value_name=\"corruption\")"
   ],
   "metadata": {
    "collapsed": false,
    "ExecuteTime": {
     "end_time": "2023-10-23T14:16:43.713399200Z",
     "start_time": "2023-10-23T14:16:43.549382600Z"
    }
   },
   "id": "a440f241a50a13ce"
  },
  {
   "cell_type": "code",
   "execution_count": 72,
   "outputs": [],
   "source": [
    "# Interpolate linearly the data with type b (break in the series)\n",
    "# 1) Sostituisce i valori contententi la stringa 'b' con None\n",
    "# 2) Interpola linearmente i valori None\n",
    "# 3) Resetta l'indice\n",
    "def clean_interpolate(df, index):\n",
    "    df.set_index(index, inplace=True)\n",
    "    df = df.applymap(lambda x: pd.to_numeric(x, errors='coerce'))\n",
    "    df = df.applymap(lambda x: None if 'b' in str(x) else x)\n",
    "    df = df.interpolate(method='linear', axis=1, limit_direction='both')\n",
    "    df.reset_index(inplace=True)\n",
    "    return df\n",
    "\n",
    "\n",
    "# Convert the data to the format: per 100.000 inhabitants\n",
    "def convert_to_ht(population_df, df):\n",
    "    population_df.set_index(\"geo\", inplace=True)\n",
    "    df.set_index(\"geo\", inplace=True)\n",
    "\n",
    "    df = df.div(100)\n",
    "    df = df.mul(population_df, axis=0) / 100000\n",
    "\n",
    "    df.reset_index(inplace=True)\n",
    "    population_df.reset_index(inplace=True)\n",
    "\n",
    "    return df"
   ],
   "metadata": {
    "collapsed": false,
    "ExecuteTime": {
     "end_time": "2023-10-23T14:16:43.713399200Z",
     "start_time": "2023-10-23T14:16:43.572719200Z"
    }
   },
   "id": "3064c72f9c67c1d2"
  },
  {
   "cell_type": "markdown",
   "source": [
    "### Dataset popolazione\n",
    "[Population on 1 January](https://ec.europa.eu/eurostat/databrowser/view/tps00001__custom_7848350/default/table?lang=en)\n",
    "Nel presente dataset sono contenute le registrazioni della popolazione totale di ciascun paese dell'Unione Europea al 1° gennaio di ciascun anno. \n",
    "Tale dataset è stato impiegato per standardizzare i dati di tutti gli altri dataset in cui i valori erano espressi come percentuale rispetto alla popolazione totale, \n",
    "normalizzandoli al formato di 'ogni 100.000 abitanti', come i dati relativi ai crimini.\n",
    "\n",
    "- Time: 2016-2021\n",
    "\n",
    "### Flags\n",
    "- b: break in time series\n",
    "- ep: estimated, provisional\n",
    "- p: provisional\n",
    "- e: estimated"
   ],
   "metadata": {
    "collapsed": false
   },
   "id": "ba35da8dc636c7c8"
  },
  {
   "cell_type": "code",
   "execution_count": 73,
   "outputs": [],
   "source": [
    "population_df = pandas.read_table('data/population/tps00001.tsv')"
   ],
   "metadata": {
    "collapsed": false,
    "ExecuteTime": {
     "end_time": "2023-10-23T14:16:43.713399200Z",
     "start_time": "2023-10-23T14:16:43.582477300Z"
    }
   },
   "id": "ea170f3008092e73"
  },
  {
   "cell_type": "code",
   "execution_count": 74,
   "outputs": [
    {
     "data": {
      "text/plain": "            geo        2016        2017        2018        2019        2020   \n0       Austria   8700471.0   8772865.0   8822267.0   8858775.0   8901064.0  \\\n1       Belgium  11311117.0  11351727.0  11398589.0  11455519.0  11522440.0   \n2      Bulgaria   7153784.0   7101859.0   7050034.0   7000039.0   6951482.0   \n3        Cyprus    848319.0    854802.0    864236.0    875899.0    888005.0   \n4       Czechia  10553843.0  10578820.0  10610055.0  10649800.0  10693939.0   \n5       Germany  82175684.0  82521653.0  82792351.0  83019213.0  83166711.0   \n6       Denmark   5707251.0   5748769.0   5781190.0   5806081.0   5822763.0   \n7       Estonia   1315944.0   1315635.0   1319133.0   1324820.0   1328976.0   \n8        Greece  10783748.0  10768193.0  10741165.0  10724599.0  10718565.0   \n9         Spain  46440099.0  46528024.0  46658447.0  46937060.0  47332614.0   \n10      Finland   5487308.0   5503297.0   5513130.0   5517919.0   5525292.0   \n11       France  66638391.0  66809816.0  67026224.0  67290471.0  67485531.0   \n12      Croatia   4190669.0   4154213.0   4105493.0   4076246.0   4058165.0   \n13      Hungary   9830485.0   9797561.0   9778371.0   9772756.0   9769526.0   \n14      Ireland   4726286.0   4784383.0   4830392.0   4897416.0   4964440.0   \n15        Italy  60665551.0  60589445.0  60483973.0  60062730.5  59641488.0   \n16    Lithuania   2888558.0   2847904.0   2808901.0   2794184.0   2794090.0   \n17   Luxembourg    576249.0    589127.0    602005.0    613894.0    626108.0   \n18       Latvia   1968957.0   1950116.0   1934379.0   1919968.0   1907675.0   \n19        Malta    450415.0    460297.0    475701.0    493559.0    514564.0   \n20  Netherlands  16979120.0  17081507.0  17181084.0  17282163.0  17407585.0   \n21       Poland  37967209.0  37972964.0  37972888.0  37972812.0  37972812.0   \n22     Portugal  10341330.0  10309573.0  10291027.0  10276617.0  10295909.0   \n23      Romania  19760585.0  19643949.0  19533481.0  19414458.0  19308060.0   \n24       Sweden   9851017.0   9995153.0  10120242.0  10230185.0  10327589.0   \n25     Slovenia   2064188.0   2065895.0   2066880.0   2080908.0   2095861.0   \n26     Slovakia   5426252.0   5435343.0   5443120.0   5450421.0   5457873.0   \n\n          2021  \n0    8932664.0  \n1   11554767.0  \n2    6916548.0  \n3     896007.0  \n4   10693939.0  \n5   83155031.0  \n6    5840045.0  \n7    1330068.0  \n8   10678632.0  \n9   47398695.0  \n10   5533793.0  \n11  67485531.0  \n12   4036355.0  \n13   9730772.0  \n14   5006324.0  \n15  59236213.0  \n16   2795680.0  \n17    634730.0  \n18   1893223.0  \n19    516100.0  \n20  17475415.0  \n21  37972812.0  \n22  10298252.0  \n23  19201662.0  \n24  10379295.0  \n25   2108977.0  \n26   5459781.0  ",
      "text/html": "<div>\n<style scoped>\n    .dataframe tbody tr th:only-of-type {\n        vertical-align: middle;\n    }\n\n    .dataframe tbody tr th {\n        vertical-align: top;\n    }\n\n    .dataframe thead th {\n        text-align: right;\n    }\n</style>\n<table border=\"1\" class=\"dataframe\">\n  <thead>\n    <tr style=\"text-align: right;\">\n      <th></th>\n      <th>geo</th>\n      <th>2016</th>\n      <th>2017</th>\n      <th>2018</th>\n      <th>2019</th>\n      <th>2020</th>\n      <th>2021</th>\n    </tr>\n  </thead>\n  <tbody>\n    <tr>\n      <th>0</th>\n      <td>Austria</td>\n      <td>8700471.0</td>\n      <td>8772865.0</td>\n      <td>8822267.0</td>\n      <td>8858775.0</td>\n      <td>8901064.0</td>\n      <td>8932664.0</td>\n    </tr>\n    <tr>\n      <th>1</th>\n      <td>Belgium</td>\n      <td>11311117.0</td>\n      <td>11351727.0</td>\n      <td>11398589.0</td>\n      <td>11455519.0</td>\n      <td>11522440.0</td>\n      <td>11554767.0</td>\n    </tr>\n    <tr>\n      <th>2</th>\n      <td>Bulgaria</td>\n      <td>7153784.0</td>\n      <td>7101859.0</td>\n      <td>7050034.0</td>\n      <td>7000039.0</td>\n      <td>6951482.0</td>\n      <td>6916548.0</td>\n    </tr>\n    <tr>\n      <th>3</th>\n      <td>Cyprus</td>\n      <td>848319.0</td>\n      <td>854802.0</td>\n      <td>864236.0</td>\n      <td>875899.0</td>\n      <td>888005.0</td>\n      <td>896007.0</td>\n    </tr>\n    <tr>\n      <th>4</th>\n      <td>Czechia</td>\n      <td>10553843.0</td>\n      <td>10578820.0</td>\n      <td>10610055.0</td>\n      <td>10649800.0</td>\n      <td>10693939.0</td>\n      <td>10693939.0</td>\n    </tr>\n    <tr>\n      <th>5</th>\n      <td>Germany</td>\n      <td>82175684.0</td>\n      <td>82521653.0</td>\n      <td>82792351.0</td>\n      <td>83019213.0</td>\n      <td>83166711.0</td>\n      <td>83155031.0</td>\n    </tr>\n    <tr>\n      <th>6</th>\n      <td>Denmark</td>\n      <td>5707251.0</td>\n      <td>5748769.0</td>\n      <td>5781190.0</td>\n      <td>5806081.0</td>\n      <td>5822763.0</td>\n      <td>5840045.0</td>\n    </tr>\n    <tr>\n      <th>7</th>\n      <td>Estonia</td>\n      <td>1315944.0</td>\n      <td>1315635.0</td>\n      <td>1319133.0</td>\n      <td>1324820.0</td>\n      <td>1328976.0</td>\n      <td>1330068.0</td>\n    </tr>\n    <tr>\n      <th>8</th>\n      <td>Greece</td>\n      <td>10783748.0</td>\n      <td>10768193.0</td>\n      <td>10741165.0</td>\n      <td>10724599.0</td>\n      <td>10718565.0</td>\n      <td>10678632.0</td>\n    </tr>\n    <tr>\n      <th>9</th>\n      <td>Spain</td>\n      <td>46440099.0</td>\n      <td>46528024.0</td>\n      <td>46658447.0</td>\n      <td>46937060.0</td>\n      <td>47332614.0</td>\n      <td>47398695.0</td>\n    </tr>\n    <tr>\n      <th>10</th>\n      <td>Finland</td>\n      <td>5487308.0</td>\n      <td>5503297.0</td>\n      <td>5513130.0</td>\n      <td>5517919.0</td>\n      <td>5525292.0</td>\n      <td>5533793.0</td>\n    </tr>\n    <tr>\n      <th>11</th>\n      <td>France</td>\n      <td>66638391.0</td>\n      <td>66809816.0</td>\n      <td>67026224.0</td>\n      <td>67290471.0</td>\n      <td>67485531.0</td>\n      <td>67485531.0</td>\n    </tr>\n    <tr>\n      <th>12</th>\n      <td>Croatia</td>\n      <td>4190669.0</td>\n      <td>4154213.0</td>\n      <td>4105493.0</td>\n      <td>4076246.0</td>\n      <td>4058165.0</td>\n      <td>4036355.0</td>\n    </tr>\n    <tr>\n      <th>13</th>\n      <td>Hungary</td>\n      <td>9830485.0</td>\n      <td>9797561.0</td>\n      <td>9778371.0</td>\n      <td>9772756.0</td>\n      <td>9769526.0</td>\n      <td>9730772.0</td>\n    </tr>\n    <tr>\n      <th>14</th>\n      <td>Ireland</td>\n      <td>4726286.0</td>\n      <td>4784383.0</td>\n      <td>4830392.0</td>\n      <td>4897416.0</td>\n      <td>4964440.0</td>\n      <td>5006324.0</td>\n    </tr>\n    <tr>\n      <th>15</th>\n      <td>Italy</td>\n      <td>60665551.0</td>\n      <td>60589445.0</td>\n      <td>60483973.0</td>\n      <td>60062730.5</td>\n      <td>59641488.0</td>\n      <td>59236213.0</td>\n    </tr>\n    <tr>\n      <th>16</th>\n      <td>Lithuania</td>\n      <td>2888558.0</td>\n      <td>2847904.0</td>\n      <td>2808901.0</td>\n      <td>2794184.0</td>\n      <td>2794090.0</td>\n      <td>2795680.0</td>\n    </tr>\n    <tr>\n      <th>17</th>\n      <td>Luxembourg</td>\n      <td>576249.0</td>\n      <td>589127.0</td>\n      <td>602005.0</td>\n      <td>613894.0</td>\n      <td>626108.0</td>\n      <td>634730.0</td>\n    </tr>\n    <tr>\n      <th>18</th>\n      <td>Latvia</td>\n      <td>1968957.0</td>\n      <td>1950116.0</td>\n      <td>1934379.0</td>\n      <td>1919968.0</td>\n      <td>1907675.0</td>\n      <td>1893223.0</td>\n    </tr>\n    <tr>\n      <th>19</th>\n      <td>Malta</td>\n      <td>450415.0</td>\n      <td>460297.0</td>\n      <td>475701.0</td>\n      <td>493559.0</td>\n      <td>514564.0</td>\n      <td>516100.0</td>\n    </tr>\n    <tr>\n      <th>20</th>\n      <td>Netherlands</td>\n      <td>16979120.0</td>\n      <td>17081507.0</td>\n      <td>17181084.0</td>\n      <td>17282163.0</td>\n      <td>17407585.0</td>\n      <td>17475415.0</td>\n    </tr>\n    <tr>\n      <th>21</th>\n      <td>Poland</td>\n      <td>37967209.0</td>\n      <td>37972964.0</td>\n      <td>37972888.0</td>\n      <td>37972812.0</td>\n      <td>37972812.0</td>\n      <td>37972812.0</td>\n    </tr>\n    <tr>\n      <th>22</th>\n      <td>Portugal</td>\n      <td>10341330.0</td>\n      <td>10309573.0</td>\n      <td>10291027.0</td>\n      <td>10276617.0</td>\n      <td>10295909.0</td>\n      <td>10298252.0</td>\n    </tr>\n    <tr>\n      <th>23</th>\n      <td>Romania</td>\n      <td>19760585.0</td>\n      <td>19643949.0</td>\n      <td>19533481.0</td>\n      <td>19414458.0</td>\n      <td>19308060.0</td>\n      <td>19201662.0</td>\n    </tr>\n    <tr>\n      <th>24</th>\n      <td>Sweden</td>\n      <td>9851017.0</td>\n      <td>9995153.0</td>\n      <td>10120242.0</td>\n      <td>10230185.0</td>\n      <td>10327589.0</td>\n      <td>10379295.0</td>\n    </tr>\n    <tr>\n      <th>25</th>\n      <td>Slovenia</td>\n      <td>2064188.0</td>\n      <td>2065895.0</td>\n      <td>2066880.0</td>\n      <td>2080908.0</td>\n      <td>2095861.0</td>\n      <td>2108977.0</td>\n    </tr>\n    <tr>\n      <th>26</th>\n      <td>Slovakia</td>\n      <td>5426252.0</td>\n      <td>5435343.0</td>\n      <td>5443120.0</td>\n      <td>5450421.0</td>\n      <td>5457873.0</td>\n      <td>5459781.0</td>\n    </tr>\n  </tbody>\n</table>\n</div>"
     },
     "metadata": {},
     "output_type": "display_data"
    }
   ],
   "source": [
    "split = population_df[\"freq,indic_de,geo\\\\TIME_PERIOD\"].str.split(\",\", expand=True)\n",
    "split.drop(columns=[0, 1], inplace=True)\n",
    "split.columns = [\"geo\"]\n",
    "\n",
    "population_df = pd.concat([population_df, split], axis=1)\n",
    "population_df.drop(columns=[\"freq,indic_de,geo\\\\TIME_PERIOD\"], axis=1, inplace=True)\n",
    "population_df.rename(columns=lambda x: x.strip(), inplace=True)\n",
    "population_df[\"geo\"] = population_df[\"geo\"].map(geo_dict)\n",
    "\n",
    "# Clean and interpolate the data\n",
    "population_df = clean_interpolate(population_df, \"geo\")\n",
    "display(population_df)"
   ],
   "metadata": {
    "collapsed": false,
    "ExecuteTime": {
     "end_time": "2023-10-23T14:16:43.723372700Z",
     "start_time": "2023-10-23T14:16:43.593084500Z"
    }
   },
   "id": "8f56f00533a302bb"
  },
  {
   "cell_type": "markdown",
   "source": [
    "----- Da rivedere -----\n",
    "Interpolazione per i dati con parametro p, \n",
    "Cosa fare invece quando si hanno dati con flag?\n",
    "- e: estimated\n",
    "- p: provisional\n",
    "- ep: estimated, provisional\n",
    "Continuare con l'interpolazione?\n",
    "\n",
    "----- Da rivedere -----"
   ],
   "metadata": {
    "collapsed": false
   },
   "id": "671e859dbf267dbc"
  },
  {
   "cell_type": "markdown",
   "source": [
    "### Altro dataset: Persone a rischio di povertà o esclusione sociale\n",
    "[People at rick of poverty or social exclusion](https://ec.europa.eu/eurostat/databrowser/view/sdg_01_10__custom_7836001/default/table?lang=en)\n",
    "\n",
    "- Age: Less than 18 years\n",
    "- Time: 2016-2021\n",
    "- Sex: Total\n",
    "- Unit:  percentage "
   ],
   "metadata": {
    "collapsed": false
   },
   "id": "f550fdbf1b4096db"
  },
  {
   "cell_type": "code",
   "execution_count": 75,
   "outputs": [
    {
     "data": {
      "text/plain": "   freq,sex,age,unit,geo\\TIME_PERIOD   2016   2017   2018    2019    2020    \n0                   A,T,Y_LT18,PC,AT   20.5    22.7   21.6   20.1    21.9   \\\n1                   A,T,Y_LT18,PC,BE   23.5    24.2   23.5  23.0 b   22.0    \n2                   A,T,Y_LT18,PC,BG  47.3 b   42.4   33.5   35.8    35.5    \n3                   A,T,Y_LT18,PC,CY   23.2    21.7   20.5   20.3    19.0    \n4                   A,T,Y_LT18,PC,CZ   16.4    14.3   13.0   13.0    12.9    \n5                   A,T,Y_LT18,PC,DE   20.6    18.6   17.5   15.4   22.3 b   \n6                   A,T,Y_LT18,PC,DK   14.0    15.1   15.4   13.8   13.4 b   \n7                   A,T,Y_LT18,PC,EE   19.7    18.8   17.0   19.7    17.4    \n8                   A,T,Y_LT18,PC,EL   37.2    36.5   34.1   31.2    30.8    \n9                   A,T,Y_LT18,PC,ES   33.7    31.9   30.5   31.0    31.6    \n10                  A,T,Y_LT18,PC,FI   14.1    15.0   15.9  13.8 b   14.5    \n11                  A,T,Y_LT18,PC,FR   23.8    23.5   24.0   24.1   23.9 b   \n12                  A,T,Y_LT18,PC,HR   24.4    24.5   22.2   19.1    18.4    \n13                  A,T,Y_LT18,PC,HU   38.6    33.5   26.4   24.1    21.7    \n14                  A,T,Y_LT18,PC,IE   26.8    26.0   24.7   23.9   23.5 b   \n15                  A,T,Y_LT18,PC,IT   32.7    30.8   29.6   27.1    28.9    \n16                  A,T,Y_LT18,PC,LT   33.2    31.3   28.8   25.8    23.1    \n17                  A,T,Y_LT18,PC,LU  22.2 b   21.5   23.4   25.4   24.2 b   \n18                  A,T,Y_LT18,PC,LV   25.9    25.0   23.6   18.7    19.7    \n19                  A,T,Y_LT18,PC,MT   23.7    23.6   23.3   23.7    22.3    \n20                  A,T,Y_LT18,PC,NL  17.2 b   16.4   15.1   15.4    15.8    \n21                  A,T,Y_LT18,PC,PL   23.5    17.8   16.9   16.2    16.1    \n22                  A,T,Y_LT18,PC,PT   27.5    24.6   22.4   21.9    21.9    \n23                  A,T,Y_LT18,PC,RO   56.0    48.7   44.2   39.1    40.7    \n24                  A,T,Y_LT18,PC,SE   19.7    19.4   20.5   23.0    20.2    \n25                  A,T,Y_LT18,PC,SI   14.5    15.6   13.1   11.6    12.1    \n26                  A,T,Y_LT18,PC,SK   24.5    22.7   23.3   21.0    18.4    \n\n     2021   \n0    22.8   \n1    20.5   \n2    33.0   \n3    19.2   \n4    13.3   \n5    23.7   \n6    14.0   \n7    17.4   \n8    32.0   \n9    33.4   \n10   13.2   \n11   22.8   \n12   18.6   \n13   23.3   \n14   22.8   \n15   29.7   \n16   21.6   \n17  29.4 b  \n18   20.1   \n19   23.2   \n20   14.9   \n21   16.5   \n22   22.9   \n23   41.7   \n24   19.7   \n25   11.0   \n26   19.7   ",
      "text/html": "<div>\n<style scoped>\n    .dataframe tbody tr th:only-of-type {\n        vertical-align: middle;\n    }\n\n    .dataframe tbody tr th {\n        vertical-align: top;\n    }\n\n    .dataframe thead th {\n        text-align: right;\n    }\n</style>\n<table border=\"1\" class=\"dataframe\">\n  <thead>\n    <tr style=\"text-align: right;\">\n      <th></th>\n      <th>freq,sex,age,unit,geo\\TIME_PERIOD</th>\n      <th>2016</th>\n      <th>2017</th>\n      <th>2018</th>\n      <th>2019</th>\n      <th>2020</th>\n      <th>2021</th>\n    </tr>\n  </thead>\n  <tbody>\n    <tr>\n      <th>0</th>\n      <td>A,T,Y_LT18,PC,AT</td>\n      <td>20.5</td>\n      <td>22.7</td>\n      <td>21.6</td>\n      <td>20.1</td>\n      <td>21.9</td>\n      <td>22.8</td>\n    </tr>\n    <tr>\n      <th>1</th>\n      <td>A,T,Y_LT18,PC,BE</td>\n      <td>23.5</td>\n      <td>24.2</td>\n      <td>23.5</td>\n      <td>23.0 b</td>\n      <td>22.0</td>\n      <td>20.5</td>\n    </tr>\n    <tr>\n      <th>2</th>\n      <td>A,T,Y_LT18,PC,BG</td>\n      <td>47.3 b</td>\n      <td>42.4</td>\n      <td>33.5</td>\n      <td>35.8</td>\n      <td>35.5</td>\n      <td>33.0</td>\n    </tr>\n    <tr>\n      <th>3</th>\n      <td>A,T,Y_LT18,PC,CY</td>\n      <td>23.2</td>\n      <td>21.7</td>\n      <td>20.5</td>\n      <td>20.3</td>\n      <td>19.0</td>\n      <td>19.2</td>\n    </tr>\n    <tr>\n      <th>4</th>\n      <td>A,T,Y_LT18,PC,CZ</td>\n      <td>16.4</td>\n      <td>14.3</td>\n      <td>13.0</td>\n      <td>13.0</td>\n      <td>12.9</td>\n      <td>13.3</td>\n    </tr>\n    <tr>\n      <th>5</th>\n      <td>A,T,Y_LT18,PC,DE</td>\n      <td>20.6</td>\n      <td>18.6</td>\n      <td>17.5</td>\n      <td>15.4</td>\n      <td>22.3 b</td>\n      <td>23.7</td>\n    </tr>\n    <tr>\n      <th>6</th>\n      <td>A,T,Y_LT18,PC,DK</td>\n      <td>14.0</td>\n      <td>15.1</td>\n      <td>15.4</td>\n      <td>13.8</td>\n      <td>13.4 b</td>\n      <td>14.0</td>\n    </tr>\n    <tr>\n      <th>7</th>\n      <td>A,T,Y_LT18,PC,EE</td>\n      <td>19.7</td>\n      <td>18.8</td>\n      <td>17.0</td>\n      <td>19.7</td>\n      <td>17.4</td>\n      <td>17.4</td>\n    </tr>\n    <tr>\n      <th>8</th>\n      <td>A,T,Y_LT18,PC,EL</td>\n      <td>37.2</td>\n      <td>36.5</td>\n      <td>34.1</td>\n      <td>31.2</td>\n      <td>30.8</td>\n      <td>32.0</td>\n    </tr>\n    <tr>\n      <th>9</th>\n      <td>A,T,Y_LT18,PC,ES</td>\n      <td>33.7</td>\n      <td>31.9</td>\n      <td>30.5</td>\n      <td>31.0</td>\n      <td>31.6</td>\n      <td>33.4</td>\n    </tr>\n    <tr>\n      <th>10</th>\n      <td>A,T,Y_LT18,PC,FI</td>\n      <td>14.1</td>\n      <td>15.0</td>\n      <td>15.9</td>\n      <td>13.8 b</td>\n      <td>14.5</td>\n      <td>13.2</td>\n    </tr>\n    <tr>\n      <th>11</th>\n      <td>A,T,Y_LT18,PC,FR</td>\n      <td>23.8</td>\n      <td>23.5</td>\n      <td>24.0</td>\n      <td>24.1</td>\n      <td>23.9 b</td>\n      <td>22.8</td>\n    </tr>\n    <tr>\n      <th>12</th>\n      <td>A,T,Y_LT18,PC,HR</td>\n      <td>24.4</td>\n      <td>24.5</td>\n      <td>22.2</td>\n      <td>19.1</td>\n      <td>18.4</td>\n      <td>18.6</td>\n    </tr>\n    <tr>\n      <th>13</th>\n      <td>A,T,Y_LT18,PC,HU</td>\n      <td>38.6</td>\n      <td>33.5</td>\n      <td>26.4</td>\n      <td>24.1</td>\n      <td>21.7</td>\n      <td>23.3</td>\n    </tr>\n    <tr>\n      <th>14</th>\n      <td>A,T,Y_LT18,PC,IE</td>\n      <td>26.8</td>\n      <td>26.0</td>\n      <td>24.7</td>\n      <td>23.9</td>\n      <td>23.5 b</td>\n      <td>22.8</td>\n    </tr>\n    <tr>\n      <th>15</th>\n      <td>A,T,Y_LT18,PC,IT</td>\n      <td>32.7</td>\n      <td>30.8</td>\n      <td>29.6</td>\n      <td>27.1</td>\n      <td>28.9</td>\n      <td>29.7</td>\n    </tr>\n    <tr>\n      <th>16</th>\n      <td>A,T,Y_LT18,PC,LT</td>\n      <td>33.2</td>\n      <td>31.3</td>\n      <td>28.8</td>\n      <td>25.8</td>\n      <td>23.1</td>\n      <td>21.6</td>\n    </tr>\n    <tr>\n      <th>17</th>\n      <td>A,T,Y_LT18,PC,LU</td>\n      <td>22.2 b</td>\n      <td>21.5</td>\n      <td>23.4</td>\n      <td>25.4</td>\n      <td>24.2 b</td>\n      <td>29.4 b</td>\n    </tr>\n    <tr>\n      <th>18</th>\n      <td>A,T,Y_LT18,PC,LV</td>\n      <td>25.9</td>\n      <td>25.0</td>\n      <td>23.6</td>\n      <td>18.7</td>\n      <td>19.7</td>\n      <td>20.1</td>\n    </tr>\n    <tr>\n      <th>19</th>\n      <td>A,T,Y_LT18,PC,MT</td>\n      <td>23.7</td>\n      <td>23.6</td>\n      <td>23.3</td>\n      <td>23.7</td>\n      <td>22.3</td>\n      <td>23.2</td>\n    </tr>\n    <tr>\n      <th>20</th>\n      <td>A,T,Y_LT18,PC,NL</td>\n      <td>17.2 b</td>\n      <td>16.4</td>\n      <td>15.1</td>\n      <td>15.4</td>\n      <td>15.8</td>\n      <td>14.9</td>\n    </tr>\n    <tr>\n      <th>21</th>\n      <td>A,T,Y_LT18,PC,PL</td>\n      <td>23.5</td>\n      <td>17.8</td>\n      <td>16.9</td>\n      <td>16.2</td>\n      <td>16.1</td>\n      <td>16.5</td>\n    </tr>\n    <tr>\n      <th>22</th>\n      <td>A,T,Y_LT18,PC,PT</td>\n      <td>27.5</td>\n      <td>24.6</td>\n      <td>22.4</td>\n      <td>21.9</td>\n      <td>21.9</td>\n      <td>22.9</td>\n    </tr>\n    <tr>\n      <th>23</th>\n      <td>A,T,Y_LT18,PC,RO</td>\n      <td>56.0</td>\n      <td>48.7</td>\n      <td>44.2</td>\n      <td>39.1</td>\n      <td>40.7</td>\n      <td>41.7</td>\n    </tr>\n    <tr>\n      <th>24</th>\n      <td>A,T,Y_LT18,PC,SE</td>\n      <td>19.7</td>\n      <td>19.4</td>\n      <td>20.5</td>\n      <td>23.0</td>\n      <td>20.2</td>\n      <td>19.7</td>\n    </tr>\n    <tr>\n      <th>25</th>\n      <td>A,T,Y_LT18,PC,SI</td>\n      <td>14.5</td>\n      <td>15.6</td>\n      <td>13.1</td>\n      <td>11.6</td>\n      <td>12.1</td>\n      <td>11.0</td>\n    </tr>\n    <tr>\n      <th>26</th>\n      <td>A,T,Y_LT18,PC,SK</td>\n      <td>24.5</td>\n      <td>22.7</td>\n      <td>23.3</td>\n      <td>21.0</td>\n      <td>18.4</td>\n      <td>19.7</td>\n    </tr>\n  </tbody>\n</table>\n</div>"
     },
     "metadata": {},
     "output_type": "display_data"
    }
   ],
   "source": [
    "poverty_df = pandas.read_table('data/sdg/sdg_01_10.tsv')\n",
    "display(poverty_df)"
   ],
   "metadata": {
    "collapsed": false,
    "ExecuteTime": {
     "end_time": "2023-10-23T14:16:43.723372700Z",
     "start_time": "2023-10-23T14:16:43.618016700Z"
    }
   },
   "id": "7b5ffdca0d4bd5c2"
  },
  {
   "cell_type": "code",
   "execution_count": 76,
   "outputs": [],
   "source": [
    "split = poverty_df[\"freq,sex,age,unit,geo\\\\TIME_PERIOD\"].str.split(\",\", expand=True)\n",
    "split.drop(columns=[0, 1, 2, 3], inplace=True)\n",
    "split.columns = [\"geo\"]\n",
    "\n",
    "poverty_df = pd.concat([poverty_df, split], axis=1)\n",
    "poverty_df.drop(columns=[\"freq,sex,age,unit,geo\\\\TIME_PERIOD\"], axis=1, inplace=True)\n",
    "poverty_df.rename(columns=lambda x: x.strip(), inplace=True)\n",
    "poverty_df[\"geo\"] = poverty_df[\"geo\"].map(geo_dict)"
   ],
   "metadata": {
    "collapsed": false,
    "ExecuteTime": {
     "end_time": "2023-10-23T14:16:43.724371Z",
     "start_time": "2023-10-23T14:16:43.629302700Z"
    }
   },
   "id": "4e75a4faf00e4154"
  },
  {
   "cell_type": "markdown",
   "source": [
    "Interopolazione lineare per i dati di tipo b (break in the series)"
   ],
   "metadata": {
    "collapsed": false
   },
   "id": "345c2cf464ff92e9"
  },
  {
   "cell_type": "code",
   "execution_count": 77,
   "outputs": [
    {
     "data": {
      "text/plain": "            geo  2016  2017  2018   2019   2020  2021\n0       Austria  20.5  22.7  21.6  20.10  21.90  22.8\n1       Belgium  23.5  24.2  23.5  22.75  22.00  20.5\n2      Bulgaria  42.4  42.4  33.5  35.80  35.50  33.0\n3        Cyprus  23.2  21.7  20.5  20.30  19.00  19.2\n4       Czechia  16.4  14.3  13.0  13.00  12.90  13.3\n5       Germany  20.6  18.6  17.5  15.40  19.55  23.7\n6       Denmark  14.0  15.1  15.4  13.80  13.90  14.0\n7       Estonia  19.7  18.8  17.0  19.70  17.40  17.4\n8        Greece  37.2  36.5  34.1  31.20  30.80  32.0\n9         Spain  33.7  31.9  30.5  31.00  31.60  33.4\n10      Finland  14.1  15.0  15.9  15.20  14.50  13.2\n11       France  23.8  23.5  24.0  24.10  23.45  22.8\n12      Croatia  24.4  24.5  22.2  19.10  18.40  18.6\n13      Hungary  38.6  33.5  26.4  24.10  21.70  23.3\n14      Ireland  26.8  26.0  24.7  23.90  23.35  22.8\n15        Italy  32.7  30.8  29.6  27.10  28.90  29.7\n16    Lithuania  33.2  31.3  28.8  25.80  23.10  21.6\n17   Luxembourg  21.5  21.5  23.4  25.40  25.40  25.4\n18       Latvia  25.9  25.0  23.6  18.70  19.70  20.1\n19        Malta  23.7  23.6  23.3  23.70  22.30  23.2\n20  Netherlands  16.4  16.4  15.1  15.40  15.80  14.9\n21       Poland  23.5  17.8  16.9  16.20  16.10  16.5\n22     Portugal  27.5  24.6  22.4  21.90  21.90  22.9\n23      Romania  56.0  48.7  44.2  39.10  40.70  41.7\n24       Sweden  19.7  19.4  20.5  23.00  20.20  19.7\n25     Slovenia  14.5  15.6  13.1  11.60  12.10  11.0\n26     Slovakia  24.5  22.7  23.3  21.00  18.40  19.7",
      "text/html": "<div>\n<style scoped>\n    .dataframe tbody tr th:only-of-type {\n        vertical-align: middle;\n    }\n\n    .dataframe tbody tr th {\n        vertical-align: top;\n    }\n\n    .dataframe thead th {\n        text-align: right;\n    }\n</style>\n<table border=\"1\" class=\"dataframe\">\n  <thead>\n    <tr style=\"text-align: right;\">\n      <th></th>\n      <th>geo</th>\n      <th>2016</th>\n      <th>2017</th>\n      <th>2018</th>\n      <th>2019</th>\n      <th>2020</th>\n      <th>2021</th>\n    </tr>\n  </thead>\n  <tbody>\n    <tr>\n      <th>0</th>\n      <td>Austria</td>\n      <td>20.5</td>\n      <td>22.7</td>\n      <td>21.6</td>\n      <td>20.10</td>\n      <td>21.90</td>\n      <td>22.8</td>\n    </tr>\n    <tr>\n      <th>1</th>\n      <td>Belgium</td>\n      <td>23.5</td>\n      <td>24.2</td>\n      <td>23.5</td>\n      <td>22.75</td>\n      <td>22.00</td>\n      <td>20.5</td>\n    </tr>\n    <tr>\n      <th>2</th>\n      <td>Bulgaria</td>\n      <td>42.4</td>\n      <td>42.4</td>\n      <td>33.5</td>\n      <td>35.80</td>\n      <td>35.50</td>\n      <td>33.0</td>\n    </tr>\n    <tr>\n      <th>3</th>\n      <td>Cyprus</td>\n      <td>23.2</td>\n      <td>21.7</td>\n      <td>20.5</td>\n      <td>20.30</td>\n      <td>19.00</td>\n      <td>19.2</td>\n    </tr>\n    <tr>\n      <th>4</th>\n      <td>Czechia</td>\n      <td>16.4</td>\n      <td>14.3</td>\n      <td>13.0</td>\n      <td>13.00</td>\n      <td>12.90</td>\n      <td>13.3</td>\n    </tr>\n    <tr>\n      <th>5</th>\n      <td>Germany</td>\n      <td>20.6</td>\n      <td>18.6</td>\n      <td>17.5</td>\n      <td>15.40</td>\n      <td>19.55</td>\n      <td>23.7</td>\n    </tr>\n    <tr>\n      <th>6</th>\n      <td>Denmark</td>\n      <td>14.0</td>\n      <td>15.1</td>\n      <td>15.4</td>\n      <td>13.80</td>\n      <td>13.90</td>\n      <td>14.0</td>\n    </tr>\n    <tr>\n      <th>7</th>\n      <td>Estonia</td>\n      <td>19.7</td>\n      <td>18.8</td>\n      <td>17.0</td>\n      <td>19.70</td>\n      <td>17.40</td>\n      <td>17.4</td>\n    </tr>\n    <tr>\n      <th>8</th>\n      <td>Greece</td>\n      <td>37.2</td>\n      <td>36.5</td>\n      <td>34.1</td>\n      <td>31.20</td>\n      <td>30.80</td>\n      <td>32.0</td>\n    </tr>\n    <tr>\n      <th>9</th>\n      <td>Spain</td>\n      <td>33.7</td>\n      <td>31.9</td>\n      <td>30.5</td>\n      <td>31.00</td>\n      <td>31.60</td>\n      <td>33.4</td>\n    </tr>\n    <tr>\n      <th>10</th>\n      <td>Finland</td>\n      <td>14.1</td>\n      <td>15.0</td>\n      <td>15.9</td>\n      <td>15.20</td>\n      <td>14.50</td>\n      <td>13.2</td>\n    </tr>\n    <tr>\n      <th>11</th>\n      <td>France</td>\n      <td>23.8</td>\n      <td>23.5</td>\n      <td>24.0</td>\n      <td>24.10</td>\n      <td>23.45</td>\n      <td>22.8</td>\n    </tr>\n    <tr>\n      <th>12</th>\n      <td>Croatia</td>\n      <td>24.4</td>\n      <td>24.5</td>\n      <td>22.2</td>\n      <td>19.10</td>\n      <td>18.40</td>\n      <td>18.6</td>\n    </tr>\n    <tr>\n      <th>13</th>\n      <td>Hungary</td>\n      <td>38.6</td>\n      <td>33.5</td>\n      <td>26.4</td>\n      <td>24.10</td>\n      <td>21.70</td>\n      <td>23.3</td>\n    </tr>\n    <tr>\n      <th>14</th>\n      <td>Ireland</td>\n      <td>26.8</td>\n      <td>26.0</td>\n      <td>24.7</td>\n      <td>23.90</td>\n      <td>23.35</td>\n      <td>22.8</td>\n    </tr>\n    <tr>\n      <th>15</th>\n      <td>Italy</td>\n      <td>32.7</td>\n      <td>30.8</td>\n      <td>29.6</td>\n      <td>27.10</td>\n      <td>28.90</td>\n      <td>29.7</td>\n    </tr>\n    <tr>\n      <th>16</th>\n      <td>Lithuania</td>\n      <td>33.2</td>\n      <td>31.3</td>\n      <td>28.8</td>\n      <td>25.80</td>\n      <td>23.10</td>\n      <td>21.6</td>\n    </tr>\n    <tr>\n      <th>17</th>\n      <td>Luxembourg</td>\n      <td>21.5</td>\n      <td>21.5</td>\n      <td>23.4</td>\n      <td>25.40</td>\n      <td>25.40</td>\n      <td>25.4</td>\n    </tr>\n    <tr>\n      <th>18</th>\n      <td>Latvia</td>\n      <td>25.9</td>\n      <td>25.0</td>\n      <td>23.6</td>\n      <td>18.70</td>\n      <td>19.70</td>\n      <td>20.1</td>\n    </tr>\n    <tr>\n      <th>19</th>\n      <td>Malta</td>\n      <td>23.7</td>\n      <td>23.6</td>\n      <td>23.3</td>\n      <td>23.70</td>\n      <td>22.30</td>\n      <td>23.2</td>\n    </tr>\n    <tr>\n      <th>20</th>\n      <td>Netherlands</td>\n      <td>16.4</td>\n      <td>16.4</td>\n      <td>15.1</td>\n      <td>15.40</td>\n      <td>15.80</td>\n      <td>14.9</td>\n    </tr>\n    <tr>\n      <th>21</th>\n      <td>Poland</td>\n      <td>23.5</td>\n      <td>17.8</td>\n      <td>16.9</td>\n      <td>16.20</td>\n      <td>16.10</td>\n      <td>16.5</td>\n    </tr>\n    <tr>\n      <th>22</th>\n      <td>Portugal</td>\n      <td>27.5</td>\n      <td>24.6</td>\n      <td>22.4</td>\n      <td>21.90</td>\n      <td>21.90</td>\n      <td>22.9</td>\n    </tr>\n    <tr>\n      <th>23</th>\n      <td>Romania</td>\n      <td>56.0</td>\n      <td>48.7</td>\n      <td>44.2</td>\n      <td>39.10</td>\n      <td>40.70</td>\n      <td>41.7</td>\n    </tr>\n    <tr>\n      <th>24</th>\n      <td>Sweden</td>\n      <td>19.7</td>\n      <td>19.4</td>\n      <td>20.5</td>\n      <td>23.00</td>\n      <td>20.20</td>\n      <td>19.7</td>\n    </tr>\n    <tr>\n      <th>25</th>\n      <td>Slovenia</td>\n      <td>14.5</td>\n      <td>15.6</td>\n      <td>13.1</td>\n      <td>11.60</td>\n      <td>12.10</td>\n      <td>11.0</td>\n    </tr>\n    <tr>\n      <th>26</th>\n      <td>Slovakia</td>\n      <td>24.5</td>\n      <td>22.7</td>\n      <td>23.3</td>\n      <td>21.00</td>\n      <td>18.40</td>\n      <td>19.7</td>\n    </tr>\n  </tbody>\n</table>\n</div>"
     },
     "metadata": {},
     "output_type": "display_data"
    }
   ],
   "source": [
    "poverty_df = clean_interpolate(poverty_df, \"geo\")\n",
    "\n",
    "display(poverty_df)"
   ],
   "metadata": {
    "collapsed": false,
    "ExecuteTime": {
     "end_time": "2023-10-23T14:16:43.724371Z",
     "start_time": "2023-10-23T14:16:43.635455700Z"
    }
   },
   "id": "c395ca9cb1ad59a"
  },
  {
   "cell_type": "markdown",
   "source": [
    "I dati sono stati interpolati linearmente, ma non è detto che sia la scelta migliore.\n",
    "\n",
    "I dati sono fortini in percentuale alla popolazione locale del paese. È necessaraio effettuare una normalizzazione per avere un confronto tra i paesi, portando quindi tutti i dati nel formato: ogni 100.000 abitanti."
   ],
   "metadata": {
    "collapsed": false
   },
   "id": "efe3572ff478c6c8"
  },
  {
   "cell_type": "code",
   "execution_count": 78,
   "outputs": [
    {
     "data": {
      "text/plain": "          geo  year    poverty\n0     Austria  2016  17.835966\n1     Belgium  2016  26.581125\n2    Bulgaria  2016  30.332044\n3      Cyprus  2016   1.968100\n4     Czechia  2016  17.308303\n..        ...   ...        ...\n157  Portugal  2021  23.582997\n158   Romania  2021  80.070931\n159    Sweden  2021  20.447211\n160  Slovenia  2021   2.319875\n161  Slovakia  2021  10.755769\n\n[162 rows x 3 columns]",
      "text/html": "<div>\n<style scoped>\n    .dataframe tbody tr th:only-of-type {\n        vertical-align: middle;\n    }\n\n    .dataframe tbody tr th {\n        vertical-align: top;\n    }\n\n    .dataframe thead th {\n        text-align: right;\n    }\n</style>\n<table border=\"1\" class=\"dataframe\">\n  <thead>\n    <tr style=\"text-align: right;\">\n      <th></th>\n      <th>geo</th>\n      <th>year</th>\n      <th>poverty</th>\n    </tr>\n  </thead>\n  <tbody>\n    <tr>\n      <th>0</th>\n      <td>Austria</td>\n      <td>2016</td>\n      <td>17.835966</td>\n    </tr>\n    <tr>\n      <th>1</th>\n      <td>Belgium</td>\n      <td>2016</td>\n      <td>26.581125</td>\n    </tr>\n    <tr>\n      <th>2</th>\n      <td>Bulgaria</td>\n      <td>2016</td>\n      <td>30.332044</td>\n    </tr>\n    <tr>\n      <th>3</th>\n      <td>Cyprus</td>\n      <td>2016</td>\n      <td>1.968100</td>\n    </tr>\n    <tr>\n      <th>4</th>\n      <td>Czechia</td>\n      <td>2016</td>\n      <td>17.308303</td>\n    </tr>\n    <tr>\n      <th>...</th>\n      <td>...</td>\n      <td>...</td>\n      <td>...</td>\n    </tr>\n    <tr>\n      <th>157</th>\n      <td>Portugal</td>\n      <td>2021</td>\n      <td>23.582997</td>\n    </tr>\n    <tr>\n      <th>158</th>\n      <td>Romania</td>\n      <td>2021</td>\n      <td>80.070931</td>\n    </tr>\n    <tr>\n      <th>159</th>\n      <td>Sweden</td>\n      <td>2021</td>\n      <td>20.447211</td>\n    </tr>\n    <tr>\n      <th>160</th>\n      <td>Slovenia</td>\n      <td>2021</td>\n      <td>2.319875</td>\n    </tr>\n    <tr>\n      <th>161</th>\n      <td>Slovakia</td>\n      <td>2021</td>\n      <td>10.755769</td>\n    </tr>\n  </tbody>\n</table>\n<p>162 rows × 3 columns</p>\n</div>"
     },
     "metadata": {},
     "output_type": "display_data"
    }
   ],
   "source": [
    "poverty_df = convert_to_ht(population_df, poverty_df)\n",
    "\n",
    "poverty_df = poverty_df.melt(id_vars=[\"geo\"], var_name=\"year\", value_name=\"poverty\")\n",
    "\n",
    "display(poverty_df)"
   ],
   "metadata": {
    "collapsed": false,
    "ExecuteTime": {
     "end_time": "2023-10-23T14:16:43.725367800Z",
     "start_time": "2023-10-23T14:16:43.658671600Z"
    }
   },
   "id": "f1e01d8f95165388"
  },
  {
   "cell_type": "markdown",
   "source": [
    "### Altro dataset: NEET, Not in Education, Employment or Training\n",
    "\n",
    "[Young people neither in employment nor in education and training by sex (NEET)](https://ec.europa.eu/eurostat/databrowser/view/sdg_08_20__custom_7848499/default/table?lang=en)\n",
    "\n",
    "- Age: 15-29 years\n",
    "- Time: 2016-2021\n",
    "- Unit: percentage"
   ],
   "metadata": {
    "collapsed": false
   },
   "id": "8399226f5e29bbd2"
  },
  {
   "cell_type": "code",
   "execution_count": 79,
   "outputs": [],
   "source": [
    "neet_df = pandas.read_table('data/sdg/sdg_08_20.tsv')\n",
    "\n",
    "#display(neet_df)"
   ],
   "metadata": {
    "collapsed": false,
    "ExecuteTime": {
     "end_time": "2023-10-23T14:16:43.725367800Z",
     "start_time": "2023-10-23T14:16:43.668647700Z"
    }
   },
   "id": "7f50c057555b0576"
  },
  {
   "cell_type": "code",
   "execution_count": 80,
   "outputs": [
    {
     "data": {
      "text/plain": "          geo  year       neet\n0     Austria  2016   8.091438\n1     Belgium  2016  13.799563\n2    Bulgaria  2016  16.024476\n3      Cyprus  2016   1.526974\n4     Czechia  2016  11.714766\n..        ...   ...        ...\n157  Portugal  2021   9.783339\n158   Romania  2021  38.979374\n159    Sweden  2021   6.227577\n160  Slovenia  2021   1.539553\n161  Slovakia  2021   7.752889\n\n[162 rows x 3 columns]",
      "text/html": "<div>\n<style scoped>\n    .dataframe tbody tr th:only-of-type {\n        vertical-align: middle;\n    }\n\n    .dataframe tbody tr th {\n        vertical-align: top;\n    }\n\n    .dataframe thead th {\n        text-align: right;\n    }\n</style>\n<table border=\"1\" class=\"dataframe\">\n  <thead>\n    <tr style=\"text-align: right;\">\n      <th></th>\n      <th>geo</th>\n      <th>year</th>\n      <th>neet</th>\n    </tr>\n  </thead>\n  <tbody>\n    <tr>\n      <th>0</th>\n      <td>Austria</td>\n      <td>2016</td>\n      <td>8.091438</td>\n    </tr>\n    <tr>\n      <th>1</th>\n      <td>Belgium</td>\n      <td>2016</td>\n      <td>13.799563</td>\n    </tr>\n    <tr>\n      <th>2</th>\n      <td>Bulgaria</td>\n      <td>2016</td>\n      <td>16.024476</td>\n    </tr>\n    <tr>\n      <th>3</th>\n      <td>Cyprus</td>\n      <td>2016</td>\n      <td>1.526974</td>\n    </tr>\n    <tr>\n      <th>4</th>\n      <td>Czechia</td>\n      <td>2016</td>\n      <td>11.714766</td>\n    </tr>\n    <tr>\n      <th>...</th>\n      <td>...</td>\n      <td>...</td>\n      <td>...</td>\n    </tr>\n    <tr>\n      <th>157</th>\n      <td>Portugal</td>\n      <td>2021</td>\n      <td>9.783339</td>\n    </tr>\n    <tr>\n      <th>158</th>\n      <td>Romania</td>\n      <td>2021</td>\n      <td>38.979374</td>\n    </tr>\n    <tr>\n      <th>159</th>\n      <td>Sweden</td>\n      <td>2021</td>\n      <td>6.227577</td>\n    </tr>\n    <tr>\n      <th>160</th>\n      <td>Slovenia</td>\n      <td>2021</td>\n      <td>1.539553</td>\n    </tr>\n    <tr>\n      <th>161</th>\n      <td>Slovakia</td>\n      <td>2021</td>\n      <td>7.752889</td>\n    </tr>\n  </tbody>\n</table>\n<p>162 rows × 3 columns</p>\n</div>"
     },
     "metadata": {},
     "output_type": "display_data"
    }
   ],
   "source": [
    "split = neet_df[\"freq,sex,age,unit,geo\\\\TIME_PERIOD\"].str.split(\",\", expand=True)\n",
    "split.drop(columns=[0, 1, 2, 3], inplace=True)\n",
    "split.columns = [\"geo\"]\n",
    "\n",
    "neet_df = pd.concat([neet_df, split], axis=1)\n",
    "neet_df.drop(columns=[\"freq,sex,age,unit,geo\\\\TIME_PERIOD\"], axis=1, inplace=True)\n",
    "neet_df = neet_df.iloc[:, ::-1]\n",
    "neet_df.rename(columns=lambda x: x.strip(), inplace=True)\n",
    "neet_df[\"geo\"] = neet_df[\"geo\"].map(geo_dict)\n",
    "\n",
    "# Clean and interpolate the data\n",
    "neet_df = clean_interpolate(neet_df, \"geo\")\n",
    "# Convert to per 100.000 inhabitants\n",
    "neet_df = convert_to_ht(population_df, neet_df)\n",
    "\n",
    "neet_df = neet_df.melt(id_vars=[\"geo\"], var_name=\"year\", value_name=\"neet\")\n",
    "display(neet_df)"
   ],
   "metadata": {
    "collapsed": false,
    "ExecuteTime": {
     "end_time": "2023-10-23T14:16:43.776075500Z",
     "start_time": "2023-10-23T14:16:43.679617600Z"
    }
   },
   "id": "e87d82fc43bd3a35"
  },
  {
   "cell_type": "markdown",
   "source": [
    "### Altro dataset: Tertiary educational attainment by sex\n",
    "\n",
    "[Tertiary educational attainment by sex](https://ec.europa.eu/eurostat/databrowser/view/sdg_04_20__custom_7957119/default/table?lang=en)\n",
    "\n",
    "Legenda:\n",
    "- Age: 25-34 years\n",
    "- Unit: percentage \n",
    "- Time frequency: Annual"
   ],
   "metadata": {
    "collapsed": false
   },
   "id": "618dab6081b08241"
  },
  {
   "cell_type": "code",
   "execution_count": 81,
   "outputs": [],
   "source": [
    "education_df = pandas.read_table('data/sdg/sdg_04_20.tsv')\n",
    "\n",
    "#display(education_df)"
   ],
   "metadata": {
    "collapsed": false,
    "ExecuteTime": {
     "end_time": "2023-10-23T14:16:43.776075500Z",
     "start_time": "2023-10-23T14:16:43.698531700Z"
    }
   },
   "id": "a2ae06f37792b939"
  },
  {
   "cell_type": "code",
   "execution_count": 82,
   "outputs": [
    {
     "data": {
      "text/plain": "          geo  year  education\n0     Austria  2016       39.7\n1     Belgium  2016       44.3\n2    Bulgaria  2016       32.8\n3      Cyprus  2016       56.2\n4     Czechia  2016       32.6\n..        ...   ...        ...\n157  Portugal  2021       41.9\n158   Romania  2021       24.9\n159    Sweden  2021       49.2\n160  Slovenia  2021       45.4\n161  Slovakia  2021       39.0\n\n[162 rows x 3 columns]",
      "text/html": "<div>\n<style scoped>\n    .dataframe tbody tr th:only-of-type {\n        vertical-align: middle;\n    }\n\n    .dataframe tbody tr th {\n        vertical-align: top;\n    }\n\n    .dataframe thead th {\n        text-align: right;\n    }\n</style>\n<table border=\"1\" class=\"dataframe\">\n  <thead>\n    <tr style=\"text-align: right;\">\n      <th></th>\n      <th>geo</th>\n      <th>year</th>\n      <th>education</th>\n    </tr>\n  </thead>\n  <tbody>\n    <tr>\n      <th>0</th>\n      <td>Austria</td>\n      <td>2016</td>\n      <td>39.7</td>\n    </tr>\n    <tr>\n      <th>1</th>\n      <td>Belgium</td>\n      <td>2016</td>\n      <td>44.3</td>\n    </tr>\n    <tr>\n      <th>2</th>\n      <td>Bulgaria</td>\n      <td>2016</td>\n      <td>32.8</td>\n    </tr>\n    <tr>\n      <th>3</th>\n      <td>Cyprus</td>\n      <td>2016</td>\n      <td>56.2</td>\n    </tr>\n    <tr>\n      <th>4</th>\n      <td>Czechia</td>\n      <td>2016</td>\n      <td>32.6</td>\n    </tr>\n    <tr>\n      <th>...</th>\n      <td>...</td>\n      <td>...</td>\n      <td>...</td>\n    </tr>\n    <tr>\n      <th>157</th>\n      <td>Portugal</td>\n      <td>2021</td>\n      <td>41.9</td>\n    </tr>\n    <tr>\n      <th>158</th>\n      <td>Romania</td>\n      <td>2021</td>\n      <td>24.9</td>\n    </tr>\n    <tr>\n      <th>159</th>\n      <td>Sweden</td>\n      <td>2021</td>\n      <td>49.2</td>\n    </tr>\n    <tr>\n      <th>160</th>\n      <td>Slovenia</td>\n      <td>2021</td>\n      <td>45.4</td>\n    </tr>\n    <tr>\n      <th>161</th>\n      <td>Slovakia</td>\n      <td>2021</td>\n      <td>39.0</td>\n    </tr>\n  </tbody>\n</table>\n<p>162 rows × 3 columns</p>\n</div>"
     },
     "metadata": {},
     "output_type": "display_data"
    }
   ],
   "source": [
    "split = education_df[\"freq,sex,age,unit,isced11,geo\\\\TIME_PERIOD\"].str.split(\",\", expand=True)\n",
    "split.drop(columns=[0, 1, 2, 3, 4], inplace=True)\n",
    "split.columns = [\"geo\"]\n",
    "\n",
    "education_df = pd.concat([education_df, split], axis=1)\n",
    "education_df.drop(columns=[\"freq,sex,age,unit,isced11,geo\\\\TIME_PERIOD\"], axis=1, inplace=True)\n",
    "education_df.rename(columns=lambda x: x.strip(), inplace=True)\n",
    "education_df[\"geo\"] = education_df[\"geo\"].map(geo_dict)\n",
    "\n",
    "# Clean and interpolate the data\n",
    "education_df = clean_interpolate(education_df, \"geo\")\n",
    "# Convert to per 100.000 inhabitants\n",
    "#education_df = convert_to_ht(population_df, education_df)\n",
    "\n",
    "education_df = education_df.melt(id_vars=[\"geo\"], var_name=\"year\", value_name=\"education\")\n",
    "display(education_df)"
   ],
   "metadata": {
    "collapsed": false,
    "ExecuteTime": {
     "end_time": "2023-10-23T14:16:43.793754200Z",
     "start_time": "2023-10-23T14:16:43.708412800Z"
    }
   },
   "id": "5d4ad64f231bda63"
  },
  {
   "cell_type": "markdown",
   "source": [
    "### Altro dataset: Income quintile share ratio (S80/S50)\n",
    "[Income quintile share ratio (S80/S20)](https://ec.europa.eu/eurostat/databrowser/view/ilc_di11__custom_7950467/default/table?lang=en)\n",
    "\n",
    "[Explenatory texts](https://ec.europa.eu/eurostat/cache/metadata/en/ilc_sieusilc.htm)\n",
    "The data are flagged when it is needed. The following flags are used:\n",
    " (b)  Break in series (i.e. change of source or change of methodology from that used in preceding year); !\n",
    " \n",
    " Indicatore statistico che viene spesso utilizzato nell'analisi economica e sociale per misurare la distribuzione del reddito o del reddito disponibile tra diversi gruppi demografici all'interno di una popolazione. \n",
    " In questo caso il dataset descrive il rapporto calcolato tra il quintile più ricco (S80) e il quintile mediano (S50). \n",
    " Questo significa che si sta confrontando il 20% più ricco della popolazione con il 50% mediano, il che offre una visione della disuguaglianza tra i redditi più alti e il reddito mediano.\n"
   ],
   "metadata": {
    "collapsed": false
   },
   "id": "9fbc5349c05da0a5"
  },
  {
   "cell_type": "code",
   "execution_count": 83,
   "outputs": [
    {
     "data": {
      "text/plain": "          geo  year  inequity\n0     Austria  2016      4.09\n1     Belgium  2016      3.85\n2    Bulgaria  2016      8.23\n3      Cyprus  2016      4.88\n4     Czechia  2016      3.50\n..        ...   ...       ...\n157  Portugal  2021      5.66\n158   Romania  2021      7.14\n159    Sweden  2021      4.04\n160  Slovenia  2021      3.24\n161  Slovakia  2021      3.20\n\n[162 rows x 3 columns]",
      "text/html": "<div>\n<style scoped>\n    .dataframe tbody tr th:only-of-type {\n        vertical-align: middle;\n    }\n\n    .dataframe tbody tr th {\n        vertical-align: top;\n    }\n\n    .dataframe thead th {\n        text-align: right;\n    }\n</style>\n<table border=\"1\" class=\"dataframe\">\n  <thead>\n    <tr style=\"text-align: right;\">\n      <th></th>\n      <th>geo</th>\n      <th>year</th>\n      <th>inequity</th>\n    </tr>\n  </thead>\n  <tbody>\n    <tr>\n      <th>0</th>\n      <td>Austria</td>\n      <td>2016</td>\n      <td>4.09</td>\n    </tr>\n    <tr>\n      <th>1</th>\n      <td>Belgium</td>\n      <td>2016</td>\n      <td>3.85</td>\n    </tr>\n    <tr>\n      <th>2</th>\n      <td>Bulgaria</td>\n      <td>2016</td>\n      <td>8.23</td>\n    </tr>\n    <tr>\n      <th>3</th>\n      <td>Cyprus</td>\n      <td>2016</td>\n      <td>4.88</td>\n    </tr>\n    <tr>\n      <th>4</th>\n      <td>Czechia</td>\n      <td>2016</td>\n      <td>3.50</td>\n    </tr>\n    <tr>\n      <th>...</th>\n      <td>...</td>\n      <td>...</td>\n      <td>...</td>\n    </tr>\n    <tr>\n      <th>157</th>\n      <td>Portugal</td>\n      <td>2021</td>\n      <td>5.66</td>\n    </tr>\n    <tr>\n      <th>158</th>\n      <td>Romania</td>\n      <td>2021</td>\n      <td>7.14</td>\n    </tr>\n    <tr>\n      <th>159</th>\n      <td>Sweden</td>\n      <td>2021</td>\n      <td>4.04</td>\n    </tr>\n    <tr>\n      <th>160</th>\n      <td>Slovenia</td>\n      <td>2021</td>\n      <td>3.24</td>\n    </tr>\n    <tr>\n      <th>161</th>\n      <td>Slovakia</td>\n      <td>2021</td>\n      <td>3.20</td>\n    </tr>\n  </tbody>\n</table>\n<p>162 rows × 3 columns</p>\n</div>"
     },
     "metadata": {},
     "output_type": "display_data"
    }
   ],
   "source": [
    "inequity_df = pandas.read_table('data/population/ilc_di11.tsv')\n",
    "\n",
    "split = inequity_df[\"freq,age,sex,unit,geo\\\\TIME_PERIOD\"].str.split(\",\", expand=True)\n",
    "split.drop(columns=[0, 1, 2, 3], inplace=True)\n",
    "split.columns = [\"geo\"]\n",
    "\n",
    "inequity_df = pd.concat([inequity_df, split], axis=1)\n",
    "inequity_df.drop(columns=[\"freq,age,sex,unit,geo\\\\TIME_PERIOD\"], axis=1, inplace=True)\n",
    "inequity_df.rename(columns=lambda x: x.strip(), inplace=True)\n",
    "inequity_df[\"geo\"] = inequity_df[\"geo\"].map(geo_dict)\n",
    "\n",
    "# Clean and interpolate the data\n",
    "inequity_df = clean_interpolate(inequity_df, \"geo\") # Non necessario !\n",
    "\n",
    "inequity_df = inequity_df.melt(id_vars=[\"geo\"], var_name=\"year\", value_name=\"inequity\")\n",
    "display(inequity_df)"
   ],
   "metadata": {
    "collapsed": false,
    "ExecuteTime": {
     "end_time": "2023-10-23T14:16:43.807716900Z",
     "start_time": "2023-10-23T14:16:43.729283200Z"
    }
   },
   "id": "24afee065e23bba0"
  },
  {
   "cell_type": "markdown",
   "source": [
    " \n",
    "### Altro dataset: Median income by age and sex\n",
    "Da vedere\n",
    "[link](https://ec.europa.eu/eurostat/databrowser/view/ilc_di03__custom_7988486/default/table?lang=en)"
   ],
   "metadata": {
    "collapsed": false
   },
   "id": "130095aea1e2fcba"
  },
  {
   "cell_type": "code",
   "execution_count": 84,
   "outputs": [
    {
     "data": {
      "text/plain": "          geo  year   income\n0     Austria  2016  24400.0\n1     Belgium  2016  22267.0\n2    Bulgaria  2016   3649.0\n3      Cyprus  2016  14132.0\n4     Czechia  2016   7905.0\n..        ...   ...      ...\n157  Portugal  2021  11115.0\n158   Romania  2021   4914.0\n159    Sweden  2021  25925.0\n160  Slovenia  2021  15415.0\n161  Slovakia  2021   8744.0\n\n[162 rows x 3 columns]",
      "text/html": "<div>\n<style scoped>\n    .dataframe tbody tr th:only-of-type {\n        vertical-align: middle;\n    }\n\n    .dataframe tbody tr th {\n        vertical-align: top;\n    }\n\n    .dataframe thead th {\n        text-align: right;\n    }\n</style>\n<table border=\"1\" class=\"dataframe\">\n  <thead>\n    <tr style=\"text-align: right;\">\n      <th></th>\n      <th>geo</th>\n      <th>year</th>\n      <th>income</th>\n    </tr>\n  </thead>\n  <tbody>\n    <tr>\n      <th>0</th>\n      <td>Austria</td>\n      <td>2016</td>\n      <td>24400.0</td>\n    </tr>\n    <tr>\n      <th>1</th>\n      <td>Belgium</td>\n      <td>2016</td>\n      <td>22267.0</td>\n    </tr>\n    <tr>\n      <th>2</th>\n      <td>Bulgaria</td>\n      <td>2016</td>\n      <td>3649.0</td>\n    </tr>\n    <tr>\n      <th>3</th>\n      <td>Cyprus</td>\n      <td>2016</td>\n      <td>14132.0</td>\n    </tr>\n    <tr>\n      <th>4</th>\n      <td>Czechia</td>\n      <td>2016</td>\n      <td>7905.0</td>\n    </tr>\n    <tr>\n      <th>...</th>\n      <td>...</td>\n      <td>...</td>\n      <td>...</td>\n    </tr>\n    <tr>\n      <th>157</th>\n      <td>Portugal</td>\n      <td>2021</td>\n      <td>11115.0</td>\n    </tr>\n    <tr>\n      <th>158</th>\n      <td>Romania</td>\n      <td>2021</td>\n      <td>4914.0</td>\n    </tr>\n    <tr>\n      <th>159</th>\n      <td>Sweden</td>\n      <td>2021</td>\n      <td>25925.0</td>\n    </tr>\n    <tr>\n      <th>160</th>\n      <td>Slovenia</td>\n      <td>2021</td>\n      <td>15415.0</td>\n    </tr>\n    <tr>\n      <th>161</th>\n      <td>Slovakia</td>\n      <td>2021</td>\n      <td>8744.0</td>\n    </tr>\n  </tbody>\n</table>\n<p>162 rows × 3 columns</p>\n</div>"
     },
     "metadata": {},
     "output_type": "display_data"
    }
   ],
   "source": [
    "income_df = pandas.read_table('data/population/ilc_di03.tsv')\n",
    "\n",
    "split = income_df[\"freq,age,sex,indic_il,unit,geo\\\\TIME_PERIOD\"].str.split(\",\", expand=True)\n",
    "split.drop(columns=[0, 1, 2, 3, 4], inplace=True)\n",
    "split.columns = [\"geo\"]\n",
    "\n",
    "income_df = pd.concat([income_df, split], axis=1)\n",
    "income_df.drop(columns=[\"freq,age,sex,indic_il,unit,geo\\\\TIME_PERIOD\"], axis=1, inplace=True)\n",
    "income_df.rename(columns=lambda x: x.strip(), inplace=True)\n",
    "income_df[\"geo\"] = income_df[\"geo\"].map(geo_dict)\n",
    "\n",
    "# Clean and interpolate the data\n",
    "income_df = clean_interpolate(income_df, \"geo\")\n",
    "\n",
    "income_df = income_df.melt(id_vars=[\"geo\"], var_name=\"year\", value_name=\"income\")\n",
    "display(income_df)"
   ],
   "metadata": {
    "collapsed": false,
    "ExecuteTime": {
     "end_time": "2023-10-23T14:16:43.890626500Z",
     "start_time": "2023-10-23T14:16:43.750139900Z"
    }
   },
   "id": "f9869ffa221cd809"
  },
  {
   "cell_type": "markdown",
   "source": [
    "# Costruzione del o dei dataset finali per l'analisi\n",
    "### Dataset Generale"
   ],
   "metadata": {
    "collapsed": false
   },
   "id": "d1aebad5e72b8ea1"
  },
  {
   "cell_type": "code",
   "execution_count": 85,
   "outputs": [
    {
     "data": {
      "text/plain": "          geo  year     theft    poverty       neet  education   income   \n0     Austria  2016  1651.67   17.835966   8.091438       39.7  24400.0  \\\n1     Belgium  2016  2055.54   26.581125  13.799563       44.3  22267.0   \n2    Bulgaria  2016   457.48   30.332044  16.024476       32.8   3649.0   \n3      Cyprus  2016    86.17    1.968100   1.526974       56.2  14132.0   \n4     Czechia  2016   674.86   17.308303  11.714766       32.6   7905.0   \n..        ...   ...       ...        ...        ...        ...      ...   \n157  Portugal  2021    621.02  23.582997   9.783339       41.9  11115.0   \n158   Romania  2021    471.44  80.070931  38.979374       24.9   4914.0   \n159    Sweden  2021   2784.26  20.447211   6.227577       49.2  25925.0   \n160  Slovenia  2021    634.76   2.319875   1.539553       45.4  15415.0   \n161  Slovakia  2021    179.48  10.755769   7.752889       39.0   8744.0   \n\n     inequity  \n0        4.09  \n1        3.85  \n2        8.23  \n3        4.88  \n4        3.50  \n..        ...  \n157      5.66  \n158      7.14  \n159      4.04  \n160      3.24  \n161      3.20  \n\n[162 rows x 8 columns]",
      "text/html": "<div>\n<style scoped>\n    .dataframe tbody tr th:only-of-type {\n        vertical-align: middle;\n    }\n\n    .dataframe tbody tr th {\n        vertical-align: top;\n    }\n\n    .dataframe thead th {\n        text-align: right;\n    }\n</style>\n<table border=\"1\" class=\"dataframe\">\n  <thead>\n    <tr style=\"text-align: right;\">\n      <th></th>\n      <th>geo</th>\n      <th>year</th>\n      <th>theft</th>\n      <th>poverty</th>\n      <th>neet</th>\n      <th>education</th>\n      <th>income</th>\n      <th>inequity</th>\n    </tr>\n  </thead>\n  <tbody>\n    <tr>\n      <th>0</th>\n      <td>Austria</td>\n      <td>2016</td>\n      <td>1651.67</td>\n      <td>17.835966</td>\n      <td>8.091438</td>\n      <td>39.7</td>\n      <td>24400.0</td>\n      <td>4.09</td>\n    </tr>\n    <tr>\n      <th>1</th>\n      <td>Belgium</td>\n      <td>2016</td>\n      <td>2055.54</td>\n      <td>26.581125</td>\n      <td>13.799563</td>\n      <td>44.3</td>\n      <td>22267.0</td>\n      <td>3.85</td>\n    </tr>\n    <tr>\n      <th>2</th>\n      <td>Bulgaria</td>\n      <td>2016</td>\n      <td>457.48</td>\n      <td>30.332044</td>\n      <td>16.024476</td>\n      <td>32.8</td>\n      <td>3649.0</td>\n      <td>8.23</td>\n    </tr>\n    <tr>\n      <th>3</th>\n      <td>Cyprus</td>\n      <td>2016</td>\n      <td>86.17</td>\n      <td>1.968100</td>\n      <td>1.526974</td>\n      <td>56.2</td>\n      <td>14132.0</td>\n      <td>4.88</td>\n    </tr>\n    <tr>\n      <th>4</th>\n      <td>Czechia</td>\n      <td>2016</td>\n      <td>674.86</td>\n      <td>17.308303</td>\n      <td>11.714766</td>\n      <td>32.6</td>\n      <td>7905.0</td>\n      <td>3.50</td>\n    </tr>\n    <tr>\n      <th>...</th>\n      <td>...</td>\n      <td>...</td>\n      <td>...</td>\n      <td>...</td>\n      <td>...</td>\n      <td>...</td>\n      <td>...</td>\n      <td>...</td>\n    </tr>\n    <tr>\n      <th>157</th>\n      <td>Portugal</td>\n      <td>2021</td>\n      <td>621.02</td>\n      <td>23.582997</td>\n      <td>9.783339</td>\n      <td>41.9</td>\n      <td>11115.0</td>\n      <td>5.66</td>\n    </tr>\n    <tr>\n      <th>158</th>\n      <td>Romania</td>\n      <td>2021</td>\n      <td>471.44</td>\n      <td>80.070931</td>\n      <td>38.979374</td>\n      <td>24.9</td>\n      <td>4914.0</td>\n      <td>7.14</td>\n    </tr>\n    <tr>\n      <th>159</th>\n      <td>Sweden</td>\n      <td>2021</td>\n      <td>2784.26</td>\n      <td>20.447211</td>\n      <td>6.227577</td>\n      <td>49.2</td>\n      <td>25925.0</td>\n      <td>4.04</td>\n    </tr>\n    <tr>\n      <th>160</th>\n      <td>Slovenia</td>\n      <td>2021</td>\n      <td>634.76</td>\n      <td>2.319875</td>\n      <td>1.539553</td>\n      <td>45.4</td>\n      <td>15415.0</td>\n      <td>3.24</td>\n    </tr>\n    <tr>\n      <th>161</th>\n      <td>Slovakia</td>\n      <td>2021</td>\n      <td>179.48</td>\n      <td>10.755769</td>\n      <td>7.752889</td>\n      <td>39.0</td>\n      <td>8744.0</td>\n      <td>3.20</td>\n    </tr>\n  </tbody>\n</table>\n<p>162 rows × 8 columns</p>\n</div>"
     },
     "metadata": {},
     "output_type": "display_data"
    }
   ],
   "source": [
    "# Merge dei dataset\n",
    "\n",
    "theft_df = pd.merge(theft_df, poverty_df, on=[\"geo\", \"year\"])\n",
    "theft_df = pd.merge(theft_df, neet_df, on=[\"geo\", \"year\"])\n",
    "theft_df = pd.merge(theft_df, education_df, on=[\"geo\", \"year\"])\n",
    "theft_df = pd.merge(theft_df, income_df, on=[\"geo\", \"year\"])\n",
    "theft_df = pd.merge(theft_df, inequity_df, on=[\"geo\", \"year\"])\n",
    "\n",
    "theft_df.to_csv(\"data/theft_df.csv\", index=False)\n",
    "\n",
    "display(theft_df)"
   ],
   "metadata": {
    "collapsed": false,
    "ExecuteTime": {
     "end_time": "2023-10-23T14:16:43.893624300Z",
     "start_time": "2023-10-23T14:16:43.771090200Z"
    }
   },
   "id": "3c67933501a67580"
  },
  {
   "cell_type": "code",
   "execution_count": 85,
   "outputs": [],
   "source": [],
   "metadata": {
    "collapsed": false,
    "ExecuteTime": {
     "end_time": "2023-10-23T14:16:43.893624300Z",
     "start_time": "2023-10-23T14:16:43.790257700Z"
    }
   },
   "id": "f59687b3dd801557"
  }
 ],
 "metadata": {
  "kernelspec": {
   "display_name": "Python 3",
   "language": "python",
   "name": "python3"
  },
  "language_info": {
   "codemirror_mode": {
    "name": "ipython",
    "version": 2
   },
   "file_extension": ".py",
   "mimetype": "text/x-python",
   "name": "python",
   "nbconvert_exporter": "python",
   "pygments_lexer": "ipython2",
   "version": "2.7.6"
  }
 },
 "nbformat": 4,
 "nbformat_minor": 5
}
